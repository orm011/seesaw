{
 "cells": [
  {
   "cell_type": "code",
   "execution_count": 1,
   "id": "thorough-garage",
   "metadata": {
    "ExecuteTime": {
     "end_time": "2021-10-15T15:58:24.980641Z",
     "start_time": "2021-10-15T15:58:24.951937Z"
    }
   },
   "outputs": [],
   "source": [
    "%load_ext autoreload"
   ]
  },
  {
   "cell_type": "code",
   "execution_count": 2,
   "id": "charitable-jewel",
   "metadata": {
    "ExecuteTime": {
     "end_time": "2021-10-15T15:58:25.158213Z",
     "start_time": "2021-10-15T15:58:25.152422Z"
    }
   },
   "outputs": [],
   "source": [
    "%autoreload 2"
   ]
  },
  {
   "cell_type": "code",
   "execution_count": 3,
   "id": "adapted-convertible",
   "metadata": {
    "ExecuteTime": {
     "end_time": "2021-10-15T15:58:25.310426Z",
     "start_time": "2021-10-15T15:58:25.292985Z"
    }
   },
   "outputs": [],
   "source": [
    "import importlib"
   ]
  },
  {
   "cell_type": "code",
   "execution_count": 7,
   "id": "technical-accent",
   "metadata": {
    "ExecuteTime": {
     "end_time": "2021-10-15T15:58:32.879593Z",
     "start_time": "2021-10-15T15:58:30.107059Z"
    }
   },
   "outputs": [],
   "source": [
    "import seesaw\n",
    "import torch\n",
    "import torch.nn as nn"
   ]
  },
  {
   "cell_type": "code",
   "execution_count": 8,
   "id": "continued-responsibility",
   "metadata": {
    "ExecuteTime": {
     "end_time": "2021-10-15T15:58:32.915705Z",
     "start_time": "2021-10-15T15:58:32.881307Z"
    }
   },
   "outputs": [],
   "source": [
    "import clip"
   ]
  },
  {
   "cell_type": "code",
   "execution_count": 10,
   "id": "instant-ireland",
   "metadata": {
    "ExecuteTime": {
     "end_time": "2021-10-15T15:58:36.338291Z",
     "start_time": "2021-10-15T15:58:36.291611Z"
    }
   },
   "outputs": [],
   "source": [
    "from seesaw import *"
   ]
  },
  {
   "cell_type": "code",
   "execution_count": 11,
   "id": "legal-gross",
   "metadata": {
    "ExecuteTime": {
     "end_time": "2021-10-15T15:58:38.033914Z",
     "start_time": "2021-10-15T15:58:37.986289Z"
    }
   },
   "outputs": [],
   "source": [
    "import copy"
   ]
  },
  {
   "cell_type": "code",
   "execution_count": 12,
   "id": "naval-restaurant",
   "metadata": {
    "ExecuteTime": {
     "end_time": "2021-10-15T15:58:47.048187Z",
     "start_time": "2021-10-15T15:58:46.998540Z"
    }
   },
   "outputs": [],
   "source": [
    "def load_model():\n",
    "    variant =\"ViT-B/32\"\n",
    "    jit = False\n",
    "    model,_ = clip.load(variant, device='cpu',  jit=jit)\n",
    "    return model"
   ]
  },
  {
   "cell_type": "code",
   "execution_count": 13,
   "id": "significant-gathering",
   "metadata": {
    "ExecuteTime": {
     "end_time": "2021-10-15T15:58:59.129847Z",
     "start_time": "2021-10-15T15:58:56.423797Z"
    }
   },
   "outputs": [],
   "source": [
    "mod = load_model()"
   ]
  },
  {
   "cell_type": "code",
   "execution_count": 18,
   "id": "circular-superior",
   "metadata": {
    "ExecuteTime": {
     "end_time": "2021-10-15T16:05:53.010072Z",
     "start_time": "2021-10-15T16:05:52.933096Z"
    }
   },
   "outputs": [],
   "source": [
    "class StringEncoder(object):\n",
    "    def __init__(self, model, device):\n",
    "        self.device = device #next(iter(clean_weights.items()))[1].device\n",
    "        self.model = model.to(device)\n",
    "        self.original_weights = copy.deepcopy(model.state_dict())\n",
    "        self.reset() # dont update the original model\n",
    "        \n",
    "    def encode_string(self, string):\n",
    "        model = self.model.eval()\n",
    "        with torch.no_grad():\n",
    "            ttext = clip.tokenize([string])\n",
    "            text_features = model.encode_text(ttext.to(self.device))\n",
    "            text_features = text_features / text_features.norm(dim=-1, keepdim=True)\n",
    "            return text_features.detach().cpu().numpy()\n",
    "        \n",
    "    def reset(self):\n",
    "        self.model.load_state_dict(copy.deepcopy(self.original_weights))\n",
    "\n",
    "\n",
    "# class TextFeatures(object):\n",
    "#     def __init__(self, model, target_string, device):\n",
    "#         self.target_string= target_string\n",
    "#         self.device = device\n",
    "        \n",
    "#         self.s2id = {}\n",
    "#         self.sids = []\n",
    "#         self.s2id[target_string] = 0\n",
    "#         self.vecs = []\n",
    "        \n",
    "#     def add(self, strings):\n",
    "def get_text_features(self, actual_strings, target_string):        \n",
    "    s2id = {}\n",
    "    sids = []\n",
    "    s2id[target_string] = 0\n",
    "    for s in actual_strings:\n",
    "        if s not in s2id:\n",
    "            s2id[s] = len(s2id)\n",
    "\n",
    "        sids.append(s2id[s])\n",
    "\n",
    "    strings = [target_string] + actual_strings\n",
    "    ustrings = list(s2id)\n",
    "    stringids = torch.tensor([s2id[s] for s in actual_strings], dtype=torch.long).to(self.device)\n",
    "    tstrings = clip.tokenize(ustrings)\n",
    "    text_features = self.model.encode_text(tstrings.to(self.device))\n",
    "    text_features = text_features / text_features.norm(dim=-1, keepdim=True)\n",
    "    return text_features, stringids, ustrings\n",
    "        \n",
    "def forward(self, imagevecs, actual_strings, target_string):\n",
    "    ## uniquify strings    \n",
    "    text_features, stringids, ustrings = get_text_features(self, actual_strings, target_string)\n",
    "\n",
    "#    image_features = torch.from_numpy(imagevecs).type(text_features.dtype)\n",
    "#    image_features = image_features / image_features.norm(dim=-1, keepdim=True)\n",
    "#    image_features = image_features.to(self.device)\n",
    "    image_features = imagevecs\n",
    "    scores = image_features @ text_features.t()\n",
    "    \n",
    "    assert scores.shape[0] == stringids.shape[0]\n",
    "    return scores, stringids.to(self.device), ustrings\n",
    "\n",
    "def forward2(self, imagevecs, actual_strings, target_string):\n",
    "    text_features, stringids, ustrings = get_text_features(self, actual_strings, target_string)\n",
    "    actual_vecs = text_features[stringids]\n",
    "    sought_vec = text_features[0].reshape(1,-1)\n",
    "    \n",
    "    image_features = torch.from_numpy(imagevecs).type(text_features.dtype)\n",
    "    image_features = image_features / image_features.norm(dim=-1, keepdim=True)\n",
    "    image_features = image_features.to(self.device)\n",
    "\n",
    "    search_score = image_features @ sought_vec.reshape(-1)\n",
    "    confounder_score = (image_features * actual_vecs).sum(dim=1)\n",
    "    return search_score, confounder_score\n",
    "    \n",
    "import torch.optim\n",
    "\n",
    "class Updater(object):\n",
    "    def __init__(self, se, lr, rounds=1, losstype='hinge'):\n",
    "        self.se = se\n",
    "        self.losstype=losstype\n",
    "        self.opt = torch.optim.AdamW([{'params': se.model.ln_final.parameters()},\n",
    "                          {'params':se.model.text_projection},\n",
    "#                          {'params':se.model.transformer.parameters(), 'lr':lr*.01}\n",
    "                                     ], lr=lr, weight_decay=0.)\n",
    "#        self.opt = torch.optim.Adam@([{'params': se.model.parameters()}], lr=lr)\n",
    "        self.rounds = rounds\n",
    "        \n",
    "    def update(self, imagevecs, actual_strings, target_string):\n",
    "        se = self.se\n",
    "        se.model.train()\n",
    "        losstype = self.losstype\n",
    "        opt = self.opt\n",
    "        margin = .3\n",
    "\n",
    "        def opt_closure():\n",
    "            opt.zero_grad()            \n",
    "            if losstype=='ce':\n",
    "                scores, stringids, rawstrs = forward(se, imagevecs, actual_strings, target_string)\n",
    "                # breakpoint()\n",
    "                iidx = torch.arange(scores.shape[0]).long()\n",
    "                actuals = scores[iidx, stringids]\n",
    "                midx = scores.argmax(dim=1)\n",
    "                maxes = scores[iidx, midx]                \n",
    "            elif losstype=='hinge':\n",
    "                #a,b = forward2(se, imagevecs, actual_strings, target_string)\n",
    "                scores, stringids, rawstrs = forward(se, imagevecs, actual_strings, target_string)\n",
    "                # breakpoint()\n",
    "                iidx = torch.arange(scores.shape[0]).long()\n",
    "                maxidx = scores.argmax(dim=1)\n",
    "                \n",
    "                actual_score = scores[iidx, stringids].reshape(-1,1)\n",
    "                #max_score = scores[iidx, maxidx]\n",
    "                \n",
    "                \n",
    "                #target_score = scores[:,0]\n",
    "                losses1 = F.relu(- (actual_score - scores - margin))\n",
    "                #losses2 = F.relu(- (actual_score - target_score - margin))\n",
    "                #losses = torch.cat([losses1, losses2])\n",
    "                losses = losses1\n",
    "            else:\n",
    "                assert False\n",
    "            loss = losses.mean()\n",
    "            #print(loss.detach().cpu())\n",
    "            loss.backward()\n",
    "\n",
    "        for _ in range(self.rounds):\n",
    "            opt.step(opt_closure)\n",
    "\n",
    "\n",
    "\n",
    "def closure(search_query, max_n, firsts, show_display=False, batch_size=10):\n",
    "    sq = search_terms['objectnet'][search_query]\n",
    "    se = StringEncoder()\n",
    "    up = Updater(se, lr=.0001, rounds=1)\n",
    "    bs = batch_size\n",
    "    bfq = BoxFeedbackQuery(hdb, batch_size=bs, auto_fill_df=None)\n",
    "    tvecs = []\n",
    "    dbidxs = []\n",
    "    accstrs = []\n",
    "    gts = []\n",
    "    while True:\n",
    "        tvec = se.encode_string(sq)\n",
    "        tvecs.append(tvec)\n",
    "        idxbatch = bfq.query_stateful(mode='dot', vector=tvec, batch_size=bs)\n",
    "        dbidxs.append(idxbatch)\n",
    "        gtvals = ev.query_ground_truth[search_query][idxbatch].values\n",
    "        gts.append(gtvals)\n",
    "        if show_display:\n",
    "            display(hdb.raw.show_images(idxbatch))\n",
    "            display(gtvals)\n",
    "        #vecs = ev.embedded_dataset[idxbatch]\n",
    "        actual_strings = get_feedback(idxbatch)\n",
    "        accstrs.extend(actual_strings)\n",
    "\n",
    "        if show_display:\n",
    "            display(actual_strings)\n",
    "        if gtvals.sum() > 0 or len(accstrs) > max_n:\n",
    "            break\n",
    "\n",
    "    #     vcs = ev.embedded_dataset[idxbatch]\n",
    "    #     astrs = actual_strings    \n",
    "        vcs = ev.embedded_dataset[np.concatenate(dbidxs)]\n",
    "        astrs = accstrs\n",
    "\n",
    "        if show_display:\n",
    "            show_scores(se, vcs, astrs, target_string=sq)\n",
    "            \n",
    "        up.update(vcs, actual_strings=astrs, target_string=sq)\n",
    "\n",
    "        if show_display:\n",
    "            show_scores(se, vcs, astrs, target_string=sq)\n",
    "\n",
    "\n",
    "    frsts = np.where(np.concatenate(gts).reshape(-1))[0]\n",
    "    if frsts.shape[0] == 0:\n",
    "        firsts[search_query] = np.inf\n",
    "    else:\n",
    "        firsts[search_query] = frsts[0] + 1"
   ]
  },
  {
   "cell_type": "code",
   "execution_count": 19,
   "id": "aggregate-sheffield",
   "metadata": {
    "ExecuteTime": {
     "end_time": "2021-10-15T16:05:54.127203Z",
     "start_time": "2021-10-15T16:05:54.074041Z"
    }
   },
   "outputs": [],
   "source": [
    "import torch.nn.functional as F"
   ]
  },
  {
   "cell_type": "code",
   "execution_count": 21,
   "id": "geological-alert",
   "metadata": {
    "ExecuteTime": {
     "end_time": "2021-10-15T16:06:00.494176Z",
     "start_time": "2021-10-15T16:06:00.438272Z"
    }
   },
   "outputs": [],
   "source": [
    "from seesaw import *"
   ]
  },
  {
   "cell_type": "code",
   "execution_count": 23,
   "id": "discrete-recording",
   "metadata": {
    "ExecuteTime": {
     "end_time": "2021-10-15T16:07:31.507595Z",
     "start_time": "2021-10-15T16:07:31.426412Z"
    }
   },
   "outputs": [
    {
     "ename": "ValueError",
     "evalue": "Failed to look up actor with name 'clip'. This could because 1. You are trying to look up a named actor you didn't create. 2. The named actor died. 3. The actor hasn't been created because named actor creation is asynchronous. 4. You did not use a namespace matching the namespace of the actor.",
     "output_type": "error",
     "traceback": [
      "\u001b[0;31m---------------------------------------------------------------------------\u001b[0m",
      "\u001b[0;31mValueError\u001b[0m                                Traceback (most recent call last)",
      "\u001b[0;32m/tmp/ipykernel_5883/3082081994.py\u001b[0m in \u001b[0;36m<module>\u001b[0;34m\u001b[0m\n\u001b[1;32m      1\u001b[0m \u001b[0;32mimport\u001b[0m \u001b[0mray\u001b[0m\u001b[0;34m\u001b[0m\u001b[0;34m\u001b[0m\u001b[0m\n\u001b[1;32m      2\u001b[0m \u001b[0;31m#ray.init('auto')\u001b[0m\u001b[0;34m\u001b[0m\u001b[0;34m\u001b[0m\u001b[0;34m\u001b[0m\u001b[0m\n\u001b[0;32m----> 3\u001b[0;31m \u001b[0mxclip\u001b[0m \u001b[0;34m=\u001b[0m \u001b[0mModelService\u001b[0m\u001b[0;34m(\u001b[0m\u001b[0mray\u001b[0m\u001b[0;34m.\u001b[0m\u001b[0mget_actor\u001b[0m\u001b[0;34m(\u001b[0m\u001b[0;34m'clip'\u001b[0m\u001b[0;34m)\u001b[0m\u001b[0;34m)\u001b[0m\u001b[0;34m\u001b[0m\u001b[0;34m\u001b[0m\u001b[0m\n\u001b[0m",
      "\u001b[0;32m/opt/conda/envs/seesaw/lib/python3.8/site-packages/ray/_private/client_mode_hook.py\u001b[0m in \u001b[0;36mwrapper\u001b[0;34m(*args, **kwargs)\u001b[0m\n\u001b[1;32m     87\u001b[0m             \u001b[0;32mif\u001b[0m \u001b[0mfunc\u001b[0m\u001b[0;34m.\u001b[0m\u001b[0m__name__\u001b[0m \u001b[0;34m!=\u001b[0m \u001b[0;34m\"init\"\u001b[0m \u001b[0;32mor\u001b[0m \u001b[0mis_client_mode_enabled_by_default\u001b[0m\u001b[0;34m:\u001b[0m\u001b[0;34m\u001b[0m\u001b[0;34m\u001b[0m\u001b[0m\n\u001b[1;32m     88\u001b[0m                 \u001b[0;32mreturn\u001b[0m \u001b[0mgetattr\u001b[0m\u001b[0;34m(\u001b[0m\u001b[0mray\u001b[0m\u001b[0;34m,\u001b[0m \u001b[0mfunc\u001b[0m\u001b[0;34m.\u001b[0m\u001b[0m__name__\u001b[0m\u001b[0;34m)\u001b[0m\u001b[0;34m(\u001b[0m\u001b[0;34m*\u001b[0m\u001b[0margs\u001b[0m\u001b[0;34m,\u001b[0m \u001b[0;34m**\u001b[0m\u001b[0mkwargs\u001b[0m\u001b[0;34m)\u001b[0m\u001b[0;34m\u001b[0m\u001b[0;34m\u001b[0m\u001b[0m\n\u001b[0;32m---> 89\u001b[0;31m         \u001b[0;32mreturn\u001b[0m \u001b[0mfunc\u001b[0m\u001b[0;34m(\u001b[0m\u001b[0;34m*\u001b[0m\u001b[0margs\u001b[0m\u001b[0;34m,\u001b[0m \u001b[0;34m**\u001b[0m\u001b[0mkwargs\u001b[0m\u001b[0;34m)\u001b[0m\u001b[0;34m\u001b[0m\u001b[0;34m\u001b[0m\u001b[0m\n\u001b[0m\u001b[1;32m     90\u001b[0m \u001b[0;34m\u001b[0m\u001b[0m\n\u001b[1;32m     91\u001b[0m     \u001b[0;32mreturn\u001b[0m \u001b[0mwrapper\u001b[0m\u001b[0;34m\u001b[0m\u001b[0;34m\u001b[0m\u001b[0m\n",
      "\u001b[0;32m/opt/conda/envs/seesaw/lib/python3.8/site-packages/ray/worker.py\u001b[0m in \u001b[0;36mget_actor\u001b[0;34m(name, namespace)\u001b[0m\n\u001b[1;32m   1831\u001b[0m     \u001b[0mworker\u001b[0m \u001b[0;34m=\u001b[0m \u001b[0mglobal_worker\u001b[0m\u001b[0;34m\u001b[0m\u001b[0;34m\u001b[0m\u001b[0m\n\u001b[1;32m   1832\u001b[0m     \u001b[0mworker\u001b[0m\u001b[0;34m.\u001b[0m\u001b[0mcheck_connected\u001b[0m\u001b[0;34m(\u001b[0m\u001b[0;34m)\u001b[0m\u001b[0;34m\u001b[0m\u001b[0;34m\u001b[0m\u001b[0m\n\u001b[0;32m-> 1833\u001b[0;31m     \u001b[0;32mreturn\u001b[0m \u001b[0mworker\u001b[0m\u001b[0;34m.\u001b[0m\u001b[0mcore_worker\u001b[0m\u001b[0;34m.\u001b[0m\u001b[0mget_named_actor_handle\u001b[0m\u001b[0;34m(\u001b[0m\u001b[0mname\u001b[0m\u001b[0;34m,\u001b[0m \u001b[0mnamespace\u001b[0m \u001b[0;32mor\u001b[0m \u001b[0;34m\"\"\u001b[0m\u001b[0;34m)\u001b[0m\u001b[0;34m\u001b[0m\u001b[0;34m\u001b[0m\u001b[0m\n\u001b[0m\u001b[1;32m   1834\u001b[0m \u001b[0;34m\u001b[0m\u001b[0m\n\u001b[1;32m   1835\u001b[0m \u001b[0;34m\u001b[0m\u001b[0m\n",
      "\u001b[0;32mpython/ray/_raylet.pyx\u001b[0m in \u001b[0;36mray._raylet.CoreWorker.get_named_actor_handle\u001b[0;34m()\u001b[0m\n",
      "\u001b[0;32mpython/ray/_raylet.pyx\u001b[0m in \u001b[0;36mray._raylet.check_status\u001b[0;34m()\u001b[0m\n",
      "\u001b[0;31mValueError\u001b[0m: Failed to look up actor with name 'clip'. This could because 1. You are trying to look up a named actor you didn't create. 2. The named actor died. 3. The actor hasn't been created because named actor creation is asynchronous. 4. You did not use a namespace matching the namespace of the actor."
     ]
    }
   ],
   "source": [
    "import ray\n",
    "#ray.init('auto')\n",
    "xclip = ModelService(ray.get_actor('clip'))"
   ]
  },
  {
   "cell_type": "code",
   "execution_count": 1,
   "id": "interested-convertible",
   "metadata": {
    "ExecuteTime": {
     "end_time": "2021-09-21T14:43:23.402397Z",
     "start_time": "2021-09-21T14:43:22.930510Z"
    }
   },
   "outputs": [],
   "source": []
  },
  {
   "cell_type": "code",
   "execution_count": 24,
   "id": "german-police",
   "metadata": {
    "ExecuteTime": {
     "end_time": "2021-06-29T17:43:59.919445Z",
     "start_time": "2021-06-29T17:43:59.884635Z"
    }
   },
   "outputs": [],
   "source": [
    "from vsms import *\n",
    "benchparams = dict(\n",
    "    #objectnet=dict(loader=objectnet_cropped, idxs=np.load('./data/object_random_idx.npy')[:10000]),\n",
    "    lvis=dict(loader=lvis_full, idxs=None),\n",
    "\n",
    ")\n",
    "\n",
    "def load_ds(evs, dsnames):\n",
    "    for k,v in tqdm(benchparams.items(), total=len(benchparams)):\n",
    "        if k in dsnames:\n",
    "            def closure():\n",
    "                ev0 = v['loader'](xclip)\n",
    "                idxs = v['idxs']\n",
    "                idxs = np.sort(idxs) if idxs is not None else None\n",
    "                ev = extract_subset(ev0, idxsample=idxs)\n",
    "                evs[k] = ev\n",
    "            closure()"
   ]
  },
  {
   "cell_type": "code",
   "execution_count": 25,
   "id": "tamil-viking",
   "metadata": {
    "ExecuteTime": {
     "end_time": "2021-06-29T17:44:07.623471Z",
     "start_time": "2021-06-29T17:44:00.742152Z"
    }
   },
   "outputs": [
    {
     "data": {
      "application/vnd.jupyter.widget-view+json": {
       "model_id": "a1276e3f019245aca540b09843ced551",
       "version_major": 2,
       "version_minor": 0
      },
      "text/plain": [
       "  0%|          | 0/1 [00:00<?, ?it/s]"
      ]
     },
     "metadata": {},
     "output_type": "display_data"
    }
   ],
   "source": [
    "evs = {}\n",
    "load_ds(evs, 'lvis')"
   ]
  },
  {
   "cell_type": "code",
   "execution_count": 26,
   "id": "vulnerable-mechanism",
   "metadata": {
    "ExecuteTime": {
     "end_time": "2021-06-29T17:44:07.649177Z",
     "start_time": "2021-06-29T17:44:07.624917Z"
    }
   },
   "outputs": [],
   "source": [
    "ev0 = evs['lvis']"
   ]
  },
  {
   "cell_type": "code",
   "execution_count": 27,
   "id": "framed-chassis",
   "metadata": {
    "ExecuteTime": {
     "end_time": "2021-06-29T17:44:07.670978Z",
     "start_time": "2021-06-29T17:44:07.650772Z"
    }
   },
   "outputs": [],
   "source": [
    "from vsms import category2query"
   ]
  },
  {
   "cell_type": "code",
   "execution_count": 28,
   "id": "married-guyana",
   "metadata": {
    "ExecuteTime": {
     "end_time": "2021-06-29T17:44:07.692718Z",
     "start_time": "2021-06-29T17:44:07.672376Z"
    }
   },
   "outputs": [],
   "source": [
    "#del se"
   ]
  },
  {
   "cell_type": "code",
   "execution_count": 29,
   "id": "charming-soccer",
   "metadata": {
    "ExecuteTime": {
     "end_time": "2021-06-29T17:44:07.721147Z",
     "start_time": "2021-06-29T17:44:07.694092Z"
    }
   },
   "outputs": [],
   "source": [
    "#vecs = ev0.embedded_dataset\n",
    "def lvisloop(ev0, se, category, firsts, max_n, batch_size, tqdm_disabled, feedback=True):\n",
    "#     batch_size = 10\n",
    "    n_batches = (int(max_n) // batch_size) + 1\n",
    "    #tqdm_disabled = True\n",
    "    sq = category2query('lvis', category)#, category)\n",
    "    up = Updater(se, lr=.0001, rounds=1)\n",
    "\n",
    "    ev, class_idxs = get_class_ev(ev0, category, boxes=True)\n",
    "    evfull = extract_subset(ev0, categories=None, idxsample=class_idxs, boxes=True)\n",
    "    \n",
    "    dfds =  DataFrameDataset(ev.box_data[ev.box_data.category == category], \n",
    "                             index_var='dbidx', max_idx=class_idxs.shape[0]-1)\n",
    "    rsz = resize_to_grid(224)\n",
    "    ds = TxDataset(dfds, tx=lambda tup : rsz(im=None, boxes=tup)[1])\n",
    "    imds = TxDataset(ev.image_dataset, tx = lambda im : rsz(im=im, boxes=None)[0])\n",
    "\n",
    "    vec_meta = ev.fine_grained_meta\n",
    "    vecs = ev.fine_grained_embedding\n",
    "    #index_path = './data/bdd_10k_allgrains_index.ann'\n",
    "    index_path = None\n",
    "    hdb = AugmentedDB(raw_dataset=ev.image_dataset, embedding=ev.embedding, \n",
    "        embedded_dataset=vecs, vector_meta=vec_meta, index_path=index_path)\n",
    "    \n",
    "    bfq = BoxFeedbackQuery(hdb, batch_size=batch_size, auto_fill_df=None)\n",
    "    rarr = ev.query_ground_truth[category]\n",
    "    \n",
    "    accidxs = []\n",
    "    accstrs = []\n",
    "    accvecids = []\n",
    "#    accvecs = []\n",
    "    gts = []\n",
    "    for i in tqdm(range(n_batches), leave=False, disable=tqdm_disabled):\n",
    "        tvec = se.encode_string(sq)\n",
    "        idxbatch, other = bfq.query_stateful(mode='dot', vector=tvec, batch_size=batch_size)\n",
    "        accidxs.append(idxbatch)\n",
    "        gt = ev.query_ground_truth[category].iloc[idxbatch].values\n",
    "        gts.append(gt)\n",
    "        if gt.sum() > 0 or len(gts)*batch_size > max_n:\n",
    "            break\n",
    "\n",
    "        if feedback:\n",
    "            vecids, astrs = get_box_labels(evfull, accidxs[-1])\n",
    "            accvecids.append(vecids)\n",
    "            accstrs.extend(astrs)\n",
    "\n",
    "            def feedback_closure():\n",
    "                avecs = evfull.fine_grained_embedding[np.concatenate(accvecids)]\n",
    "                scs = avecs @ tvec.reshape(-1)\n",
    "                topk = np.argsort(-scs)[:1000]\n",
    "                trvecs = torch.from_numpy(avecs[topk]).float().to(se.device)\n",
    "                trstrs = [accstrs[i] for i in topk]\n",
    "                up.update(trvecs, trstrs, sq)\n",
    "                del trvecs\n",
    "                torch.cuda.empty_cache()\n",
    "                \n",
    "    \n",
    "            feedback_closure()\n",
    "        \n",
    "    frsts = np.where(np.concatenate(gts).reshape(-1))[0]\n",
    "    if frsts.shape[0] == 0:\n",
    "        firsts[category] = np.inf\n",
    "    else:\n",
    "        firsts[category] = frsts[0] + 1\n",
    "    #hdb = EmbeddingDB(raw_dataset=ev.image_dataset, embedding=ev.embedding,embedded_dataset=vecs)"
   ]
  },
  {
   "cell_type": "code",
   "execution_count": 30,
   "id": "downtown-pricing",
   "metadata": {
    "ExecuteTime": {
     "end_time": "2021-06-29T17:44:07.745860Z",
     "start_time": "2021-06-29T17:44:07.722390Z"
    }
   },
   "outputs": [],
   "source": [
    "def labelvecs(boxes, meta, iou_cutoff=.001):\n",
    "    ious = box_iou(boxes, meta)\n",
    "    \n",
    "    maxiou = np.max(ious, axis=1)\n",
    "    argmaxiou = np.argmax(ious, axis=1)\n",
    "    posn = np.arange(maxiou.shape[0])\n",
    "    \n",
    "    boxid = posn[maxiou > iou_cutoff]\n",
    "    vecid = argmaxiou[maxiou > iou_cutoff]\n",
    "    cats = list(boxes.iloc[boxid].category.values)\n",
    "    absvecs = meta.index.values[vecid]\n",
    "    return absvecs, cats"
   ]
  },
  {
   "cell_type": "code",
   "execution_count": 31,
   "id": "regulation-kuwait",
   "metadata": {
    "ExecuteTime": {
     "end_time": "2021-06-29T17:44:07.770829Z",
     "start_time": "2021-06-29T17:44:07.747005Z"
    }
   },
   "outputs": [],
   "source": [
    "def get_box_labels(evfull, allidxs):\n",
    "    relboxes = evfull.box_data[evfull.box_data.dbidx.isin(allidxs)]\n",
    "    \n",
    "    vec_meta = evfull.fine_grained_meta[evfull.fine_grained_meta.dbidx.isin(allidxs)]\n",
    "    vec_meta = vec_meta.drop_duplicates()\n",
    "    vec_meta = vec_meta.assign(**get_boxes(vec_meta))\n",
    "    \n",
    "    vecposns = []\n",
    "    astrs = []\n",
    "    for (idx, boxes) in  relboxes.sort_values('dbidx').groupby('dbidx'):\n",
    "        meta = vec_meta[vec_meta.dbidx == idx]\n",
    "        absvecs, cats = labelvecs(boxes, meta)\n",
    "        vecposns.append(absvecs)\n",
    "        strs = [category2query('lvis',c) for c in cats]\n",
    "        astrs.extend(strs)\n",
    "        \n",
    "    avecids = np.concatenate(vecposns) \n",
    "    return avecids, astrs"
   ]
  },
  {
   "cell_type": "code",
   "execution_count": 32,
   "id": "stuck-gardening",
   "metadata": {
    "ExecuteTime": {
     "end_time": "2021-06-29T17:44:07.792853Z",
     "start_time": "2021-06-29T17:44:07.772662Z"
    }
   },
   "outputs": [],
   "source": [
    "### bfq right now returns image ids.\n",
    "\n",
    "### what id ideally do: to simulate user giving localized feedback...\n",
    "### user gives feedback for all images. (can be also only about specific regions)\n",
    "# 0. assume we highlight regions to user. user can give negative feedback with a comment indicating the \n",
    "## type of mistake.\n",
    "# 1. access to vec id list and box metadata. (ideally includes previous vecs)\n",
    "### this creates a mapping of vec ids to texts.\n",
    "# 2. we match ground truth labels for other classes to the top vecs in the shown images."
   ]
  },
  {
   "cell_type": "code",
   "execution_count": 33,
   "id": "economic-florida",
   "metadata": {
    "ExecuteTime": {
     "end_time": "2021-06-29T17:44:07.816240Z",
     "start_time": "2021-06-29T17:44:07.793950Z"
    }
   },
   "outputs": [],
   "source": [
    "def show_scores(se, vecs, actual_strings, target_string):\n",
    "    with torch.no_grad():\n",
    "        se.model.eval()\n",
    "        scs,stids,rawstrs = forward(se, vecs, actual_strings, target_string=target_string)\n",
    "    scdf = pd.DataFrame({st:col  for  st,col in zip(rawstrs,scs.cpu().numpy().transpose())})\n",
    "    display(scdf.style.highlight_max(axis=1))\n",
    "\n",
    "def get_feedback(idxbatch):\n",
    "    strids = np.where(ev.query_ground_truth.iloc[idxbatch])[1]\n",
    "    strs = ev.query_ground_truth.columns[strids]\n",
    "    strs = [search_terms['objectnet'][fbstr] for fbstr in strs.values]\n",
    "    return strs"
   ]
  },
  {
   "cell_type": "code",
   "execution_count": 34,
   "id": "bearing-mills",
   "metadata": {
    "ExecuteTime": {
     "end_time": "2021-06-29T17:44:07.841343Z",
     "start_time": "2021-06-29T17:44:07.817572Z"
    }
   },
   "outputs": [],
   "source": [
    "curr_firsts = pd.read_parquet('./data/cats_lvis_ordered.parquet')"
   ]
  },
  {
   "cell_type": "code",
   "execution_count": 35,
   "id": "nutritional-concord",
   "metadata": {
    "ExecuteTime": {
     "end_time": "2021-06-29T17:44:07.864373Z",
     "start_time": "2021-06-29T17:44:07.842468Z"
    }
   },
   "outputs": [],
   "source": [
    "curr_firsts = curr_firsts.sort_values('nfirst_x', ascending=False)"
   ]
  },
  {
   "cell_type": "code",
   "execution_count": 36,
   "id": "homeless-surprise",
   "metadata": {
    "ExecuteTime": {
     "end_time": "2021-06-29T17:44:07.885604Z",
     "start_time": "2021-06-29T17:44:07.865366Z"
    }
   },
   "outputs": [],
   "source": [
    "#del se\n",
    "#torch.cuda.empty_cache()"
   ]
  },
  {
   "cell_type": "code",
   "execution_count": 39,
   "id": "mighty-monthly",
   "metadata": {
    "ExecuteTime": {
     "end_time": "2021-06-29T17:58:53.660477Z",
     "start_time": "2021-06-29T17:44:48.740458Z"
    },
    "scrolled": false
   },
   "outputs": [
    {
     "data": {
      "application/vnd.jupyter.widget-view+json": {
       "model_id": "c9f86915520b4aeba197db1052635ff6",
       "version_major": 2,
       "version_minor": 0
      },
      "text/plain": [
       "  0%|          | 0/60 [00:00<?, ?it/s]"
      ]
     },
     "metadata": {},
     "output_type": "display_data"
    },
    {
     "data": {
      "application/vnd.jupyter.widget-view+json": {
       "model_id": "5c2ed3a07d944b91ae7481a35898adad",
       "version_major": 2,
       "version_minor": 0
      },
      "text/plain": [
       "  0%|          | 0/21 [00:00<?, ?it/s]"
      ]
     },
     "metadata": {},
     "output_type": "display_data"
    },
    {
     "name": "stdout",
     "output_type": "stream",
     "text": [
      "90 97.0\n"
     ]
    },
    {
     "data": {
      "application/vnd.jupyter.widget-view+json": {
       "model_id": "cbd263f2704c484bbeb6d7a054506a7b",
       "version_major": 2,
       "version_minor": 0
      },
      "text/plain": [
       "  0%|          | 0/21 [00:00<?, ?it/s]"
      ]
     },
     "metadata": {},
     "output_type": "display_data"
    },
    {
     "name": "stdout",
     "output_type": "stream",
     "text": [
      "93 97.0\n"
     ]
    },
    {
     "data": {
      "application/vnd.jupyter.widget-view+json": {
       "model_id": "c5ca92d98e2f491cb29632939a16775b",
       "version_major": 2,
       "version_minor": 0
      },
      "text/plain": [
       "  0%|          | 0/21 [00:00<?, ?it/s]"
      ]
     },
     "metadata": {},
     "output_type": "display_data"
    },
    {
     "name": "stdout",
     "output_type": "stream",
     "text": [
      "69 90.0\n"
     ]
    },
    {
     "data": {
      "application/vnd.jupyter.widget-view+json": {
       "model_id": "d81b2087fe8e4a108d0e2b9f9f02ba8b",
       "version_major": 2,
       "version_minor": 0
      },
      "text/plain": [
       "  0%|          | 0/21 [00:00<?, ?it/s]"
      ]
     },
     "metadata": {},
     "output_type": "display_data"
    },
    {
     "name": "stdout",
     "output_type": "stream",
     "text": [
      "119 85.0\n"
     ]
    },
    {
     "data": {
      "application/vnd.jupyter.widget-view+json": {
       "model_id": "013b5234524a415283b359c94f2ce823",
       "version_major": 2,
       "version_minor": 0
      },
      "text/plain": [
       "  0%|          | 0/21 [00:00<?, ?it/s]"
      ]
     },
     "metadata": {},
     "output_type": "display_data"
    },
    {
     "name": "stdout",
     "output_type": "stream",
     "text": [
      "194 80.0\n"
     ]
    },
    {
     "data": {
      "application/vnd.jupyter.widget-view+json": {
       "model_id": "486f4de901c04a3691045b394c42b5b0",
       "version_major": 2,
       "version_minor": 0
      },
      "text/plain": [
       "  0%|          | 0/21 [00:00<?, ?it/s]"
      ]
     },
     "metadata": {},
     "output_type": "display_data"
    },
    {
     "name": "stdout",
     "output_type": "stream",
     "text": [
      "57 70.0\n"
     ]
    },
    {
     "data": {
      "application/vnd.jupyter.widget-view+json": {
       "model_id": "c2309641ddeb4ea2af3ffec6aba05ddf",
       "version_major": 2,
       "version_minor": 0
      },
      "text/plain": [
       "  0%|          | 0/21 [00:00<?, ?it/s]"
      ]
     },
     "metadata": {},
     "output_type": "display_data"
    },
    {
     "name": "stdout",
     "output_type": "stream",
     "text": [
      "56 68.0\n"
     ]
    },
    {
     "data": {
      "application/vnd.jupyter.widget-view+json": {
       "model_id": "992d48bdf462425cbd8a76d650df7c89",
       "version_major": 2,
       "version_minor": 0
      },
      "text/plain": [
       "  0%|          | 0/21 [00:00<?, ?it/s]"
      ]
     },
     "metadata": {},
     "output_type": "display_data"
    },
    {
     "name": "stdout",
     "output_type": "stream",
     "text": [
      "58 67.0\n"
     ]
    },
    {
     "data": {
      "application/vnd.jupyter.widget-view+json": {
       "model_id": "da7435916d584d479a28106fcc0903b3",
       "version_major": 2,
       "version_minor": 0
      },
      "text/plain": [
       "  0%|          | 0/21 [00:00<?, ?it/s]"
      ]
     },
     "metadata": {},
     "output_type": "display_data"
    },
    {
     "name": "stdout",
     "output_type": "stream",
     "text": [
      "127 67.0\n"
     ]
    },
    {
     "data": {
      "application/vnd.jupyter.widget-view+json": {
       "model_id": "9c6388178827443db90e9d6447852486",
       "version_major": 2,
       "version_minor": 0
      },
      "text/plain": [
       "  0%|          | 0/21 [00:00<?, ?it/s]"
      ]
     },
     "metadata": {},
     "output_type": "display_data"
    },
    {
     "name": "stdout",
     "output_type": "stream",
     "text": [
      "41 61.0\n"
     ]
    },
    {
     "data": {
      "application/vnd.jupyter.widget-view+json": {
       "model_id": "fd4179db41f4499e9c0416c4f516136e",
       "version_major": 2,
       "version_minor": 0
      },
      "text/plain": [
       "  0%|          | 0/21 [00:00<?, ?it/s]"
      ]
     },
     "metadata": {},
     "output_type": "display_data"
    },
    {
     "name": "stdout",
     "output_type": "stream",
     "text": [
      "119 61.0\n"
     ]
    },
    {
     "data": {
      "application/vnd.jupyter.widget-view+json": {
       "model_id": "97972b43e27344c09dc2c2dc5934667c",
       "version_major": 2,
       "version_minor": 0
      },
      "text/plain": [
       "  0%|          | 0/21 [00:00<?, ?it/s]"
      ]
     },
     "metadata": {},
     "output_type": "display_data"
    },
    {
     "name": "stdout",
     "output_type": "stream",
     "text": [
      "44 52.0\n"
     ]
    },
    {
     "data": {
      "application/vnd.jupyter.widget-view+json": {
       "model_id": "0f7720259bb74ffba01a71d3bb89241f",
       "version_major": 2,
       "version_minor": 0
      },
      "text/plain": [
       "  0%|          | 0/21 [00:00<?, ?it/s]"
      ]
     },
     "metadata": {},
     "output_type": "display_data"
    },
    {
     "name": "stdout",
     "output_type": "stream",
     "text": [
      "45 50.0\n"
     ]
    },
    {
     "data": {
      "application/vnd.jupyter.widget-view+json": {
       "model_id": "a456dcf43ace42d283e2a1c1344b2407",
       "version_major": 2,
       "version_minor": 0
      },
      "text/plain": [
       "  0%|          | 0/21 [00:00<?, ?it/s]"
      ]
     },
     "metadata": {},
     "output_type": "display_data"
    },
    {
     "name": "stdout",
     "output_type": "stream",
     "text": [
      "42 49.0\n"
     ]
    },
    {
     "data": {
      "application/vnd.jupyter.widget-view+json": {
       "model_id": "36cf457c009b4ee0814eafe15a13b29e",
       "version_major": 2,
       "version_minor": 0
      },
      "text/plain": [
       "  0%|          | 0/21 [00:00<?, ?it/s]"
      ]
     },
     "metadata": {},
     "output_type": "display_data"
    },
    {
     "name": "stdout",
     "output_type": "stream",
     "text": [
      "44 47.0\n"
     ]
    },
    {
     "data": {
      "application/vnd.jupyter.widget-view+json": {
       "model_id": "8864057e5fd743c7a438a20d26b7083a",
       "version_major": 2,
       "version_minor": 0
      },
      "text/plain": [
       "  0%|          | 0/21 [00:00<?, ?it/s]"
      ]
     },
     "metadata": {},
     "output_type": "display_data"
    },
    {
     "name": "stdout",
     "output_type": "stream",
     "text": [
      "44 46.0\n"
     ]
    },
    {
     "data": {
      "application/vnd.jupyter.widget-view+json": {
       "model_id": "768ffff010ff40c7966bf3b69da222ff",
       "version_major": 2,
       "version_minor": 0
      },
      "text/plain": [
       "  0%|          | 0/21 [00:00<?, ?it/s]"
      ]
     },
     "metadata": {},
     "output_type": "display_data"
    },
    {
     "name": "stdout",
     "output_type": "stream",
     "text": [
      "40 43.0\n"
     ]
    },
    {
     "data": {
      "application/vnd.jupyter.widget-view+json": {
       "model_id": "afe98a391aa5426897f76a621d6a0206",
       "version_major": 2,
       "version_minor": 0
      },
      "text/plain": [
       "  0%|          | 0/21 [00:00<?, ?it/s]"
      ]
     },
     "metadata": {},
     "output_type": "display_data"
    },
    {
     "name": "stdout",
     "output_type": "stream",
     "text": [
      "39 40.0\n"
     ]
    },
    {
     "data": {
      "application/vnd.jupyter.widget-view+json": {
       "model_id": "e968883d21bc46c7b0b71cf1c86933bb",
       "version_major": 2,
       "version_minor": 0
      },
      "text/plain": [
       "  0%|          | 0/21 [00:00<?, ?it/s]"
      ]
     },
     "metadata": {},
     "output_type": "display_data"
    },
    {
     "name": "stdout",
     "output_type": "stream",
     "text": [
      "39 40.0\n"
     ]
    },
    {
     "data": {
      "application/vnd.jupyter.widget-view+json": {
       "model_id": "31d3600cf22b429597935874309dde8d",
       "version_major": 2,
       "version_minor": 0
      },
      "text/plain": [
       "  0%|          | 0/21 [00:00<?, ?it/s]"
      ]
     },
     "metadata": {},
     "output_type": "display_data"
    },
    {
     "name": "stdout",
     "output_type": "stream",
     "text": [
      "40 40.0\n"
     ]
    },
    {
     "data": {
      "application/vnd.jupyter.widget-view+json": {
       "model_id": "72e4ede1f8d4475d9e79570c83e78f1f",
       "version_major": 2,
       "version_minor": 0
      },
      "text/plain": [
       "  0%|          | 0/20 [00:00<?, ?it/s]"
      ]
     },
     "metadata": {},
     "output_type": "display_data"
    },
    {
     "name": "stdout",
     "output_type": "stream",
     "text": [
      "33 39.0\n"
     ]
    },
    {
     "data": {
      "application/vnd.jupyter.widget-view+json": {
       "model_id": "81bb2def1c3e4393b4fc3e09abf0c852",
       "version_major": 2,
       "version_minor": 0
      },
      "text/plain": [
       "  0%|          | 0/20 [00:00<?, ?it/s]"
      ]
     },
     "metadata": {},
     "output_type": "display_data"
    },
    {
     "name": "stdout",
     "output_type": "stream",
     "text": [
      "40 38.0\n"
     ]
    },
    {
     "data": {
      "application/vnd.jupyter.widget-view+json": {
       "model_id": "21e20cc34329465c908e81aecf3537ef",
       "version_major": 2,
       "version_minor": 0
      },
      "text/plain": [
       "  0%|          | 0/19 [00:00<?, ?it/s]"
      ]
     },
     "metadata": {},
     "output_type": "display_data"
    },
    {
     "name": "stdout",
     "output_type": "stream",
     "text": [
      "93 37.0\n"
     ]
    },
    {
     "data": {
      "application/vnd.jupyter.widget-view+json": {
       "model_id": "eb5e77d6e4934fe38785b0fcd91c2da1",
       "version_major": 2,
       "version_minor": 0
      },
      "text/plain": [
       "  0%|          | 0/19 [00:00<?, ?it/s]"
      ]
     },
     "metadata": {},
     "output_type": "display_data"
    },
    {
     "name": "stdout",
     "output_type": "stream",
     "text": [
      "38 37.0\n"
     ]
    },
    {
     "data": {
      "application/vnd.jupyter.widget-view+json": {
       "model_id": "93a5628e6a3a4b7587cac6693d74285c",
       "version_major": 2,
       "version_minor": 0
      },
      "text/plain": [
       "  0%|          | 0/18 [00:00<?, ?it/s]"
      ]
     },
     "metadata": {},
     "output_type": "display_data"
    },
    {
     "name": "stdout",
     "output_type": "stream",
     "text": [
      "31 35.0\n"
     ]
    },
    {
     "data": {
      "application/vnd.jupyter.widget-view+json": {
       "model_id": "46a29e4ac68f407d8860c81af66d34d3",
       "version_major": 2,
       "version_minor": 0
      },
      "text/plain": [
       "  0%|          | 0/17 [00:00<?, ?it/s]"
      ]
     },
     "metadata": {},
     "output_type": "display_data"
    },
    {
     "name": "stdout",
     "output_type": "stream",
     "text": [
      "30 33.0\n"
     ]
    },
    {
     "data": {
      "application/vnd.jupyter.widget-view+json": {
       "model_id": "cb85cc150b084ec18b04ea5457a4a28a",
       "version_major": 2,
       "version_minor": 0
      },
      "text/plain": [
       "  0%|          | 0/15 [00:00<?, ?it/s]"
      ]
     },
     "metadata": {},
     "output_type": "display_data"
    },
    {
     "name": "stdout",
     "output_type": "stream",
     "text": [
      "26 29.0\n"
     ]
    },
    {
     "data": {
      "application/vnd.jupyter.widget-view+json": {
       "model_id": "c301a3bb7a524b9f8dbdf84abf7f3b78",
       "version_major": 2,
       "version_minor": 0
      },
      "text/plain": [
       "  0%|          | 0/15 [00:00<?, ?it/s]"
      ]
     },
     "metadata": {},
     "output_type": "display_data"
    },
    {
     "name": "stdout",
     "output_type": "stream",
     "text": [
      "24 28.0\n"
     ]
    },
    {
     "data": {
      "application/vnd.jupyter.widget-view+json": {
       "model_id": "a9143900160f4bf4a645e6b176a88c55",
       "version_major": 2,
       "version_minor": 0
      },
      "text/plain": [
       "  0%|          | 0/15 [00:00<?, ?it/s]"
      ]
     },
     "metadata": {},
     "output_type": "display_data"
    },
    {
     "name": "stdout",
     "output_type": "stream",
     "text": [
      "25 28.0\n"
     ]
    },
    {
     "data": {
      "application/vnd.jupyter.widget-view+json": {
       "model_id": "abd9d6d541f9495aba7e8a5849bfc379",
       "version_major": 2,
       "version_minor": 0
      },
      "text/plain": [
       "  0%|          | 0/14 [00:00<?, ?it/s]"
      ]
     },
     "metadata": {},
     "output_type": "display_data"
    },
    {
     "name": "stdout",
     "output_type": "stream",
     "text": [
      "25 26.0\n"
     ]
    },
    {
     "data": {
      "application/vnd.jupyter.widget-view+json": {
       "model_id": "0d8ddd3f84fc483bbd8cb38cd1be83bb",
       "version_major": 2,
       "version_minor": 0
      },
      "text/plain": [
       "  0%|          | 0/14 [00:00<?, ?it/s]"
      ]
     },
     "metadata": {},
     "output_type": "display_data"
    },
    {
     "name": "stdout",
     "output_type": "stream",
     "text": [
      "30 26.0\n"
     ]
    },
    {
     "data": {
      "application/vnd.jupyter.widget-view+json": {
       "model_id": "b751afe113c64f50aada13656c7918fb",
       "version_major": 2,
       "version_minor": 0
      },
      "text/plain": [
       "  0%|          | 0/13 [00:00<?, ?it/s]"
      ]
     },
     "metadata": {},
     "output_type": "display_data"
    },
    {
     "name": "stdout",
     "output_type": "stream",
     "text": [
      "24 24.0\n"
     ]
    },
    {
     "data": {
      "application/vnd.jupyter.widget-view+json": {
       "model_id": "41e96b22e0fc4df080bd82babab3c9d0",
       "version_major": 2,
       "version_minor": 0
      },
      "text/plain": [
       "  0%|          | 0/12 [00:00<?, ?it/s]"
      ]
     },
     "metadata": {},
     "output_type": "display_data"
    },
    {
     "name": "stdout",
     "output_type": "stream",
     "text": [
      "24 23.0\n"
     ]
    },
    {
     "data": {
      "application/vnd.jupyter.widget-view+json": {
       "model_id": "b3ff330e7b7a4c29a05117463b0c5fa5",
       "version_major": 2,
       "version_minor": 0
      },
      "text/plain": [
       "  0%|          | 0/12 [00:00<?, ?it/s]"
      ]
     },
     "metadata": {},
     "output_type": "display_data"
    },
    {
     "name": "stdout",
     "output_type": "stream",
     "text": [
      "19 23.0\n"
     ]
    },
    {
     "data": {
      "application/vnd.jupyter.widget-view+json": {
       "model_id": "2a60b19a752b4425b57cafbb77ca5c07",
       "version_major": 2,
       "version_minor": 0
      },
      "text/plain": [
       "  0%|          | 0/12 [00:00<?, ?it/s]"
      ]
     },
     "metadata": {},
     "output_type": "display_data"
    },
    {
     "name": "stdout",
     "output_type": "stream",
     "text": [
      "22 22.0\n"
     ]
    },
    {
     "data": {
      "application/vnd.jupyter.widget-view+json": {
       "model_id": "65fbff2fd3f241f3a984088a31bb5547",
       "version_major": 2,
       "version_minor": 0
      },
      "text/plain": [
       "  0%|          | 0/12 [00:00<?, ?it/s]"
      ]
     },
     "metadata": {},
     "output_type": "display_data"
    },
    {
     "name": "stdout",
     "output_type": "stream",
     "text": [
      "22 22.0\n"
     ]
    },
    {
     "data": {
      "application/vnd.jupyter.widget-view+json": {
       "model_id": "c1a71635686147d0bdaafef22a457724",
       "version_major": 2,
       "version_minor": 0
      },
      "text/plain": [
       "  0%|          | 0/11 [00:00<?, ?it/s]"
      ]
     },
     "metadata": {},
     "output_type": "display_data"
    },
    {
     "name": "stdout",
     "output_type": "stream",
     "text": [
      "21 21.0\n"
     ]
    },
    {
     "data": {
      "application/vnd.jupyter.widget-view+json": {
       "model_id": "2cdcbfa9530e4412a60ceba4a21827e5",
       "version_major": 2,
       "version_minor": 0
      },
      "text/plain": [
       "  0%|          | 0/11 [00:00<?, ?it/s]"
      ]
     },
     "metadata": {},
     "output_type": "display_data"
    },
    {
     "name": "stdout",
     "output_type": "stream",
     "text": [
      "20 20.0\n"
     ]
    },
    {
     "data": {
      "application/vnd.jupyter.widget-view+json": {
       "model_id": "66ebc8e55d6b49eba2685f416be4f148",
       "version_major": 2,
       "version_minor": 0
      },
      "text/plain": [
       "  0%|          | 0/10 [00:00<?, ?it/s]"
      ]
     },
     "metadata": {},
     "output_type": "display_data"
    },
    {
     "name": "stdout",
     "output_type": "stream",
     "text": [
      "17 19.0\n"
     ]
    },
    {
     "data": {
      "application/vnd.jupyter.widget-view+json": {
       "model_id": "eb3292e7ffa44f70ae0540401136a231",
       "version_major": 2,
       "version_minor": 0
      },
      "text/plain": [
       "  0%|          | 0/10 [00:00<?, ?it/s]"
      ]
     },
     "metadata": {},
     "output_type": "display_data"
    },
    {
     "name": "stdout",
     "output_type": "stream",
     "text": [
      "19 19.0\n"
     ]
    },
    {
     "data": {
      "application/vnd.jupyter.widget-view+json": {
       "model_id": "17a0b997eda54aa4a262d1781930370f",
       "version_major": 2,
       "version_minor": 0
      },
      "text/plain": [
       "  0%|          | 0/10 [00:00<?, ?it/s]"
      ]
     },
     "metadata": {},
     "output_type": "display_data"
    },
    {
     "name": "stdout",
     "output_type": "stream",
     "text": [
      "18 19.0\n"
     ]
    },
    {
     "data": {
      "application/vnd.jupyter.widget-view+json": {
       "model_id": "ce9622e61a0046269042c5a6b9a96590",
       "version_major": 2,
       "version_minor": 0
      },
      "text/plain": [
       "  0%|          | 0/10 [00:00<?, ?it/s]"
      ]
     },
     "metadata": {},
     "output_type": "display_data"
    },
    {
     "name": "stdout",
     "output_type": "stream",
     "text": [
      "18 18.0\n"
     ]
    },
    {
     "data": {
      "application/vnd.jupyter.widget-view+json": {
       "model_id": "1bf34255e6aa4cdda74596a946f2c44f",
       "version_major": 2,
       "version_minor": 0
      },
      "text/plain": [
       "  0%|          | 0/10 [00:00<?, ?it/s]"
      ]
     },
     "metadata": {},
     "output_type": "display_data"
    },
    {
     "name": "stdout",
     "output_type": "stream",
     "text": [
      "17 18.0\n"
     ]
    },
    {
     "data": {
      "application/vnd.jupyter.widget-view+json": {
       "model_id": "5a5db0b4e31f44f6a78af5d3e068c99e",
       "version_major": 2,
       "version_minor": 0
      },
      "text/plain": [
       "  0%|          | 0/9 [00:00<?, ?it/s]"
      ]
     },
     "metadata": {},
     "output_type": "display_data"
    },
    {
     "name": "stdout",
     "output_type": "stream",
     "text": [
      "15 17.0\n"
     ]
    },
    {
     "data": {
      "application/vnd.jupyter.widget-view+json": {
       "model_id": "3d9de59cc801493c9057b30179d43191",
       "version_major": 2,
       "version_minor": 0
      },
      "text/plain": [
       "  0%|          | 0/9 [00:00<?, ?it/s]"
      ]
     },
     "metadata": {},
     "output_type": "display_data"
    },
    {
     "name": "stdout",
     "output_type": "stream",
     "text": [
      "17 17.0\n"
     ]
    },
    {
     "data": {
      "application/vnd.jupyter.widget-view+json": {
       "model_id": "279dc4d2283b4ef5b4cccc342479db7b",
       "version_major": 2,
       "version_minor": 0
      },
      "text/plain": [
       "  0%|          | 0/9 [00:00<?, ?it/s]"
      ]
     },
     "metadata": {},
     "output_type": "display_data"
    },
    {
     "name": "stdout",
     "output_type": "stream",
     "text": [
      "19 17.0\n"
     ]
    },
    {
     "data": {
      "application/vnd.jupyter.widget-view+json": {
       "model_id": "235364834a894ce29a4bf97d6e6e7b1a",
       "version_major": 2,
       "version_minor": 0
      },
      "text/plain": [
       "  0%|          | 0/9 [00:00<?, ?it/s]"
      ]
     },
     "metadata": {},
     "output_type": "display_data"
    },
    {
     "name": "stdout",
     "output_type": "stream",
     "text": [
      "18 17.0\n"
     ]
    },
    {
     "data": {
      "application/vnd.jupyter.widget-view+json": {
       "model_id": "d63bc2be00bf40c08f30d050b1d70ca2",
       "version_major": 2,
       "version_minor": 0
      },
      "text/plain": [
       "  0%|          | 0/9 [00:00<?, ?it/s]"
      ]
     },
     "metadata": {},
     "output_type": "display_data"
    },
    {
     "name": "stdout",
     "output_type": "stream",
     "text": [
      "13 17.0\n"
     ]
    },
    {
     "data": {
      "application/vnd.jupyter.widget-view+json": {
       "model_id": "6b12512f7c4e4a64be79612884fa1b44",
       "version_major": 2,
       "version_minor": 0
      },
      "text/plain": [
       "  0%|          | 0/9 [00:00<?, ?it/s]"
      ]
     },
     "metadata": {},
     "output_type": "display_data"
    },
    {
     "name": "stdout",
     "output_type": "stream",
     "text": [
      "17 16.0\n"
     ]
    },
    {
     "data": {
      "application/vnd.jupyter.widget-view+json": {
       "model_id": "19f920b88ee7470d995ff215ec3a8f1a",
       "version_major": 2,
       "version_minor": 0
      },
      "text/plain": [
       "  0%|          | 0/9 [00:00<?, ?it/s]"
      ]
     },
     "metadata": {},
     "output_type": "display_data"
    },
    {
     "name": "stdout",
     "output_type": "stream",
     "text": [
      "16 16.0\n"
     ]
    },
    {
     "data": {
      "application/vnd.jupyter.widget-view+json": {
       "model_id": "5e8cb6db93dc426bb78daf79b500d912",
       "version_major": 2,
       "version_minor": 0
      },
      "text/plain": [
       "  0%|          | 0/8 [00:00<?, ?it/s]"
      ]
     },
     "metadata": {},
     "output_type": "display_data"
    },
    {
     "name": "stdout",
     "output_type": "stream",
     "text": [
      "16 15.0\n"
     ]
    },
    {
     "data": {
      "application/vnd.jupyter.widget-view+json": {
       "model_id": "e7672802219f4980a03f257e52712506",
       "version_major": 2,
       "version_minor": 0
      },
      "text/plain": [
       "  0%|          | 0/8 [00:00<?, ?it/s]"
      ]
     },
     "metadata": {},
     "output_type": "display_data"
    },
    {
     "name": "stdout",
     "output_type": "stream",
     "text": [
      "15 15.0\n"
     ]
    },
    {
     "data": {
      "application/vnd.jupyter.widget-view+json": {
       "model_id": "a1b350fa96a74a1596b6a9cd21fa3dc5",
       "version_major": 2,
       "version_minor": 0
      },
      "text/plain": [
       "  0%|          | 0/8 [00:00<?, ?it/s]"
      ]
     },
     "metadata": {},
     "output_type": "display_data"
    },
    {
     "name": "stdout",
     "output_type": "stream",
     "text": [
      "15 15.0\n"
     ]
    },
    {
     "data": {
      "application/vnd.jupyter.widget-view+json": {
       "model_id": "d6011428bdd246e0981a1abbeec42436",
       "version_major": 2,
       "version_minor": 0
      },
      "text/plain": [
       "  0%|          | 0/8 [00:00<?, ?it/s]"
      ]
     },
     "metadata": {},
     "output_type": "display_data"
    },
    {
     "name": "stdout",
     "output_type": "stream",
     "text": [
      "13 14.0\n"
     ]
    },
    {
     "data": {
      "application/vnd.jupyter.widget-view+json": {
       "model_id": "1e40b1e9dfa142dabbbeb121cdbce41b",
       "version_major": 2,
       "version_minor": 0
      },
      "text/plain": [
       "  0%|          | 0/7 [00:00<?, ?it/s]"
      ]
     },
     "metadata": {},
     "output_type": "display_data"
    },
    {
     "name": "stdout",
     "output_type": "stream",
     "text": [
      "14 13.0\n"
     ]
    },
    {
     "data": {
      "application/vnd.jupyter.widget-view+json": {
       "model_id": "9ff17d887c0d4a74822a0393f9b44971",
       "version_major": 2,
       "version_minor": 0
      },
      "text/plain": [
       "  0%|          | 0/7 [00:00<?, ?it/s]"
      ]
     },
     "metadata": {},
     "output_type": "display_data"
    },
    {
     "name": "stdout",
     "output_type": "stream",
     "text": [
      "13 13.0\n"
     ]
    },
    {
     "data": {
      "application/vnd.jupyter.widget-view+json": {
       "model_id": "31762f66420846d380e5dc436482cf2c",
       "version_major": 2,
       "version_minor": 0
      },
      "text/plain": [
       "  0%|          | 0/7 [00:00<?, ?it/s]"
      ]
     },
     "metadata": {},
     "output_type": "display_data"
    },
    {
     "name": "stdout",
     "output_type": "stream",
     "text": [
      "4 12.0\n"
     ]
    },
    {
     "data": {
      "application/vnd.jupyter.widget-view+json": {
       "model_id": "0d60270db6ac41d38b4ab3969de046c9",
       "version_major": 2,
       "version_minor": 0
      },
      "text/plain": [
       "  0%|          | 0/6 [00:00<?, ?it/s]"
      ]
     },
     "metadata": {},
     "output_type": "display_data"
    },
    {
     "name": "stdout",
     "output_type": "stream",
     "text": [
      "11 11.0\n"
     ]
    },
    {
     "data": {
      "application/vnd.jupyter.widget-view+json": {
       "model_id": "a845683b4cbf49e5bf1adfc527f932dd",
       "version_major": 2,
       "version_minor": 0
      },
      "text/plain": [
       "  0%|          | 0/6 [00:00<?, ?it/s]"
      ]
     },
     "metadata": {},
     "output_type": "display_data"
    },
    {
     "name": "stdout",
     "output_type": "stream",
     "text": [
      "11 11.0\n"
     ]
    },
    {
     "data": {
      "application/vnd.jupyter.widget-view+json": {
       "model_id": "7e9b3e58a3924492805aa54ad9f00c5b",
       "version_major": 2,
       "version_minor": 0
      },
      "text/plain": [
       "  0%|          | 0/6 [00:00<?, ?it/s]"
      ]
     },
     "metadata": {},
     "output_type": "display_data"
    },
    {
     "name": "stdout",
     "output_type": "stream",
     "text": [
      "11 11.0\n"
     ]
    }
   ],
   "source": [
    "firsts = {}\n",
    "batch_size = 10\n",
    "cf = curr_firsts[curr_firsts.nfirst_x > batch_size]\n",
    "se = StringEncoder(model=mod, device='cpu')\n",
    "cf = cf[cf.nfirst_x < np.inf]\n",
    "for x in tqdm(cf.itertuples(), total=cf.shape[0]):\n",
    "    lvisloop(ev0, se, x.category, firsts=firsts, max_n=min(x.nfirst_x*5, 200), \n",
    "             batch_size=batch_size, tqdm_disabled=False, feedback=True)\n",
    "    se.reset()\n",
    "    torch.cuda.empty_cache()\n",
    "    print(firsts[x.category], x.nfirst_x)\n",
    "    if x.nfirst_x <= batch_size:\n",
    "        break"
   ]
  },
  {
   "cell_type": "code",
   "execution_count": null,
   "id": "compound-berkeley",
   "metadata": {
    "ExecuteTime": {
     "end_time": "2021-06-29T17:20:53.937855Z",
     "start_time": "2021-06-29T17:19:20.797Z"
    }
   },
   "outputs": [],
   "source": [
    "%debug"
   ]
  },
  {
   "cell_type": "code",
   "execution_count": 47,
   "id": "bacterial-gregory",
   "metadata": {
    "ExecuteTime": {
     "end_time": "2021-06-29T18:01:47.366395Z",
     "start_time": "2021-06-29T18:01:47.327309Z"
    }
   },
   "outputs": [],
   "source": [
    "rdf = pd.concat([pd.Series(firsts).rename('feedback'), cf[['category', 'nfirst_x']].set_index('category')['nfirst_x'].rename('no_feedback')], axis=1)"
   ]
  },
  {
   "cell_type": "code",
   "execution_count": null,
   "id": "original-laundry",
   "metadata": {},
   "outputs": [],
   "source": []
  },
  {
   "cell_type": "code",
   "execution_count": 48,
   "id": "disturbed-enlargement",
   "metadata": {
    "ExecuteTime": {
     "end_time": "2021-06-29T18:01:48.258367Z",
     "start_time": "2021-06-29T18:01:48.212296Z"
    }
   },
   "outputs": [
    {
     "data": {
      "text/html": [
       "<div>\n",
       "<style scoped>\n",
       "    .dataframe tbody tr th:only-of-type {\n",
       "        vertical-align: middle;\n",
       "    }\n",
       "\n",
       "    .dataframe tbody tr th {\n",
       "        vertical-align: top;\n",
       "    }\n",
       "\n",
       "    .dataframe thead th {\n",
       "        text-align: right;\n",
       "    }\n",
       "</style>\n",
       "<table border=\"1\" class=\"dataframe\">\n",
       "  <thead>\n",
       "    <tr style=\"text-align: right;\">\n",
       "      <th></th>\n",
       "      <th>feedback</th>\n",
       "      <th>no_feedback</th>\n",
       "    </tr>\n",
       "  </thead>\n",
       "  <tbody>\n",
       "    <tr>\n",
       "      <th>masher</th>\n",
       "      <td>90</td>\n",
       "      <td>97.0</td>\n",
       "    </tr>\n",
       "    <tr>\n",
       "      <th>car battery</th>\n",
       "      <td>93</td>\n",
       "      <td>97.0</td>\n",
       "    </tr>\n",
       "    <tr>\n",
       "      <th>hamper</th>\n",
       "      <td>69</td>\n",
       "      <td>90.0</td>\n",
       "    </tr>\n",
       "    <tr>\n",
       "      <th>skullcap</th>\n",
       "      <td>119</td>\n",
       "      <td>85.0</td>\n",
       "    </tr>\n",
       "    <tr>\n",
       "      <th>chap</th>\n",
       "      <td>194</td>\n",
       "      <td>80.0</td>\n",
       "    </tr>\n",
       "    <tr>\n",
       "      <th>die</th>\n",
       "      <td>57</td>\n",
       "      <td>70.0</td>\n",
       "    </tr>\n",
       "    <tr>\n",
       "      <th>sawhorse</th>\n",
       "      <td>56</td>\n",
       "      <td>68.0</td>\n",
       "    </tr>\n",
       "    <tr>\n",
       "      <th>boom microphone</th>\n",
       "      <td>58</td>\n",
       "      <td>67.0</td>\n",
       "    </tr>\n",
       "    <tr>\n",
       "      <th>breechcloth</th>\n",
       "      <td>127</td>\n",
       "      <td>67.0</td>\n",
       "    </tr>\n",
       "    <tr>\n",
       "      <th>domestic ass</th>\n",
       "      <td>41</td>\n",
       "      <td>61.0</td>\n",
       "    </tr>\n",
       "    <tr>\n",
       "      <th>palette</th>\n",
       "      <td>119</td>\n",
       "      <td>61.0</td>\n",
       "    </tr>\n",
       "    <tr>\n",
       "      <th>triangle (musical instrument)</th>\n",
       "      <td>44</td>\n",
       "      <td>52.0</td>\n",
       "    </tr>\n",
       "    <tr>\n",
       "      <th>safety pin</th>\n",
       "      <td>45</td>\n",
       "      <td>50.0</td>\n",
       "    </tr>\n",
       "    <tr>\n",
       "      <th>bonnet</th>\n",
       "      <td>42</td>\n",
       "      <td>49.0</td>\n",
       "    </tr>\n",
       "    <tr>\n",
       "      <th>clutch bag</th>\n",
       "      <td>44</td>\n",
       "      <td>47.0</td>\n",
       "    </tr>\n",
       "    <tr>\n",
       "      <th>marker</th>\n",
       "      <td>44</td>\n",
       "      <td>46.0</td>\n",
       "    </tr>\n",
       "    <tr>\n",
       "      <th>neckerchief</th>\n",
       "      <td>40</td>\n",
       "      <td>43.0</td>\n",
       "    </tr>\n",
       "    <tr>\n",
       "      <th>tambourine</th>\n",
       "      <td>39</td>\n",
       "      <td>40.0</td>\n",
       "    </tr>\n",
       "    <tr>\n",
       "      <th>lemonade</th>\n",
       "      <td>39</td>\n",
       "      <td>40.0</td>\n",
       "    </tr>\n",
       "    <tr>\n",
       "      <th>pad</th>\n",
       "      <td>40</td>\n",
       "      <td>40.0</td>\n",
       "    </tr>\n",
       "    <tr>\n",
       "      <th>dropper</th>\n",
       "      <td>33</td>\n",
       "      <td>39.0</td>\n",
       "    </tr>\n",
       "    <tr>\n",
       "      <th>hair curler</th>\n",
       "      <td>40</td>\n",
       "      <td>38.0</td>\n",
       "    </tr>\n",
       "    <tr>\n",
       "      <th>pan (metal container)</th>\n",
       "      <td>93</td>\n",
       "      <td>37.0</td>\n",
       "    </tr>\n",
       "    <tr>\n",
       "      <th>hardback book</th>\n",
       "      <td>38</td>\n",
       "      <td>37.0</td>\n",
       "    </tr>\n",
       "    <tr>\n",
       "      <th>clippers (for plants)</th>\n",
       "      <td>31</td>\n",
       "      <td>35.0</td>\n",
       "    </tr>\n",
       "    <tr>\n",
       "      <th>compass</th>\n",
       "      <td>30</td>\n",
       "      <td>33.0</td>\n",
       "    </tr>\n",
       "    <tr>\n",
       "      <th>barbell</th>\n",
       "      <td>26</td>\n",
       "      <td>29.0</td>\n",
       "    </tr>\n",
       "    <tr>\n",
       "      <th>Band Aid</th>\n",
       "      <td>24</td>\n",
       "      <td>28.0</td>\n",
       "    </tr>\n",
       "    <tr>\n",
       "      <th>atomizer</th>\n",
       "      <td>25</td>\n",
       "      <td>28.0</td>\n",
       "    </tr>\n",
       "    <tr>\n",
       "      <th>electric chair</th>\n",
       "      <td>25</td>\n",
       "      <td>26.0</td>\n",
       "    </tr>\n",
       "    <tr>\n",
       "      <th>nosebag (for animals)</th>\n",
       "      <td>30</td>\n",
       "      <td>26.0</td>\n",
       "    </tr>\n",
       "    <tr>\n",
       "      <th>inhaler</th>\n",
       "      <td>24</td>\n",
       "      <td>24.0</td>\n",
       "    </tr>\n",
       "    <tr>\n",
       "      <th>shower cap</th>\n",
       "      <td>24</td>\n",
       "      <td>23.0</td>\n",
       "    </tr>\n",
       "    <tr>\n",
       "      <th>passenger ship</th>\n",
       "      <td>19</td>\n",
       "      <td>23.0</td>\n",
       "    </tr>\n",
       "    <tr>\n",
       "      <th>jelly bean</th>\n",
       "      <td>22</td>\n",
       "      <td>22.0</td>\n",
       "    </tr>\n",
       "    <tr>\n",
       "      <th>milk can</th>\n",
       "      <td>22</td>\n",
       "      <td>22.0</td>\n",
       "    </tr>\n",
       "    <tr>\n",
       "      <th>baboon</th>\n",
       "      <td>21</td>\n",
       "      <td>21.0</td>\n",
       "    </tr>\n",
       "    <tr>\n",
       "      <th>eel</th>\n",
       "      <td>20</td>\n",
       "      <td>20.0</td>\n",
       "    </tr>\n",
       "    <tr>\n",
       "      <th>shawl</th>\n",
       "      <td>17</td>\n",
       "      <td>19.0</td>\n",
       "    </tr>\n",
       "    <tr>\n",
       "      <th>bobbin</th>\n",
       "      <td>19</td>\n",
       "      <td>19.0</td>\n",
       "    </tr>\n",
       "    <tr>\n",
       "      <th>hand glass</th>\n",
       "      <td>18</td>\n",
       "      <td>19.0</td>\n",
       "    </tr>\n",
       "    <tr>\n",
       "      <th>inkpad</th>\n",
       "      <td>18</td>\n",
       "      <td>18.0</td>\n",
       "    </tr>\n",
       "    <tr>\n",
       "      <th>telephoto lens</th>\n",
       "      <td>17</td>\n",
       "      <td>18.0</td>\n",
       "    </tr>\n",
       "    <tr>\n",
       "      <th>flipper (footwear)</th>\n",
       "      <td>15</td>\n",
       "      <td>17.0</td>\n",
       "    </tr>\n",
       "    <tr>\n",
       "      <th>Sharpie</th>\n",
       "      <td>17</td>\n",
       "      <td>17.0</td>\n",
       "    </tr>\n",
       "    <tr>\n",
       "      <th>ice skate</th>\n",
       "      <td>19</td>\n",
       "      <td>17.0</td>\n",
       "    </tr>\n",
       "    <tr>\n",
       "      <th>lightning rod</th>\n",
       "      <td>18</td>\n",
       "      <td>17.0</td>\n",
       "    </tr>\n",
       "    <tr>\n",
       "      <th>poker chip</th>\n",
       "      <td>13</td>\n",
       "      <td>17.0</td>\n",
       "    </tr>\n",
       "    <tr>\n",
       "      <th>nut</th>\n",
       "      <td>17</td>\n",
       "      <td>16.0</td>\n",
       "    </tr>\n",
       "    <tr>\n",
       "      <th>postcard</th>\n",
       "      <td>16</td>\n",
       "      <td>16.0</td>\n",
       "    </tr>\n",
       "    <tr>\n",
       "      <th>cylinder</th>\n",
       "      <td>16</td>\n",
       "      <td>15.0</td>\n",
       "    </tr>\n",
       "    <tr>\n",
       "      <th>underdrawers</th>\n",
       "      <td>15</td>\n",
       "      <td>15.0</td>\n",
       "    </tr>\n",
       "    <tr>\n",
       "      <th>ice pack</th>\n",
       "      <td>15</td>\n",
       "      <td>15.0</td>\n",
       "    </tr>\n",
       "    <tr>\n",
       "      <th>gargle</th>\n",
       "      <td>13</td>\n",
       "      <td>14.0</td>\n",
       "    </tr>\n",
       "    <tr>\n",
       "      <th>generator</th>\n",
       "      <td>14</td>\n",
       "      <td>13.0</td>\n",
       "    </tr>\n",
       "    <tr>\n",
       "      <th>handcuff</th>\n",
       "      <td>13</td>\n",
       "      <td>13.0</td>\n",
       "    </tr>\n",
       "    <tr>\n",
       "      <th>iron (for clothing)</th>\n",
       "      <td>4</td>\n",
       "      <td>12.0</td>\n",
       "    </tr>\n",
       "    <tr>\n",
       "      <th>bedpan</th>\n",
       "      <td>11</td>\n",
       "      <td>11.0</td>\n",
       "    </tr>\n",
       "    <tr>\n",
       "      <th>hatbox</th>\n",
       "      <td>11</td>\n",
       "      <td>11.0</td>\n",
       "    </tr>\n",
       "    <tr>\n",
       "      <th>puncher</th>\n",
       "      <td>11</td>\n",
       "      <td>11.0</td>\n",
       "    </tr>\n",
       "  </tbody>\n",
       "</table>\n",
       "</div>"
      ],
      "text/plain": [
       "                               feedback  no_feedback\n",
       "masher                               90         97.0\n",
       "car battery                          93         97.0\n",
       "hamper                               69         90.0\n",
       "skullcap                            119         85.0\n",
       "chap                                194         80.0\n",
       "die                                  57         70.0\n",
       "sawhorse                             56         68.0\n",
       "boom microphone                      58         67.0\n",
       "breechcloth                         127         67.0\n",
       "domestic ass                         41         61.0\n",
       "palette                             119         61.0\n",
       "triangle (musical instrument)        44         52.0\n",
       "safety pin                           45         50.0\n",
       "bonnet                               42         49.0\n",
       "clutch bag                           44         47.0\n",
       "marker                               44         46.0\n",
       "neckerchief                          40         43.0\n",
       "tambourine                           39         40.0\n",
       "lemonade                             39         40.0\n",
       "pad                                  40         40.0\n",
       "dropper                              33         39.0\n",
       "hair curler                          40         38.0\n",
       "pan (metal container)                93         37.0\n",
       "hardback book                        38         37.0\n",
       "clippers (for plants)                31         35.0\n",
       "compass                              30         33.0\n",
       "barbell                              26         29.0\n",
       "Band Aid                             24         28.0\n",
       "atomizer                             25         28.0\n",
       "electric chair                       25         26.0\n",
       "nosebag (for animals)                30         26.0\n",
       "inhaler                              24         24.0\n",
       "shower cap                           24         23.0\n",
       "passenger ship                       19         23.0\n",
       "jelly bean                           22         22.0\n",
       "milk can                             22         22.0\n",
       "baboon                               21         21.0\n",
       "eel                                  20         20.0\n",
       "shawl                                17         19.0\n",
       "bobbin                               19         19.0\n",
       "hand glass                           18         19.0\n",
       "inkpad                               18         18.0\n",
       "telephoto lens                       17         18.0\n",
       "flipper (footwear)                   15         17.0\n",
       "Sharpie                              17         17.0\n",
       "ice skate                            19         17.0\n",
       "lightning rod                        18         17.0\n",
       "poker chip                           13         17.0\n",
       "nut                                  17         16.0\n",
       "postcard                             16         16.0\n",
       "cylinder                             16         15.0\n",
       "underdrawers                         15         15.0\n",
       "ice pack                             15         15.0\n",
       "gargle                               13         14.0\n",
       "generator                            14         13.0\n",
       "handcuff                             13         13.0\n",
       "iron (for clothing)                   4         12.0\n",
       "bedpan                               11         11.0\n",
       "hatbox                               11         11.0\n",
       "puncher                              11         11.0"
      ]
     },
     "execution_count": 48,
     "metadata": {},
     "output_type": "execute_result"
    }
   ],
   "source": [
    "rdf"
   ]
  },
  {
   "cell_type": "code",
   "execution_count": 49,
   "id": "straight-former",
   "metadata": {
    "ExecuteTime": {
     "end_time": "2021-06-29T18:01:50.964033Z",
     "start_time": "2021-06-29T18:01:50.925695Z"
    }
   },
   "outputs": [
    {
     "data": {
      "text/plain": [
       "(0.5, 0.26666666666666666, 0.23333333333333334)"
      ]
     },
     "execution_count": 49,
     "metadata": {},
     "output_type": "execute_result"
    }
   ],
   "source": [
    "((rdf.feedback < rdf.no_feedback).mean(), \n",
    "(rdf.feedback == rdf.no_feedback).mean(), \n",
    "(rdf.feedback > rdf.no_feedback).mean())"
   ]
  },
  {
   "cell_type": "code",
   "execution_count": 50,
   "id": "connected-branch",
   "metadata": {
    "ExecuteTime": {
     "end_time": "2021-06-29T18:03:06.563750Z",
     "start_time": "2021-06-29T18:03:06.524723Z"
    }
   },
   "outputs": [],
   "source": [
    "#rdf.to_parquet('./data/lvis_nfirst_verbal.parquet')"
   ]
  },
  {
   "cell_type": "code",
   "execution_count": null,
   "id": "future-violence",
   "metadata": {},
   "outputs": [],
   "source": []
  }
 ],
 "metadata": {
  "kernelspec": {
   "display_name": "Python (seesaw)",
   "language": "python",
   "name": "seesaw"
  },
  "language_info": {
   "codemirror_mode": {
    "name": "ipython",
    "version": 3
   },
   "file_extension": ".py",
   "mimetype": "text/x-python",
   "name": "python",
   "nbconvert_exporter": "python",
   "pygments_lexer": "ipython3",
   "version": "3.8.12"
  }
 },
 "nbformat": 4,
 "nbformat_minor": 5
}
