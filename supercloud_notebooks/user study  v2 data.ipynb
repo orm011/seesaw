{
 "cells": [
  {
   "cell_type": "code",
   "execution_count": 1,
   "id": "7a82b672",
   "metadata": {
    "ExecuteTime": {
     "end_time": "2022-04-15T21:20:47.617240Z",
     "start_time": "2022-04-15T21:20:47.610648Z"
    }
   },
   "outputs": [],
   "source": [
    "import os"
   ]
  },
  {
   "cell_type": "code",
   "execution_count": null,
   "id": "36dd504a-1cec-49c7-acab-3ee3b878066f",
   "metadata": {},
   "outputs": [],
   "source": [
    "/home/gridsan/groups/fastai/seesaw/user_study_data/sessions_mturk/\n"
   ]
  },
  {
   "cell_type": "code",
   "execution_count": 2,
   "id": "8e696c6e",
   "metadata": {
    "ExecuteTime": {
     "end_time": "2022-04-15T21:21:26.501148Z",
     "start_time": "2022-04-15T21:21:26.497147Z"
    },
    "execution": {
     "iopub.execute_input": "2023-01-14T01:22:48.241830Z",
     "iopub.status.busy": "2023-01-14T01:22:48.241558Z",
     "iopub.status.idle": "2023-01-14T01:22:48.244273Z",
     "shell.execute_reply": "2023-01-14T01:22:48.243874Z",
     "shell.execute_reply.started": "2023-01-14T01:22:48.241811Z"
    },
    "tags": []
   },
   "outputs": [],
   "source": [
    "#session_ids = ['oscar_test']\n",
    "search_paths = ['/home/gridsan/omoll/fastai_shared/omoll/user_study_sessions2/',\n",
    "             #'./user_study_sessions_v3/'\n",
    "               ]\n",
    "#template = '/home2/gridsan/omoll/fastai_shared/omoll/user_study_sessionssessions2/session_oscar_test4/session_time_20220331-133413'"
   ]
  },
  {
   "cell_type": "code",
   "execution_count": 3,
   "id": "bdfcb8c6",
   "metadata": {
    "ExecuteTime": {
     "end_time": "2022-04-15T21:20:52.999320Z",
     "start_time": "2022-04-15T21:20:52.995164Z"
    },
    "execution": {
     "iopub.execute_input": "2023-01-14T01:22:49.164337Z",
     "iopub.status.busy": "2023-01-14T01:22:49.164131Z",
     "iopub.status.idle": "2023-01-14T01:22:49.166549Z",
     "shell.execute_reply": "2023-01-14T01:22:49.166188Z",
     "shell.execute_reply.started": "2023-01-14T01:22:49.164322Z"
    }
   },
   "outputs": [],
   "source": [
    "import importlib"
   ]
  },
  {
   "cell_type": "code",
   "execution_count": 4,
   "id": "6acadff4",
   "metadata": {
    "ExecuteTime": {
     "end_time": "2022-04-15T21:21:27.672259Z",
     "start_time": "2022-04-15T21:21:27.425032Z"
    },
    "execution": {
     "iopub.execute_input": "2023-01-14T01:23:10.486225Z",
     "iopub.status.busy": "2023-01-14T01:23:10.485764Z",
     "iopub.status.idle": "2023-01-14T01:23:12.130801Z",
     "shell.execute_reply": "2023-01-14T01:23:12.130285Z",
     "shell.execute_reply.started": "2023-01-14T01:23:10.486191Z"
    }
   },
   "outputs": [
    {
     "data": {
      "application/vnd.jupyter.widget-view+json": {
       "model_id": "de4536f177e7441f8f3044a13bf537b6",
       "version_major": 2,
       "version_minor": 0
      },
      "text/plain": [
       "  0%|          | 0/26 [00:00<?, ?it/s]"
      ]
     },
     "metadata": {},
     "output_type": "display_data"
    }
   ],
   "source": [
    "# import seesaw\n",
    "import seesaw.user_data_analysis\n",
    "#importlib.reload(seesaw.user_data_analysis)\n",
    "from seesaw.user_data_analysis import load_session_data\n",
    "sessions_v3 = load_session_data(search_paths[0], use_ray=False)\n",
    "#json.dump(sessions_v3, open('./sessions_v3.json', 'wb'))"
   ]
  },
  {
   "cell_type": "code",
   "execution_count": null,
   "id": "63466d36",
   "metadata": {
    "ExecuteTime": {
     "start_time": "2022-04-15T20:16:50.626Z"
    }
   },
   "outputs": [],
   "source": [
    "# import ray\n",
    "# ray.init('auto', ignore_reinit_error=True)"
   ]
  },
  {
   "cell_type": "code",
   "execution_count": 5,
   "id": "5077c7b7",
   "metadata": {
    "ExecuteTime": {
     "end_time": "2022-04-15T21:21:45.099133Z",
     "start_time": "2022-04-15T21:21:45.095397Z"
    },
    "execution": {
     "iopub.execute_input": "2023-01-14T01:23:15.213508Z",
     "iopub.status.busy": "2023-01-14T01:23:15.213210Z",
     "iopub.status.idle": "2023-01-14T01:23:15.216500Z",
     "shell.execute_reply": "2023-01-14T01:23:15.216112Z",
     "shell.execute_reply.started": "2023-01-14T01:23:15.213487Z"
    }
   },
   "outputs": [],
   "source": [
    "import hashlib\n",
    "import random\n",
    "import string\n",
    "\n",
    "def get_user_hash(user):\n",
    "    md = hashlib.md5(user.encode())\n",
    "    user_hash = md.hexdigest()[:10]\n",
    "    return user_hash"
   ]
  },
  {
   "cell_type": "code",
   "execution_count": 12,
   "id": "51a131e8",
   "metadata": {
    "ExecuteTime": {
     "end_time": "2022-04-15T21:22:00.548317Z",
     "start_time": "2022-04-15T21:22:00.544375Z"
    }
   },
   "outputs": [],
   "source": [
    "# pd.Timestamp(brit_start.timestamp(), unit='s')"
   ]
  },
  {
   "cell_type": "code",
   "execution_count": 8,
   "id": "eab8d10b",
   "metadata": {
    "ExecuteTime": {
     "end_time": "2022-04-15T21:22:09.931003Z",
     "start_time": "2022-04-15T21:22:09.921464Z"
    },
    "execution": {
     "iopub.execute_input": "2023-01-14T01:23:35.095792Z",
     "iopub.status.busy": "2023-01-14T01:23:35.095492Z",
     "iopub.status.idle": "2023-01-14T01:23:35.099917Z",
     "shell.execute_reply": "2023-01-14T01:23:35.099529Z",
     "shell.execute_reply.started": "2023-01-14T01:23:35.095762Z"
    },
    "tags": []
   },
   "outputs": [],
   "source": [
    "real_users = [\n",
    "    'ferdy',\n",
    "    'jialin',\n",
    "    'favyen',\n",
    "    'ziniu',\n",
    "    'xinjing',\n",
    "    'kapil',\n",
    "    'eugenie',\n",
    "    'faraz',\n",
    "    'brit',\n",
    "    'test',#'brit' (between times 1649076970  1649084170)\n",
    "    'markos',\n",
    "    'harshal',\n",
    "    'geoffrey',\n",
    "    'siva',\n",
    "]\n",
    "import pytz\n",
    "\n",
    "import datetime\n",
    "brit_start = datetime.datetime(2022, 4, day=4, hour=8, minute=30, tzinfo=pytz.timezone('US/Eastern'))\n",
    "brit_end = datetime.datetime(2022, 4, day=4, hour=9, minute=15, tzinfo=pytz.timezone('US/Eastern'))\n",
    "\n",
    "users = real_users\n",
    "import math\n",
    "\n",
    "import datetime\n",
    "\n",
    "base_modes = ['pytorch', 'default']\n",
    "    \n",
    "hash2uname = {get_user_hash(u):u for u in users}\n"
   ]
  },
  {
   "cell_type": "code",
   "execution_count": 9,
   "id": "303e0e0a",
   "metadata": {
    "ExecuteTime": {
     "end_time": "2022-04-15T21:22:20.607930Z",
     "start_time": "2022-04-15T21:22:20.603705Z"
    },
    "execution": {
     "iopub.execute_input": "2023-01-14T01:23:36.314881Z",
     "iopub.status.busy": "2023-01-14T01:23:36.314654Z",
     "iopub.status.idle": "2023-01-14T01:23:36.317072Z",
     "shell.execute_reply": "2023-01-14T01:23:36.316686Z",
     "shell.execute_reply.started": "2023-01-14T01:23:36.314864Z"
    }
   },
   "outputs": [],
   "source": [
    "import math"
   ]
  },
  {
   "cell_type": "code",
   "execution_count": 10,
   "id": "c9acfcb1",
   "metadata": {
    "ExecuteTime": {
     "end_time": "2022-04-15T21:22:21.434504Z",
     "start_time": "2022-04-15T21:22:21.420545Z"
    },
    "execution": {
     "iopub.execute_input": "2023-01-14T01:23:38.347329Z",
     "iopub.status.busy": "2023-01-14T01:23:38.347109Z",
     "iopub.status.idle": "2023-01-14T01:23:38.352869Z",
     "shell.execute_reply": "2023-01-14T01:23:38.352494Z",
     "shell.execute_reply.started": "2023-01-14T01:23:38.347313Z"
    }
   },
   "outputs": [],
   "source": [
    "import datetime\n",
    "import pytz\n",
    "\n",
    "def process_ts(timestamp_s, timezone=pytz.timezone('US/Eastern')):\n",
    "    \"\"\"converts epoch (in seconds) to an easier to read datetime with timezone\"\"\"\n",
    "    rounded_ts = round(timestamp_s, ndigits=3)\n",
    "    ts = pd.to_datetime(rounded_ts, unit='s')\n",
    "    tsloc = pytz.utc.localize(ts)\n",
    "    ts_east = tsloc.astimezone(timezone)\n",
    "    return ts_east\n",
    "\n",
    "def process_action_log(log, seen_limit, accepted_limit):\n",
    "    i = 0\n",
    "    refine_total = 0.\n",
    "    \n",
    "    ret = {'start_time':None, 'log_cutoff_time':None, \n",
    "           'last_save_time':None, 'duration':None, \n",
    "           'shown':None, 'accepted':None,}\n",
    "    \n",
    "    while i < len(log) and log[i]['message'] != 'set_text':\n",
    "        i+=1\n",
    "    \n",
    "    if i == len(log):\n",
    "        return ret\n",
    "    \n",
    "    set_text = log[i]\n",
    "    assert set_text['message'] == 'set_text'\n",
    "    ret['start_time'] = process_ts(set_text['time'])\n",
    "        \n",
    "    while i < len(log) and log[i]['seen'] < seen_limit and log[i]['accepted'] < accepted_limit:\n",
    "        i+=1\n",
    "        \n",
    "    if i == len(log):\n",
    "        i -= 1\n",
    "        \n",
    "    last_record = log[i]\n",
    "    ret['last_save_time'] = process_ts(log[-1]['time'])\n",
    "    ret['seen_limit'] = seen_limit\n",
    "    ret['accepted_limit'] = accepted_limit\n",
    "    ret['log_cutoff_time'] = process_ts(last_record['time'])\n",
    "    ret['shown'] = last_record['seen']\n",
    "    ret['duration'] = (ret['log_cutoff_time'] - ret['start_time']).total_seconds()\n",
    "    ret['accepted'] = last_record['accepted']\n",
    "    return ret"
   ]
  },
  {
   "cell_type": "code",
   "execution_count": 11,
   "id": "780964bc",
   "metadata": {
    "ExecuteTime": {
     "end_time": "2022-04-15T21:22:22.805945Z",
     "start_time": "2022-04-15T21:22:22.802193Z"
    },
    "execution": {
     "iopub.execute_input": "2023-01-14T01:23:40.204491Z",
     "iopub.status.busy": "2023-01-14T01:23:40.204221Z",
     "iopub.status.idle": "2023-01-14T01:23:40.206716Z",
     "shell.execute_reply": "2023-01-14T01:23:40.206336Z",
     "shell.execute_reply.started": "2023-01-14T01:23:40.204473Z"
    }
   },
   "outputs": [],
   "source": [
    "excluded_session = [\n",
    "    'pzldslyrpx', # a test session under brit's name\n",
    "]"
   ]
  },
  {
   "cell_type": "code",
   "execution_count": 12,
   "id": "0c4318b8",
   "metadata": {
    "ExecuteTime": {
     "end_time": "2022-04-15T21:22:23.992882Z",
     "start_time": "2022-04-15T21:22:23.988863Z"
    },
    "execution": {
     "iopub.execute_input": "2023-01-14T01:23:41.983429Z",
     "iopub.status.busy": "2023-01-14T01:23:41.983216Z",
     "iopub.status.idle": "2023-01-14T01:23:41.985590Z",
     "shell.execute_reply": "2023-01-14T01:23:41.985229Z",
     "shell.execute_reply.started": "2023-01-14T01:23:41.983414Z"
    }
   },
   "outputs": [],
   "source": [
    "from seesaw.user_data_analysis import get_session_summary"
   ]
  },
  {
   "cell_type": "code",
   "execution_count": 13,
   "id": "5d71fc2a",
   "metadata": {
    "ExecuteTime": {
     "end_time": "2022-04-16T04:38:18.785623Z",
     "start_time": "2022-04-16T04:38:18.772320Z"
    },
    "execution": {
     "iopub.execute_input": "2023-01-14T01:23:46.268589Z",
     "iopub.status.busy": "2023-01-14T01:23:46.268358Z",
     "iopub.status.idle": "2023-01-14T01:23:46.273599Z",
     "shell.execute_reply": "2023-01-14T01:23:46.273229Z",
     "shell.execute_reply.started": "2023-01-14T01:23:46.268573Z"
    }
   },
   "outputs": [],
   "source": [
    "def linear_gdata(sess, accepted_only=True):\n",
    "    summary = get_session_summary(sess)\n",
    "    session = sess['session']\n",
    "    action_log = session['action_log']\n",
    "    gdata = session['gdata']\n",
    "        \n",
    "    task_started = summary['task_started']\n",
    "    ret = []\n",
    "    ret.append([-1,-1, 0, 0, False])\n",
    "    for i,l in enumerate(gdata):\n",
    "        for j,r in enumerate(l):\n",
    "            is_accepted = is_image_accepted(Imdata(**r))\n",
    "            for time_rec in r['timing']:\n",
    "                ret.append([i,j,time_rec['start_ms']/1000. - task_started, \n",
    "                            time_rec['end_ms']/1000. - task_started, is_accepted])\n",
    "                break\n",
    "            \n",
    "    df = pd.DataFrame(ret, columns=['i', 'j', 'start_s', 'end_s', 'accepted'])\n",
    "    df = df.sort_values(['start_s']).reset_index(drop=True)\n",
    "    assert df.start_s.is_monotonic \n",
    "    df = df.assign(total_accepted=df.accepted.cumsum(), total_seen=np.arange(df.shape[0]))\n",
    "    if accepted_only:\n",
    "        df = df.groupby('total_accepted').apply(lambda x : x.head(n=1)).reset_index(drop=True)\n",
    "    df = df.assign(**summary)\n",
    "    return df"
   ]
  },
  {
   "cell_type": "code",
   "execution_count": 14,
   "id": "f238b1ca",
   "metadata": {
    "ExecuteTime": {
     "end_time": "2022-04-16T04:32:50.867587Z",
     "start_time": "2022-04-16T04:32:50.863778Z"
    },
    "execution": {
     "iopub.execute_input": "2023-01-14T01:23:47.394280Z",
     "iopub.status.busy": "2023-01-14T01:23:47.394068Z",
     "iopub.status.idle": "2023-01-14T01:23:47.396302Z",
     "shell.execute_reply": "2023-01-14T01:23:47.395933Z",
     "shell.execute_reply.started": "2023-01-14T01:23:47.394266Z"
    }
   },
   "outputs": [],
   "source": [
    "sessions = sessions_v3"
   ]
  },
  {
   "cell_type": "code",
   "execution_count": 15,
   "id": "adc230e1",
   "metadata": {
    "ExecuteTime": {
     "end_time": "2022-04-15T21:22:42.508239Z",
     "start_time": "2022-04-15T21:22:42.495824Z"
    },
    "execution": {
     "iopub.execute_input": "2023-01-14T01:23:51.244760Z",
     "iopub.status.busy": "2023-01-14T01:23:51.244467Z",
     "iopub.status.idle": "2023-01-14T01:23:51.250218Z",
     "shell.execute_reply": "2023-01-14T01:23:51.249851Z",
     "shell.execute_reply.started": "2023-01-14T01:23:51.244741Z"
    }
   },
   "outputs": [
    {
     "data": {
      "text/plain": [
       "{'session_path': '/home/gridsan/omoll/fastai_shared/omoll/user_study_sessions2/session_yoecpsisqx/session_time_20220330-135006/',\n",
       " 'init_time': 1648662523.0058155,\n",
       " 'task_started': 1648662540.8889773,\n",
       " 'last_time': Timestamp('2022-03-30 13:50:06.974999808-0400', tz='US/Eastern'),\n",
       " 'mode': 'default',\n",
       " 'dataset': 'objectnet',\n",
       " 'qkey': 'gg',\n",
       " 'user': 'f9af294304',\n",
       " 'session_id': 'yoecpsisqx'}"
      ]
     },
     "execution_count": 15,
     "metadata": {},
     "output_type": "execute_result"
    }
   ],
   "source": [
    "get_session_summary(sessions[-1])"
   ]
  },
  {
   "cell_type": "code",
   "execution_count": 16,
   "id": "79cfb1d4",
   "metadata": {
    "ExecuteTime": {
     "end_time": "2022-04-15T19:34:23.516617Z",
     "start_time": "2022-04-15T19:34:23.514307Z"
    },
    "execution": {
     "iopub.execute_input": "2023-01-14T01:23:55.564824Z",
     "iopub.status.busy": "2023-01-14T01:23:55.564517Z",
     "iopub.status.idle": "2023-01-14T01:23:55.568011Z",
     "shell.execute_reply": "2023-01-14T01:23:55.567629Z",
     "shell.execute_reply.started": "2023-01-14T01:23:55.564804Z"
    }
   },
   "outputs": [
    {
     "data": {
      "text/plain": [
       "<function __main__.linear_gdata(sess, accepted_only=True)>"
      ]
     },
     "execution_count": 16,
     "metadata": {},
     "output_type": "execute_result"
    }
   ],
   "source": [
    "linear_gdata"
   ]
  },
  {
   "cell_type": "code",
   "execution_count": 17,
   "id": "82709c7c",
   "metadata": {
    "ExecuteTime": {
     "end_time": "2022-04-15T21:22:52.411254Z",
     "start_time": "2022-04-15T21:22:52.402123Z"
    },
    "execution": {
     "iopub.execute_input": "2023-01-14T01:23:56.500683Z",
     "iopub.status.busy": "2023-01-14T01:23:56.500465Z",
     "iopub.status.idle": "2023-01-14T01:23:56.504395Z",
     "shell.execute_reply": "2023-01-14T01:23:56.504033Z",
     "shell.execute_reply.started": "2023-01-14T01:23:56.500667Z"
    }
   },
   "outputs": [],
   "source": [
    "def fine_grained_accept_timeline(session, log_cutoff_time, start_time, max_accepted):\n",
    "    \"\"\" extract table of (accepted, elapsed_time) pairs for each image\"\"\"\n",
    "    \n",
    "    gdata = session['gdata']\n",
    "    image_pos = 0\n",
    "    total_seen = 0\n",
    "    total_accepted = 0\n",
    "    grand_total_time = 0\n",
    "    \n",
    "    image_records = []\n",
    "    elapsed_time = 0.\n",
    "    for l in gdata:\n",
    "        for r in l:\n",
    "            for time_rec in r['timing']:\n",
    "                if process_ts(time_rec['end_ms']/1000.) < log_cutoff_time:\n",
    "                    elapsed_time = time_rec['end_ms']/1000. - start_time\n",
    "                else:\n",
    "                    pass\n",
    "                \n",
    "            if is_image_accepted(Imdata(**r)):\n",
    "                total_accepted +=1\n",
    "                image_records.append((total_accepted,elapsed_time))\n",
    "                \n",
    "    "
   ]
  },
  {
   "cell_type": "code",
   "execution_count": 18,
   "id": "a9c4b61f",
   "metadata": {
    "ExecuteTime": {
     "end_time": "2022-04-16T04:38:33.014593Z",
     "start_time": "2022-04-16T04:38:32.996089Z"
    },
    "execution": {
     "iopub.execute_input": "2023-01-14T01:23:59.044868Z",
     "iopub.status.busy": "2023-01-14T01:23:59.044643Z",
     "iopub.status.idle": "2023-01-14T01:23:59.054255Z",
     "shell.execute_reply": "2023-01-14T01:23:59.053882Z",
     "shell.execute_reply.started": "2023-01-14T01:23:59.044851Z"
    }
   },
   "outputs": [],
   "source": [
    "def image_timing_summary(gdata, log_cutoff_time):\n",
    "    \"\"\" extract table of (num_annotations, time) pairs for each image\"\"\"\n",
    "    image_pos = 0\n",
    "    total_seen = 0\n",
    "    total_accepted = 0\n",
    "    grand_total_time = 0\n",
    "    \n",
    "    image_records = []\n",
    "    \n",
    "    for l in gdata:\n",
    "        for r in l:\n",
    "            total_time_ms = 0.\n",
    "            if 'timing' in r:\n",
    "                for time_rec in r['timing']:\n",
    "                    if process_ts(time_rec['end_ms']/1000.) < log_cutoff_time:\n",
    "                        total_time_ms += time_rec['end_ms'] - time_rec['start_ms']\n",
    "                    else:\n",
    "                        pass\n",
    "                        ## don't include times recorded after cuttoff\n",
    "                image_records.append({'dbidx':r['dbidx'], \n",
    "                                      'accepted':is_image_accepted(Imdata(**r)),\n",
    "                                      'total_time':total_time_ms\n",
    "                                     })\n",
    "                    \n",
    "                if total_time_ms > 0:\n",
    "                    total_seen +=1\n",
    "                    if is_image_accepted(Imdata(**r)):\n",
    "                        total_accepted +=1\n",
    "\n",
    "                    grand_total_time += total_time_ms\n",
    "            else: # ony one record is missing this\n",
    "                total_seen +=1\n",
    "                total_accepted += is_image_accepted(Imdata(**r))\n",
    "                grand_total_time += np.nan\n",
    "    \n",
    "    summary = {'total_viewed':total_seen, 'total_client_accepted':total_accepted, 'total_viewing_time_s':grand_total_time/1000}\n",
    "    return {'summary':summary, 'per_image':image_records}\n",
    "\n",
    "def session_totals(sess, seen_limit = 75, accepted_limit=10, mode=None, clean_paths=None):\n",
    "    \n",
    "    if clean_paths:\n",
    "        if sess['session_path'] not in clean_paths:\n",
    "            return []\n",
    "    \n",
    "    mode in [None, 'image_timing', 'time_progress']\n",
    "    sess_info = sess['session']\n",
    "    params = sess_info['params']\n",
    "    action_log = sess_info['action_log']\n",
    "    \n",
    "    sid = params.get('session_id')\n",
    "    if sid is None or sid in excluded_session: # some sessions are excluded\n",
    "        return [] \n",
    "    \n",
    "    other_params = params['other_params']\n",
    "    uname = hash2uname.get(params['other_params'].get('user'))\n",
    "    \n",
    "    if uname not in ['test', None]:\n",
    "        pass\n",
    "    elif (brit_start.timestamp() <= action_log[0]['time']  <= brit_end.timestamp()):\n",
    "        uname = 'brit'\n",
    "    else:\n",
    "        return []\n",
    "    \n",
    "    if uname == 'siva':\n",
    "        if other_params['qkey'] == 'cd':\n",
    "            other_params['qkey'] = 'dg'\n",
    "        elif other_params['qkey'] == 'dg':\n",
    "            other_params['qkey'] = 'cd'\n",
    "    \n",
    "#     if params['other_params']['qkey']  in ['amb', 'pc']:\n",
    "#         return []  \n",
    "    #summary = process_action_log(action_log, seen_limit, accepted_limit)\n",
    "    #total_shown = summary['shown']\n",
    "    #image_timing = image_timing_summary(sess_info['gdata'], log_cutoff_time=summary['log_cutoff_time'])\n",
    "    \n",
    "#     time_progress = analyze_time_progress(sess_info['action_log'], \n",
    "#                                accept_target=accepted_limit, \n",
    "#                                seen_target=seen_limit, \n",
    "#                                start_time = summary['start_time'],\n",
    "#                                log_cutoff_time=summary['log_cutoff_time'])\n",
    "    \n",
    "#     df = linear_gdata(sess)\n",
    "#     df = df.assign(qkey=other_params['qkey'], uname=uname)\n",
    "#     per_image = image_timing['per_image']\n",
    "    df = linear_gdata(sess, accepted_only=False)\n",
    "    df['qkey'] = other_params['qkey']\n",
    "    df['uname'] = uname\n",
    "    return [df]\n",
    "        \n",
    "    if mode == 'image_timing':\n",
    "        for d in per_image:\n",
    "            d['uname'] = uname\n",
    "            d.update(**params['other_params'])\n",
    "        return per_image\n",
    "    elif mode == 'time_progress':\n",
    "        for rec in time_progress:\n",
    "            rec.update(**params['other_params'])\n",
    "            rec['uname'] = uname\n",
    "            rec['session_id'] = params['session_id']\n",
    "            rec['last_save_time'] = summary['last_save_time']\n",
    "        return time_progress\n",
    "    else:\n",
    "        return [{#'dataset':params['index_spec']['d_name'], \n",
    "                'session_path':sess['session_path'],\n",
    "                'session_id':params['session_id'],\n",
    "                'uname':uname,\n",
    "                **params['other_params'],\n",
    "                'query_string':sess_info['query_string'], \n",
    "                'total_requested':action_log[-1]['seen'], \n",
    "                'total_accepted':action_log[-1]['accepted'], \n",
    "#                 'linear_gdata':df,\n",
    "            **summary,\n",
    "            **image_timing['summary'],\n",
    "                }]"
   ]
  },
  {
   "cell_type": "code",
   "execution_count": 19,
   "id": "29bba273",
   "metadata": {
    "ExecuteTime": {
     "end_time": "2022-04-15T21:22:53.856359Z",
     "start_time": "2022-04-15T21:22:53.846653Z"
    },
    "execution": {
     "iopub.execute_input": "2023-01-14T01:23:59.940414Z",
     "iopub.status.busy": "2023-01-14T01:23:59.940200Z",
     "iopub.status.idle": "2023-01-14T01:23:59.944361Z",
     "shell.execute_reply": "2023-01-14T01:23:59.943988Z",
     "shell.execute_reply.started": "2023-01-14T01:23:59.940398Z"
    }
   },
   "outputs": [],
   "source": [
    "def analyze_time_progress(exlog, accept_target, seen_target, start_time, log_cutoff_time):\n",
    "#     updates = [rec for rec in exlog if rec['message'] in ['set_text', 'update_state.end']]\n",
    "    first_recs = []\n",
    "    accepted_so_far = -1\n",
    "    seen_so_far = -1\n",
    "    start_time = None\n",
    "    for r in exlog:\n",
    "        if start_time is None:\n",
    "            if r['message'] != 'set_text':\n",
    "                continue\n",
    "            else:\n",
    "                start_time = process_ts(r['time'])\n",
    "            \n",
    "        if r['accepted'] > accepted_so_far or seen_so_far >= seen_target:\n",
    "            r = r.copy()\n",
    "            r.update({'start_time':start_time})\n",
    "            r['time'] = process_ts(r['time'])\n",
    "            r['elapsed_time'] = (r['time'] - start_time).total_seconds()\n",
    "            first_recs.append(r)\n",
    "            accepted_so_far = r['accepted']\n",
    "            seen_so_far = r['seen']\n",
    "        \n",
    "        if accepted_so_far >=accept_target or seen_so_far >= seen_target:\n",
    "            break\n",
    "            \n",
    "    return first_recs"
   ]
  },
  {
   "cell_type": "code",
   "execution_count": 20,
   "id": "e0e18167",
   "metadata": {
    "ExecuteTime": {
     "end_time": "2022-04-15T21:24:19.231799Z",
     "start_time": "2022-04-15T21:24:19.227130Z"
    },
    "execution": {
     "iopub.execute_input": "2023-01-14T01:24:01.727791Z",
     "iopub.status.busy": "2023-01-14T01:24:01.727561Z",
     "iopub.status.idle": "2023-01-14T01:24:01.738377Z",
     "shell.execute_reply": "2023-01-14T01:24:01.737876Z",
     "shell.execute_reply.started": "2023-01-14T01:24:01.727775Z"
    }
   },
   "outputs": [
    {
     "ename": "NameError",
     "evalue": "name 'tot' is not defined",
     "output_type": "error",
     "traceback": [
      "\u001b[0;31m---------------------------------------------------------------------------\u001b[0m",
      "\u001b[0;31mNameError\u001b[0m                                 Traceback (most recent call last)",
      "Cell \u001b[0;32mIn [20], line 1\u001b[0m\n\u001b[0;32m----> 1\u001b[0m clean_session_paths \u001b[38;5;241m=\u001b[39m \u001b[43mtot\u001b[49m[\u001b[38;5;124m'\u001b[39m\u001b[38;5;124msession_path\u001b[39m\u001b[38;5;124m'\u001b[39m]\u001b[38;5;241m.\u001b[39mvalues\u001b[38;5;241m.\u001b[39mtolist()\n",
      "\u001b[0;31mNameError\u001b[0m: name 'tot' is not defined"
     ]
    }
   ],
   "source": [
    "clean_session_paths = tot['session_path'].values.tolist()"
   ]
  },
  {
   "cell_type": "code",
   "execution_count": 86,
   "id": "1cb65873",
   "metadata": {
    "ExecuteTime": {
     "end_time": "2022-04-16T04:38:43.135597Z",
     "start_time": "2022-04-16T04:38:42.752920Z"
    }
   },
   "outputs": [],
   "source": [
    "gdatas = sum(map(lambda x : session_totals(x, accepted_limit=target_accepted, clean_paths=clean_session_paths), sessions), start=[])"
   ]
  },
  {
   "cell_type": "code",
   "execution_count": 87,
   "id": "e3fb2e65",
   "metadata": {
    "ExecuteTime": {
     "end_time": "2022-04-16T04:38:46.373813Z",
     "start_time": "2022-04-16T04:38:46.356231Z"
    }
   },
   "outputs": [],
   "source": [
    "all_gdata = pd.concat(gdatas, ignore_index=True)"
   ]
  },
  {
   "cell_type": "code",
   "execution_count": 81,
   "id": "db808671",
   "metadata": {
    "ExecuteTime": {
     "end_time": "2022-04-16T04:35:20.056620Z",
     "start_time": "2022-04-16T04:35:20.050100Z"
    }
   },
   "outputs": [
    {
     "data": {
      "text/plain": [
       "2.953632148377125"
      ]
     },
     "execution_count": 81,
     "metadata": {},
     "output_type": "execute_result"
    }
   ],
   "source": [
    "(2558 - 647)/647"
   ]
  },
  {
   "cell_type": "code",
   "execution_count": 89,
   "id": "2512b9ca",
   "metadata": {
    "ExecuteTime": {
     "end_time": "2022-04-16T04:39:54.615175Z",
     "start_time": "2022-04-16T04:39:54.601634Z"
    }
   },
   "outputs": [
    {
     "data": {
      "text/plain": [
       "total_accepted     647\n",
       "total_seen        3376\n",
       "dtype: int64"
      ]
     },
     "execution_count": 89,
     "metadata": {},
     "output_type": "execute_result"
    }
   ],
   "source": [
    "all_gdata.groupby(['qkey','session_path'])[['total_accepted', 'total_seen']].max().sum()"
   ]
  },
  {
   "cell_type": "code",
   "execution_count": 90,
   "id": "e834dd6b",
   "metadata": {
    "ExecuteTime": {
     "end_time": "2022-04-16T04:40:18.877175Z",
     "start_time": "2022-04-16T04:40:18.871215Z"
    }
   },
   "outputs": [
    {
     "data": {
      "text/plain": [
       "4.217928902627512"
      ]
     },
     "execution_count": 90,
     "metadata": {},
     "output_type": "execute_result"
    }
   ],
   "source": [
    "(3376  - 647)/647"
   ]
  },
  {
   "cell_type": "code",
   "execution_count": 21,
   "id": "ee95c58b",
   "metadata": {
    "ExecuteTime": {
     "end_time": "2022-04-15T21:30:12.329595Z",
     "start_time": "2022-04-15T21:30:12.303898Z"
    },
    "execution": {
     "iopub.execute_input": "2023-01-14T01:24:13.182466Z",
     "iopub.status.busy": "2023-01-14T01:24:13.182123Z",
     "iopub.status.idle": "2023-01-14T01:24:13.192529Z",
     "shell.execute_reply": "2023-01-14T01:24:13.192037Z",
     "shell.execute_reply.started": "2023-01-14T01:24:13.182447Z"
    }
   },
   "outputs": [
    {
     "ename": "NameError",
     "evalue": "name 'all_gdata' is not defined",
     "output_type": "error",
     "traceback": [
      "\u001b[0;31m---------------------------------------------------------------------------\u001b[0m",
      "\u001b[0;31mNameError\u001b[0m                                 Traceback (most recent call last)",
      "Cell \u001b[0;32mIn [21], line 1\u001b[0m\n\u001b[0;32m----> 1\u001b[0m \u001b[43mall_gdata\u001b[49m\n",
      "\u001b[0;31mNameError\u001b[0m: name 'all_gdata' is not defined"
     ]
    }
   ],
   "source": [
    "all_gdata"
   ]
  },
  {
   "cell_type": "code",
   "execution_count": 28,
   "id": "8c8f7669",
   "metadata": {
    "ExecuteTime": {
     "end_time": "2022-04-15T21:22:59.189833Z",
     "start_time": "2022-04-15T21:22:57.548642Z"
    }
   },
   "outputs": [],
   "source": [
    "target_accepted = 10\n",
    "summaries = sum(map(lambda x : session_totals(x, accepted_limit=target_accepted), sessions), start=[])\n",
    "\n",
    "tot = pd.DataFrame.from_records(summaries)\n",
    "tot = tot.sort_values('start_time', ascending=True)\n",
    "tot = tot.reset_index(drop=True)\n",
    "# user_df =pd.DataFrame()\n",
    "# tot = tot.merge(user_df, left_on='user', right_on='user', how='left')\n",
    "tot = tot[tot.uname.isin(real_users) & ~tot.qkey.isin(['amb', 'pc']) & ~tot.uname.isin(['jialin'])]\n",
    "tot = tot.groupby(['uname', 'session_id', 'start_time']).apply(lambda df : df.sort_values('last_save_time', ascending=False).head(n=1)).reset_index(drop=True)\n",
    "tot = tot.assign(completed=tot.accepted >= target_accepted)"
   ]
  },
  {
   "cell_type": "code",
   "execution_count": 194,
   "id": "0cd6ee8e",
   "metadata": {
    "ExecuteTime": {
     "end_time": "2022-04-15T19:23:33.976837Z",
     "start_time": "2022-04-15T19:23:32.760206Z"
    }
   },
   "outputs": [],
   "source": [
    "timing_summaries = sum(map(lambda x : session_totals(x, accepted_limit=10, mode='image_timing'), sessions), start=[])\n",
    "image_timings = pd.DataFrame.from_records(timing_summaries)\n",
    "image_timings = image_timings[(~image_timings.qkey.isin(['pc'])) & (~image_timings.uname.isin(['jialin'])) ]"
   ]
  },
  {
   "cell_type": "code",
   "execution_count": 26,
   "id": "8213cc92",
   "metadata": {
    "ExecuteTime": {
     "end_time": "2022-04-15T12:37:37.407111Z",
     "start_time": "2022-04-15T12:37:36.105159Z"
    }
   },
   "outputs": [],
   "source": [
    "time_prog = sum(map(lambda x : session_totals(x, accepted_limit=10, mode='time_progress'), sessions), start=[])\n"
   ]
  },
  {
   "cell_type": "code",
   "execution_count": 27,
   "id": "c8f9bd47",
   "metadata": {
    "ExecuteTime": {
     "end_time": "2022-04-15T12:37:38.404919Z",
     "start_time": "2022-04-15T12:37:38.401770Z"
    }
   },
   "outputs": [
    {
     "data": {
      "text/plain": [
       "665"
      ]
     },
     "execution_count": 27,
     "metadata": {},
     "output_type": "execute_result"
    }
   ],
   "source": [
    "len(time_prog)"
   ]
  },
  {
   "cell_type": "code",
   "execution_count": 51,
   "id": "922feb58",
   "metadata": {
    "ExecuteTime": {
     "end_time": "2022-04-15T22:16:09.617988Z",
     "start_time": "2022-04-15T22:16:09.611397Z"
    }
   },
   "outputs": [],
   "source": [
    "tpdf = time_prog_df[time_prog_df.elapsed_time <= 6*60]"
   ]
  },
  {
   "cell_type": "code",
   "execution_count": 56,
   "id": "c7affcfe",
   "metadata": {
    "ExecuteTime": {
     "end_time": "2022-04-15T22:18:12.446560Z",
     "start_time": "2022-04-15T22:18:12.422195Z"
    }
   },
   "outputs": [
    {
     "data": {
      "text/html": [
       "<div>\n",
       "<style scoped>\n",
       "    .dataframe tbody tr th:only-of-type {\n",
       "        vertical-align: middle;\n",
       "    }\n",
       "\n",
       "    .dataframe tbody tr th {\n",
       "        vertical-align: top;\n",
       "    }\n",
       "\n",
       "    .dataframe thead th {\n",
       "        text-align: right;\n",
       "    }\n",
       "</style>\n",
       "<table border=\"1\" class=\"dataframe\">\n",
       "  <thead>\n",
       "    <tr style=\"text-align: right;\">\n",
       "      <th></th>\n",
       "      <th>i</th>\n",
       "      <th>j</th>\n",
       "      <th>start_s</th>\n",
       "      <th>end_s</th>\n",
       "      <th>accepted</th>\n",
       "      <th>total_accepted</th>\n",
       "      <th>session_path</th>\n",
       "      <th>init_time</th>\n",
       "      <th>task_started</th>\n",
       "      <th>mode</th>\n",
       "      <th>dataset</th>\n",
       "      <th>qkey</th>\n",
       "      <th>user</th>\n",
       "      <th>session_id</th>\n",
       "      <th>uname</th>\n",
       "      <th>elapsed_time</th>\n",
       "    </tr>\n",
       "  </thead>\n",
       "  <tbody>\n",
       "    <tr>\n",
       "      <th>0</th>\n",
       "      <td>-1</td>\n",
       "      <td>-1</td>\n",
       "      <td>0.000000</td>\n",
       "      <td>0.000000</td>\n",
       "      <td>0</td>\n",
       "      <td>0</td>\n",
       "      <td>./user_study_sessions_v3/session_xkcqdieqyd/se...</td>\n",
       "      <td>1.649194e+09</td>\n",
       "      <td>1.649194e+09</td>\n",
       "      <td>default</td>\n",
       "      <td>objectnet</td>\n",
       "      <td>gg</td>\n",
       "      <td>1955b38f13</td>\n",
       "      <td>xkcqdieqyd</td>\n",
       "      <td>siva</td>\n",
       "      <td>0.000000</td>\n",
       "    </tr>\n",
       "    <tr>\n",
       "      <th>1</th>\n",
       "      <td>0</td>\n",
       "      <td>0</td>\n",
       "      <td>0.114550</td>\n",
       "      <td>3.356550</td>\n",
       "      <td>1</td>\n",
       "      <td>1</td>\n",
       "      <td>./user_study_sessions_v3/session_xkcqdieqyd/se...</td>\n",
       "      <td>1.649194e+09</td>\n",
       "      <td>1.649194e+09</td>\n",
       "      <td>default</td>\n",
       "      <td>objectnet</td>\n",
       "      <td>gg</td>\n",
       "      <td>1955b38f13</td>\n",
       "      <td>xkcqdieqyd</td>\n",
       "      <td>siva</td>\n",
       "      <td>3.356550</td>\n",
       "    </tr>\n",
       "    <tr>\n",
       "      <th>2</th>\n",
       "      <td>0</td>\n",
       "      <td>1</td>\n",
       "      <td>3.358550</td>\n",
       "      <td>4.448550</td>\n",
       "      <td>2</td>\n",
       "      <td>2</td>\n",
       "      <td>./user_study_sessions_v3/session_xkcqdieqyd/se...</td>\n",
       "      <td>1.649194e+09</td>\n",
       "      <td>1.649194e+09</td>\n",
       "      <td>default</td>\n",
       "      <td>objectnet</td>\n",
       "      <td>gg</td>\n",
       "      <td>1955b38f13</td>\n",
       "      <td>xkcqdieqyd</td>\n",
       "      <td>siva</td>\n",
       "      <td>4.448550</td>\n",
       "    </tr>\n",
       "    <tr>\n",
       "      <th>3</th>\n",
       "      <td>0</td>\n",
       "      <td>2</td>\n",
       "      <td>4.457550</td>\n",
       "      <td>6.095550</td>\n",
       "      <td>3</td>\n",
       "      <td>3</td>\n",
       "      <td>./user_study_sessions_v3/session_xkcqdieqyd/se...</td>\n",
       "      <td>1.649194e+09</td>\n",
       "      <td>1.649194e+09</td>\n",
       "      <td>default</td>\n",
       "      <td>objectnet</td>\n",
       "      <td>gg</td>\n",
       "      <td>1955b38f13</td>\n",
       "      <td>xkcqdieqyd</td>\n",
       "      <td>siva</td>\n",
       "      <td>6.095550</td>\n",
       "    </tr>\n",
       "    <tr>\n",
       "      <th>4</th>\n",
       "      <td>1</td>\n",
       "      <td>0</td>\n",
       "      <td>6.100550</td>\n",
       "      <td>7.768550</td>\n",
       "      <td>4</td>\n",
       "      <td>4</td>\n",
       "      <td>./user_study_sessions_v3/session_xkcqdieqyd/se...</td>\n",
       "      <td>1.649194e+09</td>\n",
       "      <td>1.649194e+09</td>\n",
       "      <td>default</td>\n",
       "      <td>objectnet</td>\n",
       "      <td>gg</td>\n",
       "      <td>1955b38f13</td>\n",
       "      <td>xkcqdieqyd</td>\n",
       "      <td>siva</td>\n",
       "      <td>7.768550</td>\n",
       "    </tr>\n",
       "    <tr>\n",
       "      <th>...</th>\n",
       "      <td>...</td>\n",
       "      <td>...</td>\n",
       "      <td>...</td>\n",
       "      <td>...</td>\n",
       "      <td>...</td>\n",
       "      <td>...</td>\n",
       "      <td>...</td>\n",
       "      <td>...</td>\n",
       "      <td>...</td>\n",
       "      <td>...</td>\n",
       "      <td>...</td>\n",
       "      <td>...</td>\n",
       "      <td>...</td>\n",
       "      <td>...</td>\n",
       "      <td>...</td>\n",
       "      <td>...</td>\n",
       "    </tr>\n",
       "    <tr>\n",
       "      <th>710</th>\n",
       "      <td>23</td>\n",
       "      <td>2</td>\n",
       "      <td>203.615043</td>\n",
       "      <td>207.598043</td>\n",
       "      <td>7</td>\n",
       "      <td>7</td>\n",
       "      <td>./user_study_sessions_v3/session_cklzthftqq/se...</td>\n",
       "      <td>1.649132e+09</td>\n",
       "      <td>1.649132e+09</td>\n",
       "      <td>pytorch</td>\n",
       "      <td>bdd</td>\n",
       "      <td>cd</td>\n",
       "      <td>363e3dac58</td>\n",
       "      <td>cklzthftqq</td>\n",
       "      <td>harshal</td>\n",
       "      <td>207.598043</td>\n",
       "    </tr>\n",
       "    <tr>\n",
       "      <th>711</th>\n",
       "      <td>25</td>\n",
       "      <td>0</td>\n",
       "      <td>214.705043</td>\n",
       "      <td>218.182043</td>\n",
       "      <td>8</td>\n",
       "      <td>8</td>\n",
       "      <td>./user_study_sessions_v3/session_cklzthftqq/se...</td>\n",
       "      <td>1.649132e+09</td>\n",
       "      <td>1.649132e+09</td>\n",
       "      <td>pytorch</td>\n",
       "      <td>bdd</td>\n",
       "      <td>cd</td>\n",
       "      <td>363e3dac58</td>\n",
       "      <td>cklzthftqq</td>\n",
       "      <td>harshal</td>\n",
       "      <td>218.182043</td>\n",
       "    </tr>\n",
       "    <tr>\n",
       "      <th>712</th>\n",
       "      <td>25</td>\n",
       "      <td>1</td>\n",
       "      <td>218.187043</td>\n",
       "      <td>221.084043</td>\n",
       "      <td>9</td>\n",
       "      <td>9</td>\n",
       "      <td>./user_study_sessions_v3/session_cklzthftqq/se...</td>\n",
       "      <td>1.649132e+09</td>\n",
       "      <td>1.649132e+09</td>\n",
       "      <td>pytorch</td>\n",
       "      <td>bdd</td>\n",
       "      <td>cd</td>\n",
       "      <td>363e3dac58</td>\n",
       "      <td>cklzthftqq</td>\n",
       "      <td>harshal</td>\n",
       "      <td>221.084043</td>\n",
       "    </tr>\n",
       "    <tr>\n",
       "      <th>713</th>\n",
       "      <td>25</td>\n",
       "      <td>2</td>\n",
       "      <td>221.088043</td>\n",
       "      <td>230.444043</td>\n",
       "      <td>10</td>\n",
       "      <td>10</td>\n",
       "      <td>./user_study_sessions_v3/session_cklzthftqq/se...</td>\n",
       "      <td>1.649132e+09</td>\n",
       "      <td>1.649132e+09</td>\n",
       "      <td>pytorch</td>\n",
       "      <td>bdd</td>\n",
       "      <td>cd</td>\n",
       "      <td>363e3dac58</td>\n",
       "      <td>cklzthftqq</td>\n",
       "      <td>harshal</td>\n",
       "      <td>230.444043</td>\n",
       "    </tr>\n",
       "    <tr>\n",
       "      <th>714</th>\n",
       "      <td>26</td>\n",
       "      <td>0</td>\n",
       "      <td>230.455043</td>\n",
       "      <td>233.200043</td>\n",
       "      <td>11</td>\n",
       "      <td>11</td>\n",
       "      <td>./user_study_sessions_v3/session_cklzthftqq/se...</td>\n",
       "      <td>1.649132e+09</td>\n",
       "      <td>1.649132e+09</td>\n",
       "      <td>pytorch</td>\n",
       "      <td>bdd</td>\n",
       "      <td>cd</td>\n",
       "      <td>363e3dac58</td>\n",
       "      <td>cklzthftqq</td>\n",
       "      <td>harshal</td>\n",
       "      <td>233.200043</td>\n",
       "    </tr>\n",
       "  </tbody>\n",
       "</table>\n",
       "<p>699 rows × 16 columns</p>\n",
       "</div>"
      ],
      "text/plain": [
       "      i  j     start_s       end_s  accepted  total_accepted  \\\n",
       "0    -1 -1    0.000000    0.000000         0               0   \n",
       "1     0  0    0.114550    3.356550         1               1   \n",
       "2     0  1    3.358550    4.448550         2               2   \n",
       "3     0  2    4.457550    6.095550         3               3   \n",
       "4     1  0    6.100550    7.768550         4               4   \n",
       "..   .. ..         ...         ...       ...             ...   \n",
       "710  23  2  203.615043  207.598043         7               7   \n",
       "711  25  0  214.705043  218.182043         8               8   \n",
       "712  25  1  218.187043  221.084043         9               9   \n",
       "713  25  2  221.088043  230.444043        10              10   \n",
       "714  26  0  230.455043  233.200043        11              11   \n",
       "\n",
       "                                          session_path     init_time  \\\n",
       "0    ./user_study_sessions_v3/session_xkcqdieqyd/se...  1.649194e+09   \n",
       "1    ./user_study_sessions_v3/session_xkcqdieqyd/se...  1.649194e+09   \n",
       "2    ./user_study_sessions_v3/session_xkcqdieqyd/se...  1.649194e+09   \n",
       "3    ./user_study_sessions_v3/session_xkcqdieqyd/se...  1.649194e+09   \n",
       "4    ./user_study_sessions_v3/session_xkcqdieqyd/se...  1.649194e+09   \n",
       "..                                                 ...           ...   \n",
       "710  ./user_study_sessions_v3/session_cklzthftqq/se...  1.649132e+09   \n",
       "711  ./user_study_sessions_v3/session_cklzthftqq/se...  1.649132e+09   \n",
       "712  ./user_study_sessions_v3/session_cklzthftqq/se...  1.649132e+09   \n",
       "713  ./user_study_sessions_v3/session_cklzthftqq/se...  1.649132e+09   \n",
       "714  ./user_study_sessions_v3/session_cklzthftqq/se...  1.649132e+09   \n",
       "\n",
       "     task_started     mode    dataset qkey        user  session_id    uname  \\\n",
       "0    1.649194e+09  default  objectnet   gg  1955b38f13  xkcqdieqyd     siva   \n",
       "1    1.649194e+09  default  objectnet   gg  1955b38f13  xkcqdieqyd     siva   \n",
       "2    1.649194e+09  default  objectnet   gg  1955b38f13  xkcqdieqyd     siva   \n",
       "3    1.649194e+09  default  objectnet   gg  1955b38f13  xkcqdieqyd     siva   \n",
       "4    1.649194e+09  default  objectnet   gg  1955b38f13  xkcqdieqyd     siva   \n",
       "..            ...      ...        ...  ...         ...         ...      ...   \n",
       "710  1.649132e+09  pytorch        bdd   cd  363e3dac58  cklzthftqq  harshal   \n",
       "711  1.649132e+09  pytorch        bdd   cd  363e3dac58  cklzthftqq  harshal   \n",
       "712  1.649132e+09  pytorch        bdd   cd  363e3dac58  cklzthftqq  harshal   \n",
       "713  1.649132e+09  pytorch        bdd   cd  363e3dac58  cklzthftqq  harshal   \n",
       "714  1.649132e+09  pytorch        bdd   cd  363e3dac58  cklzthftqq  harshal   \n",
       "\n",
       "     elapsed_time  \n",
       "0        0.000000  \n",
       "1        3.356550  \n",
       "2        4.448550  \n",
       "3        6.095550  \n",
       "4        7.768550  \n",
       "..            ...  \n",
       "710    207.598043  \n",
       "711    218.182043  \n",
       "712    221.084043  \n",
       "713    230.444043  \n",
       "714    233.200043  \n",
       "\n",
       "[699 rows x 16 columns]"
      ]
     },
     "execution_count": 56,
     "metadata": {},
     "output_type": "execute_result"
    }
   ],
   "source": [
    "tpdf.drop('last_time', axis=1).to_"
   ]
  },
  {
   "cell_type": "code",
   "execution_count": 57,
   "id": "a50d8cf9",
   "metadata": {
    "ExecuteTime": {
     "end_time": "2022-04-15T22:18:33.168839Z",
     "start_time": "2022-04-15T22:18:33.155062Z"
    }
   },
   "outputs": [],
   "source": [
    "tpdf.drop('last_time', axis=1).to_parquet('time_view_v3.parquet')"
   ]
  },
  {
   "cell_type": "code",
   "execution_count": 45,
   "id": "9078dca2",
   "metadata": {
    "ExecuteTime": {
     "end_time": "2022-04-15T21:45:23.513076Z",
     "start_time": "2022-04-15T21:45:23.105327Z"
    }
   },
   "outputs": [],
   "source": [
    "time_prog_df = all_gdata.assign(elapsed_time=all_gdata['end_s'], accepted=all_gdata['total_accepted'])\n",
    "time_prog_df = time_prog_df[~time_prog_df.uname.isin(['jialin'])]\n",
    "\n",
    "\n",
    "plot_time_prog_data = time_prog_df.groupby(['qkey', 'mode','accepted']).elapsed_time.apply(bootstrap_stat).reset_index()\n",
    "plot_time_prog_data = plot_time_prog_data.assign(grp=plot_time_prog_data[['mode', 'accepted']].apply(tuple,axis=1))"
   ]
  },
  {
   "cell_type": "code",
   "execution_count": 42,
   "id": "2743739a",
   "metadata": {
    "ExecuteTime": {
     "end_time": "2022-04-15T21:44:24.917146Z",
     "start_time": "2022-04-15T21:44:24.913279Z"
    }
   },
   "outputs": [],
   "source": [
    "#plot_time_prog_data = plot_time_prog_data[plot_time_prog_data['n'] > 1]"
   ]
  },
  {
   "cell_type": "code",
   "execution_count": 46,
   "id": "8a801ac7",
   "metadata": {
    "ExecuteTime": {
     "end_time": "2022-04-15T21:45:25.502941Z",
     "start_time": "2022-04-15T21:45:25.481460Z"
    }
   },
   "outputs": [
    {
     "data": {
      "text/html": [
       "<div>\n",
       "<style scoped>\n",
       "    .dataframe tbody tr th:only-of-type {\n",
       "        vertical-align: middle;\n",
       "    }\n",
       "\n",
       "    .dataframe tbody tr th {\n",
       "        vertical-align: top;\n",
       "    }\n",
       "\n",
       "    .dataframe thead th {\n",
       "        text-align: right;\n",
       "    }\n",
       "</style>\n",
       "<table border=\"1\" class=\"dataframe\">\n",
       "  <thead>\n",
       "    <tr style=\"text-align: right;\">\n",
       "      <th></th>\n",
       "      <th>qkey</th>\n",
       "      <th>mode</th>\n",
       "      <th>accepted</th>\n",
       "      <th>level_3</th>\n",
       "      <th>lower</th>\n",
       "      <th>med</th>\n",
       "      <th>mean</th>\n",
       "      <th>high</th>\n",
       "      <th>confidence_level</th>\n",
       "      <th>n</th>\n",
       "      <th>grp</th>\n",
       "    </tr>\n",
       "  </thead>\n",
       "  <tbody>\n",
       "    <tr>\n",
       "      <th>0</th>\n",
       "      <td>cd</td>\n",
       "      <td>default</td>\n",
       "      <td>0</td>\n",
       "      <td>0</td>\n",
       "      <td>0.000000</td>\n",
       "      <td>0.000000</td>\n",
       "      <td>0.000000</td>\n",
       "      <td>0.000000</td>\n",
       "      <td>0.95</td>\n",
       "      <td>7</td>\n",
       "      <td>(default, 0)</td>\n",
       "    </tr>\n",
       "    <tr>\n",
       "      <th>1</th>\n",
       "      <td>cd</td>\n",
       "      <td>default</td>\n",
       "      <td>1</td>\n",
       "      <td>0</td>\n",
       "      <td>33.602886</td>\n",
       "      <td>40.192141</td>\n",
       "      <td>63.000670</td>\n",
       "      <td>121.603807</td>\n",
       "      <td>0.95</td>\n",
       "      <td>7</td>\n",
       "      <td>(default, 1)</td>\n",
       "    </tr>\n",
       "    <tr>\n",
       "      <th>2</th>\n",
       "      <td>cd</td>\n",
       "      <td>default</td>\n",
       "      <td>2</td>\n",
       "      <td>0</td>\n",
       "      <td>39.646072</td>\n",
       "      <td>73.663886</td>\n",
       "      <td>94.731434</td>\n",
       "      <td>155.360352</td>\n",
       "      <td>0.95</td>\n",
       "      <td>5</td>\n",
       "      <td>(default, 2)</td>\n",
       "    </tr>\n",
       "    <tr>\n",
       "      <th>3</th>\n",
       "      <td>cd</td>\n",
       "      <td>default</td>\n",
       "      <td>3</td>\n",
       "      <td>0</td>\n",
       "      <td>150.931717</td>\n",
       "      <td>153.865886</td>\n",
       "      <td>160.902892</td>\n",
       "      <td>177.911072</td>\n",
       "      <td>0.95</td>\n",
       "      <td>3</td>\n",
       "      <td>(default, 3)</td>\n",
       "    </tr>\n",
       "    <tr>\n",
       "      <th>4</th>\n",
       "      <td>cd</td>\n",
       "      <td>default</td>\n",
       "      <td>4</td>\n",
       "      <td>0</td>\n",
       "      <td>202.186072</td>\n",
       "      <td>210.344979</td>\n",
       "      <td>210.344979</td>\n",
       "      <td>218.503886</td>\n",
       "      <td>0.95</td>\n",
       "      <td>2</td>\n",
       "      <td>(default, 4)</td>\n",
       "    </tr>\n",
       "    <tr>\n",
       "      <th>...</th>\n",
       "      <td>...</td>\n",
       "      <td>...</td>\n",
       "      <td>...</td>\n",
       "      <td>...</td>\n",
       "      <td>...</td>\n",
       "      <td>...</td>\n",
       "      <td>...</td>\n",
       "      <td>...</td>\n",
       "      <td>...</td>\n",
       "      <td>...</td>\n",
       "      <td>...</td>\n",
       "    </tr>\n",
       "    <tr>\n",
       "      <th>180</th>\n",
       "      <td>wch</td>\n",
       "      <td>pytorch</td>\n",
       "      <td>8</td>\n",
       "      <td>0</td>\n",
       "      <td>63.450259</td>\n",
       "      <td>102.667838</td>\n",
       "      <td>94.862323</td>\n",
       "      <td>118.468871</td>\n",
       "      <td>0.95</td>\n",
       "      <td>6</td>\n",
       "      <td>(pytorch, 8)</td>\n",
       "    </tr>\n",
       "    <tr>\n",
       "      <th>181</th>\n",
       "      <td>wch</td>\n",
       "      <td>pytorch</td>\n",
       "      <td>9</td>\n",
       "      <td>0</td>\n",
       "      <td>70.328759</td>\n",
       "      <td>114.561921</td>\n",
       "      <td>103.747489</td>\n",
       "      <td>126.351788</td>\n",
       "      <td>0.95</td>\n",
       "      <td>6</td>\n",
       "      <td>(pytorch, 9)</td>\n",
       "    </tr>\n",
       "    <tr>\n",
       "      <th>182</th>\n",
       "      <td>wch</td>\n",
       "      <td>pytorch</td>\n",
       "      <td>10</td>\n",
       "      <td>0</td>\n",
       "      <td>80.900259</td>\n",
       "      <td>119.439421</td>\n",
       "      <td>113.124823</td>\n",
       "      <td>139.034788</td>\n",
       "      <td>0.95</td>\n",
       "      <td>6</td>\n",
       "      <td>(pytorch, 10)</td>\n",
       "    </tr>\n",
       "    <tr>\n",
       "      <th>183</th>\n",
       "      <td>wch</td>\n",
       "      <td>pytorch</td>\n",
       "      <td>11</td>\n",
       "      <td>0</td>\n",
       "      <td>127.443317</td>\n",
       "      <td>136.090338</td>\n",
       "      <td>136.090338</td>\n",
       "      <td>144.737358</td>\n",
       "      <td>0.95</td>\n",
       "      <td>2</td>\n",
       "      <td>(pytorch, 11)</td>\n",
       "    </tr>\n",
       "    <tr>\n",
       "      <th>184</th>\n",
       "      <td>wch</td>\n",
       "      <td>pytorch</td>\n",
       "      <td>12</td>\n",
       "      <td>0</td>\n",
       "      <td>129.894317</td>\n",
       "      <td>129.894317</td>\n",
       "      <td>129.894317</td>\n",
       "      <td>129.894317</td>\n",
       "      <td>0.95</td>\n",
       "      <td>1</td>\n",
       "      <td>(pytorch, 12)</td>\n",
       "    </tr>\n",
       "  </tbody>\n",
       "</table>\n",
       "<p>185 rows × 11 columns</p>\n",
       "</div>"
      ],
      "text/plain": [
       "    qkey     mode  accepted  level_3       lower         med        mean  \\\n",
       "0     cd  default         0        0    0.000000    0.000000    0.000000   \n",
       "1     cd  default         1        0   33.602886   40.192141   63.000670   \n",
       "2     cd  default         2        0   39.646072   73.663886   94.731434   \n",
       "3     cd  default         3        0  150.931717  153.865886  160.902892   \n",
       "4     cd  default         4        0  202.186072  210.344979  210.344979   \n",
       "..   ...      ...       ...      ...         ...         ...         ...   \n",
       "180  wch  pytorch         8        0   63.450259  102.667838   94.862323   \n",
       "181  wch  pytorch         9        0   70.328759  114.561921  103.747489   \n",
       "182  wch  pytorch        10        0   80.900259  119.439421  113.124823   \n",
       "183  wch  pytorch        11        0  127.443317  136.090338  136.090338   \n",
       "184  wch  pytorch        12        0  129.894317  129.894317  129.894317   \n",
       "\n",
       "           high  confidence_level  n            grp  \n",
       "0      0.000000              0.95  7   (default, 0)  \n",
       "1    121.603807              0.95  7   (default, 1)  \n",
       "2    155.360352              0.95  5   (default, 2)  \n",
       "3    177.911072              0.95  3   (default, 3)  \n",
       "4    218.503886              0.95  2   (default, 4)  \n",
       "..          ...               ... ..            ...  \n",
       "180  118.468871              0.95  6   (pytorch, 8)  \n",
       "181  126.351788              0.95  6   (pytorch, 9)  \n",
       "182  139.034788              0.95  6  (pytorch, 10)  \n",
       "183  144.737358              0.95  2  (pytorch, 11)  \n",
       "184  129.894317              0.95  1  (pytorch, 12)  \n",
       "\n",
       "[185 rows x 11 columns]"
      ]
     },
     "execution_count": 46,
     "metadata": {},
     "output_type": "execute_result"
    }
   ],
   "source": [
    "plot_time_prog_data"
   ]
  },
  {
   "cell_type": "code",
   "execution_count": 169,
   "id": "70d7043e",
   "metadata": {},
   "outputs": [],
   "source": [
    "# plot_time_prog_data = plot_time_prog_data.assign(confidence_interval_start=plot_time_prog_data['mean'] - 2*plot_time_prog_data['sem'],\n",
    "#                            confidence_interval_end=plot_time_prog_data['mean'] + 2*plot_time_prog_data['sem'])"
   ]
  },
  {
   "cell_type": "code",
   "execution_count": 49,
   "id": "7492463f",
   "metadata": {
    "ExecuteTime": {
     "end_time": "2022-04-15T21:45:51.485566Z",
     "start_time": "2022-04-15T21:45:46.512114Z"
    }
   },
   "outputs": [
    {
     "name": "stderr",
     "output_type": "stream",
     "text": [
      "/nvme_drive/orm/seesaw/.seesaw_env/lib/python3.8/site-packages/plotnine/utils.py:371: FutureWarning: The frame.append method is deprecated and will be removed from pandas in a future version. Use pandas.concat instead.\n"
     ]
    },
    {
     "data": {
      "image/png": "[encoded data removed]",
      "text/plain": [
       "<Figure size 640x480 with 7 Axes>"
      ]
     },
     "metadata": {
      "image/png": {
       "height": 425,
       "width": 675
      }
     },
     "output_type": "display_data"
    },
    {
     "data": {
      "text/plain": [
       "<ggplot: (8757077639421)>"
      ]
     },
     "execution_count": 49,
     "metadata": {},
     "output_type": "execute_result"
    }
   ],
   "source": [
    "( ggplot(plot_time_prog_data) + \n",
    "     geom_errorbar(aes(x='accepted', ymin='lower', ymax='high', \n",
    "                       group='grp', color='mode'), alpha=.5, position='identity') +\n",
    "     facet_wrap(['qkey'], ncol=2, scales='free') +\n",
    "     coord_flip() +\n",
    "     theme(subplots_adjust={'hspace':.5, 'wspace':.5},)\n",
    ")"
   ]
  },
  {
   "cell_type": "code",
   "execution_count": 48,
   "id": "4ca8d7ee",
   "metadata": {
    "ExecuteTime": {
     "end_time": "2022-04-15T21:45:44.393583Z",
     "start_time": "2022-04-15T21:45:43.696126Z"
    }
   },
   "outputs": [],
   "source": [
    "from plotnine import *"
   ]
  },
  {
   "cell_type": "code",
   "execution_count": 174,
   "id": "935d33cc",
   "metadata": {},
   "outputs": [
    {
     "data": {
      "image/png": "[encoded data removed]",
      "text/plain": [
       "<Figure size 640x480 with 7 Axes>"
      ]
     },
     "metadata": {
      "image/png": {
       "height": 425,
       "width": 668
      }
     },
     "output_type": "display_data"
    },
    {
     "data": {
      "text/plain": [
       "<ggplot: (8789012987197)>"
      ]
     },
     "execution_count": 174,
     "metadata": {},
     "output_type": "execute_result"
    }
   ],
   "source": [
    "( ggplot(plot_time_prog_data) + \n",
    "     geom_errorbar(aes(x='accepted', ymin='lower', ymax='high', \n",
    "                       group='grp', color='mode'), alpha=.5, position='identity') +\n",
    "     facet_wrap(['qkey'], ncol=2, scales='free') +\n",
    "     coord_flip() +\n",
    "     theme(subplots_adjust={'hspace':.5, 'wspace':.5},)\n",
    ")"
   ]
  },
  {
   "cell_type": "code",
   "execution_count": 21,
   "id": "b003c09a",
   "metadata": {
    "ExecuteTime": {
     "end_time": "2022-04-06T13:48:46.828766Z",
     "start_time": "2022-04-06T13:48:46.815247Z"
    }
   },
   "outputs": [
    {
     "data": {
      "text/html": [
       "<div>\n",
       "<style scoped>\n",
       "    .dataframe tbody tr th:only-of-type {\n",
       "        vertical-align: middle;\n",
       "    }\n",
       "\n",
       "    .dataframe tbody tr th {\n",
       "        vertical-align: top;\n",
       "    }\n",
       "\n",
       "    .dataframe thead tr th {\n",
       "        text-align: left;\n",
       "    }\n",
       "\n",
       "    .dataframe thead tr:last-of-type th {\n",
       "        text-align: right;\n",
       "    }\n",
       "</style>\n",
       "<table border=\"1\" class=\"dataframe\">\n",
       "  <thead>\n",
       "    <tr>\n",
       "      <th></th>\n",
       "      <th colspan=\"4\" halign=\"left\">total_time</th>\n",
       "    </tr>\n",
       "    <tr>\n",
       "      <th></th>\n",
       "      <th colspan=\"2\" halign=\"left\">median</th>\n",
       "      <th colspan=\"2\" halign=\"left\">sem</th>\n",
       "    </tr>\n",
       "    <tr>\n",
       "      <th>mode</th>\n",
       "      <th>default</th>\n",
       "      <th>pytorch</th>\n",
       "      <th>default</th>\n",
       "      <th>pytorch</th>\n",
       "    </tr>\n",
       "    <tr>\n",
       "      <th>qkey</th>\n",
       "      <th></th>\n",
       "      <th></th>\n",
       "      <th></th>\n",
       "      <th></th>\n",
       "    </tr>\n",
       "  </thead>\n",
       "  <tbody>\n",
       "    <tr>\n",
       "      <th>cd</th>\n",
       "      <td>1580.0</td>\n",
       "      <td>1724.0</td>\n",
       "      <td>64.133368</td>\n",
       "      <td>135.816760</td>\n",
       "    </tr>\n",
       "    <tr>\n",
       "      <th>dg</th>\n",
       "      <td>1439.0</td>\n",
       "      <td>3529.0</td>\n",
       "      <td>106.997219</td>\n",
       "      <td>355.791306</td>\n",
       "    </tr>\n",
       "    <tr>\n",
       "      <th>dst</th>\n",
       "      <td>1289.0</td>\n",
       "      <td>1900.0</td>\n",
       "      <td>195.670633</td>\n",
       "      <td>170.938567</td>\n",
       "    </tr>\n",
       "    <tr>\n",
       "      <th>gg</th>\n",
       "      <td>1278.0</td>\n",
       "      <td>2678.0</td>\n",
       "      <td>197.243020</td>\n",
       "      <td>330.523248</td>\n",
       "    </tr>\n",
       "    <tr>\n",
       "      <th>mln</th>\n",
       "      <td>1453.0</td>\n",
       "      <td>2257.0</td>\n",
       "      <td>88.308624</td>\n",
       "      <td>227.728612</td>\n",
       "    </tr>\n",
       "    <tr>\n",
       "      <th>spn</th>\n",
       "      <td>1454.0</td>\n",
       "      <td>2819.0</td>\n",
       "      <td>117.766364</td>\n",
       "      <td>742.210789</td>\n",
       "    </tr>\n",
       "    <tr>\n",
       "      <th>wch</th>\n",
       "      <td>1302.0</td>\n",
       "      <td>2539.5</td>\n",
       "      <td>78.467489</td>\n",
       "      <td>178.334485</td>\n",
       "    </tr>\n",
       "  </tbody>\n",
       "</table>\n",
       "</div>"
      ],
      "text/plain": [
       "     total_time                                \n",
       "         median                 sem            \n",
       "mode    default pytorch     default     pytorch\n",
       "qkey                                           \n",
       "cd       1580.0  1724.0   64.133368  135.816760\n",
       "dg       1439.0  3529.0  106.997219  355.791306\n",
       "dst      1289.0  1900.0  195.670633  170.938567\n",
       "gg       1278.0  2678.0  197.243020  330.523248\n",
       "mln      1453.0  2257.0   88.308624  227.728612\n",
       "spn      1454.0  2819.0  117.766364  742.210789\n",
       "wch      1302.0  2539.5   78.467489  178.334485"
      ]
     },
     "execution_count": 21,
     "metadata": {},
     "output_type": "execute_result"
    }
   ],
   "source": [
    "image_timings.groupby(['qkey','mode']).agg({'total_time':('median', 'sem')}).unstack(level=-1)"
   ]
  },
  {
   "cell_type": "code",
   "execution_count": 66,
   "id": "221057a8",
   "metadata": {
    "ExecuteTime": {
     "end_time": "2022-04-16T02:36:01.204874Z",
     "start_time": "2022-04-16T02:36:01.200458Z"
    }
   },
   "outputs": [],
   "source": [
    "time_data = [[1979.488804, 2410.213389, 49.584381, 84.952874, ],\n",
    "[3003.378917, 4411.515837, 140.369595, 225.083612]]"
   ]
  },
  {
   "cell_type": "code",
   "execution_count": 69,
   "id": "fd2940ee",
   "metadata": {
    "ExecuteTime": {
     "end_time": "2022-04-16T02:37:25.680722Z",
     "start_time": "2022-04-16T02:37:25.675019Z"
    }
   },
   "outputs": [],
   "source": [
    "df = pd.DataFrame(time_data, columns=['baseline', 'seesaw', 'baseline_se', 'seesaw_se'], index=['marked_relevant', 'non_marked'])"
   ]
  },
  {
   "cell_type": "code",
   "execution_count": 73,
   "id": "459e117c",
   "metadata": {
    "ExecuteTime": {
     "end_time": "2022-04-16T02:38:08.203635Z",
     "start_time": "2022-04-16T02:38:08.181353Z"
    }
   },
   "outputs": [
    {
     "name": "stdout",
     "output_type": "stream",
     "text": [
      "\\begin{tabular}{lrrrr}\n",
      "\\toprule\n",
      "{} &  baseline &  seesaw &  baseline\\_se &  seesaw\\_se \\\\\n",
      "\\midrule\n",
      "marked\\_relevant &      1979 &    2410 &           50 &         85 \\\\\n",
      "non\\_marked      &      3003 &    4412 &          140 &        225 \\\\\n",
      "\\bottomrule\n",
      "\\end{tabular}\n",
      "\n"
     ]
    },
    {
     "name": "stderr",
     "output_type": "stream",
     "text": [
      "/tmp/ipykernel_2588075/2543497918.py:1: FutureWarning: In future versions `DataFrame.to_latex` is expected to utilise the base implementation of `Styler.to_latex` for formatting and rendering. The arguments signature may therefore change. It is recommended instead to use `DataFrame.style.to_latex` which also contains additional functionality.\n"
     ]
    }
   ],
   "source": [
    "print(df.to_latex(float_format='{:.0f}'.format))"
   ]
  },
  {
   "cell_type": "code",
   "execution_count": 22,
   "id": "ef981fb1",
   "metadata": {
    "ExecuteTime": {
     "end_time": "2022-04-06T13:48:50.868661Z",
     "start_time": "2022-04-06T13:48:50.832198Z"
    }
   },
   "outputs": [
    {
     "data": {
      "text/html": [
       "<div>\n",
       "<style scoped>\n",
       "    .dataframe tbody tr th:only-of-type {\n",
       "        vertical-align: middle;\n",
       "    }\n",
       "\n",
       "    .dataframe tbody tr th {\n",
       "        vertical-align: top;\n",
       "    }\n",
       "\n",
       "    .dataframe thead tr th {\n",
       "        text-align: left;\n",
       "    }\n",
       "\n",
       "    .dataframe thead tr:last-of-type th {\n",
       "        text-align: right;\n",
       "    }\n",
       "</style>\n",
       "<table border=\"1\" class=\"dataframe\">\n",
       "  <thead>\n",
       "    <tr>\n",
       "      <th></th>\n",
       "      <th colspan=\"4\" halign=\"left\">total_time</th>\n",
       "    </tr>\n",
       "    <tr>\n",
       "      <th></th>\n",
       "      <th colspan=\"2\" halign=\"left\">mean</th>\n",
       "      <th colspan=\"2\" halign=\"left\">sem</th>\n",
       "    </tr>\n",
       "    <tr>\n",
       "      <th>mode</th>\n",
       "      <th>default</th>\n",
       "      <th>pytorch</th>\n",
       "      <th>default</th>\n",
       "      <th>pytorch</th>\n",
       "    </tr>\n",
       "    <tr>\n",
       "      <th>accepted</th>\n",
       "      <th></th>\n",
       "      <th></th>\n",
       "      <th></th>\n",
       "      <th></th>\n",
       "    </tr>\n",
       "  </thead>\n",
       "  <tbody>\n",
       "    <tr>\n",
       "      <th>False</th>\n",
       "      <td>1979.488804</td>\n",
       "      <td>2410.213389</td>\n",
       "      <td>49.584381</td>\n",
       "      <td>84.952874</td>\n",
       "    </tr>\n",
       "    <tr>\n",
       "      <th>True</th>\n",
       "      <td>3003.378917</td>\n",
       "      <td>4411.515837</td>\n",
       "      <td>140.369595</td>\n",
       "      <td>225.083612</td>\n",
       "    </tr>\n",
       "  </tbody>\n",
       "</table>\n",
       "</div>"
      ],
      "text/plain": [
       "           total_time                                     \n",
       "                 mean                      sem            \n",
       "mode          default      pytorch     default     pytorch\n",
       "accepted                                                  \n",
       "False     1979.488804  2410.213389   49.584381   84.952874\n",
       "True      3003.378917  4411.515837  140.369595  225.083612"
      ]
     },
     "execution_count": 22,
     "metadata": {},
     "output_type": "execute_result"
    }
   ],
   "source": [
    "image_timings.groupby(['accepted','mode']).agg({'total_time':('mean', 'sem')}).unstack(level=-1)"
   ]
  },
  {
   "cell_type": "code",
   "execution_count": 23,
   "id": "6fa545e6",
   "metadata": {
    "ExecuteTime": {
     "end_time": "2022-04-06T13:49:20.379807Z",
     "start_time": "2022-04-06T13:49:20.378134Z"
    }
   },
   "outputs": [],
   "source": [
    "#min_times = tot.groupby(['qkey']).agg({'duration':('min', 'mean','std', 'size')})\n",
    "# time_cutoffs = {}\n",
    "# for r in min_times.itertuples():\n",
    "#     time_cutoffs[r.Index] = r._1\n"
   ]
  },
  {
   "cell_type": "code",
   "execution_count": 25,
   "id": "92e2ed9e",
   "metadata": {
    "ExecuteTime": {
     "end_time": "2022-04-06T13:49:33.075732Z",
     "start_time": "2022-04-06T13:49:33.074276Z"
    }
   },
   "outputs": [],
   "source": [
    "# summary = tot.groupby(['dataset','qkey', 'mode']).agg({'total_viewing_time_s':('mean', 'std', 'size')}).unstack(level=-1)\n",
    "# summary.columns = summary.columns.droplevel(0)"
   ]
  },
  {
   "cell_type": "code",
   "execution_count": 26,
   "id": "21dcab81",
   "metadata": {
    "ExecuteTime": {
     "end_time": "2022-04-06T13:49:33.252240Z",
     "start_time": "2022-04-06T13:49:33.250871Z"
    }
   },
   "outputs": [],
   "source": [
    "# summary"
   ]
  },
  {
   "cell_type": "code",
   "execution_count": 27,
   "id": "48983eb9",
   "metadata": {
    "ExecuteTime": {
     "end_time": "2022-04-06T13:49:33.826422Z",
     "start_time": "2022-04-06T13:49:33.825016Z"
    }
   },
   "outputs": [],
   "source": [
    "# goals of study: \n",
    "## 1. give some absolute times it takes to complete a task, show it varies (diff strings, diff feedback)\n",
    "\n",
    "## 2. compare how the baseline does:\n",
    "  ### 1.1 how many tasks were completed one mode vs other. \n",
    "    ## 1.2 in tasks that were completed, how did times look?\n",
    "\n",
    "## 2. show the time it takes to process a single image in one mode vs the other. \n",
    " # ( how large a burden does localized labeling impose?)\n",
    "  ## similar time 2.1 sec when images are negative. difference is about .3 sec.\n",
    "  ##  time of 4 vs 3 sec when providing box feedback.  \n",
    "    \n",
    "## 3. show more interesting queries on BDD dataset which are more difficult than existing queries.\n",
    "## 4. server latency vs user thinking time."
   ]
  },
  {
   "cell_type": "code",
   "execution_count": 28,
   "id": "19fa21fd",
   "metadata": {
    "ExecuteTime": {
     "end_time": "2022-04-06T13:49:35.977695Z",
     "start_time": "2022-04-06T13:49:35.971213Z"
    }
   },
   "outputs": [
    {
     "data": {
      "text/html": [
       "<div>\n",
       "<style scoped>\n",
       "    .dataframe tbody tr th:only-of-type {\n",
       "        vertical-align: middle;\n",
       "    }\n",
       "\n",
       "    .dataframe tbody tr th {\n",
       "        vertical-align: top;\n",
       "    }\n",
       "\n",
       "    .dataframe thead th {\n",
       "        text-align: right;\n",
       "    }\n",
       "</style>\n",
       "<table border=\"1\" class=\"dataframe\">\n",
       "  <thead>\n",
       "    <tr style=\"text-align: right;\">\n",
       "      <th>mode</th>\n",
       "      <th>default</th>\n",
       "      <th>pytorch</th>\n",
       "    </tr>\n",
       "    <tr>\n",
       "      <th>qkey</th>\n",
       "      <th></th>\n",
       "      <th></th>\n",
       "    </tr>\n",
       "  </thead>\n",
       "  <tbody>\n",
       "    <tr>\n",
       "      <th>cd</th>\n",
       "      <td>7</td>\n",
       "      <td>6</td>\n",
       "    </tr>\n",
       "    <tr>\n",
       "      <th>dg</th>\n",
       "      <td>6</td>\n",
       "      <td>7</td>\n",
       "    </tr>\n",
       "    <tr>\n",
       "      <th>dst</th>\n",
       "      <td>6</td>\n",
       "      <td>7</td>\n",
       "    </tr>\n",
       "    <tr>\n",
       "      <th>gg</th>\n",
       "      <td>7</td>\n",
       "      <td>6</td>\n",
       "    </tr>\n",
       "    <tr>\n",
       "      <th>mln</th>\n",
       "      <td>7</td>\n",
       "      <td>6</td>\n",
       "    </tr>\n",
       "    <tr>\n",
       "      <th>spn</th>\n",
       "      <td>6</td>\n",
       "      <td>7</td>\n",
       "    </tr>\n",
       "    <tr>\n",
       "      <th>wch</th>\n",
       "      <td>7</td>\n",
       "      <td>6</td>\n",
       "    </tr>\n",
       "  </tbody>\n",
       "</table>\n",
       "</div>"
      ],
      "text/plain": [
       "mode  default  pytorch\n",
       "qkey                  \n",
       "cd          7        6\n",
       "dg          6        7\n",
       "dst         6        7\n",
       "gg          7        6\n",
       "mln         7        6\n",
       "spn         6        7\n",
       "wch         7        6"
      ]
     },
     "execution_count": 28,
     "metadata": {},
     "output_type": "execute_result"
    }
   ],
   "source": [
    "query_totals = tot.groupby(['qkey', 'mode']).size().unstack(level=-1)\n",
    "query_totals"
   ]
  },
  {
   "cell_type": "code",
   "execution_count": 29,
   "id": "adc9ce12",
   "metadata": {
    "ExecuteTime": {
     "end_time": "2022-04-06T13:50:00.661696Z",
     "start_time": "2022-04-06T13:50:00.650479Z"
    },
    "scrolled": true
   },
   "outputs": [
    {
     "data": {
      "text/html": [
       "<div>\n",
       "<style scoped>\n",
       "    .dataframe tbody tr th:only-of-type {\n",
       "        vertical-align: middle;\n",
       "    }\n",
       "\n",
       "    .dataframe tbody tr th {\n",
       "        vertical-align: top;\n",
       "    }\n",
       "\n",
       "    .dataframe thead th {\n",
       "        text-align: right;\n",
       "    }\n",
       "</style>\n",
       "<table border=\"1\" class=\"dataframe\">\n",
       "  <thead>\n",
       "    <tr style=\"text-align: right;\">\n",
       "      <th>mode</th>\n",
       "      <th>default</th>\n",
       "      <th>pytorch</th>\n",
       "    </tr>\n",
       "    <tr>\n",
       "      <th>qkey</th>\n",
       "      <th></th>\n",
       "      <th></th>\n",
       "    </tr>\n",
       "  </thead>\n",
       "  <tbody>\n",
       "    <tr>\n",
       "      <th>cd</th>\n",
       "      <td>0</td>\n",
       "      <td>0</td>\n",
       "    </tr>\n",
       "    <tr>\n",
       "      <th>dg</th>\n",
       "      <td>0</td>\n",
       "      <td>7</td>\n",
       "    </tr>\n",
       "    <tr>\n",
       "      <th>dst</th>\n",
       "      <td>6</td>\n",
       "      <td>7</td>\n",
       "    </tr>\n",
       "    <tr>\n",
       "      <th>gg</th>\n",
       "      <td>7</td>\n",
       "      <td>6</td>\n",
       "    </tr>\n",
       "    <tr>\n",
       "      <th>mln</th>\n",
       "      <td>1</td>\n",
       "      <td>6</td>\n",
       "    </tr>\n",
       "    <tr>\n",
       "      <th>spn</th>\n",
       "      <td>5</td>\n",
       "      <td>7</td>\n",
       "    </tr>\n",
       "    <tr>\n",
       "      <th>wch</th>\n",
       "      <td>0</td>\n",
       "      <td>6</td>\n",
       "    </tr>\n",
       "  </tbody>\n",
       "</table>\n",
       "</div>"
      ],
      "text/plain": [
       "mode  default  pytorch\n",
       "qkey                  \n",
       "cd          0        0\n",
       "dg          0        7\n",
       "dst         6        7\n",
       "gg          7        6\n",
       "mln         1        6\n",
       "spn         5        7\n",
       "wch         0        6"
      ]
     },
     "execution_count": 29,
     "metadata": {},
     "output_type": "execute_result"
    }
   ],
   "source": [
    "ct =  tot[tot.completed].groupby(['qkey', 'mode']).size().unstack(level=-1)\n",
    "completed_totals = ct.reindex(query_totals.index).fillna(0).astype('int')\n",
    "completed_totals"
   ]
  },
  {
   "cell_type": "code",
   "execution_count": 30,
   "id": "16522dda",
   "metadata": {
    "ExecuteTime": {
     "end_time": "2022-04-06T13:50:07.471499Z",
     "start_time": "2022-04-06T13:50:07.461275Z"
    }
   },
   "outputs": [
    {
     "data": {
      "text/html": [
       "<div>\n",
       "<style scoped>\n",
       "    .dataframe tbody tr th:only-of-type {\n",
       "        vertical-align: middle;\n",
       "    }\n",
       "\n",
       "    .dataframe tbody tr th {\n",
       "        vertical-align: top;\n",
       "    }\n",
       "\n",
       "    .dataframe thead th {\n",
       "        text-align: right;\n",
       "    }\n",
       "</style>\n",
       "<table border=\"1\" class=\"dataframe\">\n",
       "  <thead>\n",
       "    <tr style=\"text-align: right;\">\n",
       "      <th>mode</th>\n",
       "      <th>default</th>\n",
       "      <th>pytorch</th>\n",
       "    </tr>\n",
       "    <tr>\n",
       "      <th>qkey</th>\n",
       "      <th></th>\n",
       "      <th></th>\n",
       "    </tr>\n",
       "  </thead>\n",
       "  <tbody>\n",
       "    <tr>\n",
       "      <th>cd</th>\n",
       "      <td>0.00</td>\n",
       "      <td>0.0</td>\n",
       "    </tr>\n",
       "    <tr>\n",
       "      <th>dg</th>\n",
       "      <td>0.00</td>\n",
       "      <td>1.0</td>\n",
       "    </tr>\n",
       "    <tr>\n",
       "      <th>dst</th>\n",
       "      <td>1.00</td>\n",
       "      <td>1.0</td>\n",
       "    </tr>\n",
       "    <tr>\n",
       "      <th>gg</th>\n",
       "      <td>1.00</td>\n",
       "      <td>1.0</td>\n",
       "    </tr>\n",
       "    <tr>\n",
       "      <th>mln</th>\n",
       "      <td>0.14</td>\n",
       "      <td>1.0</td>\n",
       "    </tr>\n",
       "    <tr>\n",
       "      <th>spn</th>\n",
       "      <td>0.83</td>\n",
       "      <td>1.0</td>\n",
       "    </tr>\n",
       "    <tr>\n",
       "      <th>wch</th>\n",
       "      <td>0.00</td>\n",
       "      <td>1.0</td>\n",
       "    </tr>\n",
       "  </tbody>\n",
       "</table>\n",
       "</div>"
      ],
      "text/plain": [
       "mode  default  pytorch\n",
       "qkey                  \n",
       "cd       0.00      0.0\n",
       "dg       0.00      1.0\n",
       "dst      1.00      1.0\n",
       "gg       1.00      1.0\n",
       "mln      0.14      1.0\n",
       "spn      0.83      1.0\n",
       "wch      0.00      1.0"
      ]
     },
     "execution_count": 30,
     "metadata": {},
     "output_type": "execute_result"
    }
   ],
   "source": [
    "(completed_totals/query_totals).round(2)"
   ]
  },
  {
   "cell_type": "code",
   "execution_count": 31,
   "id": "2262025d",
   "metadata": {
    "ExecuteTime": {
     "end_time": "2022-04-06T13:50:12.894962Z",
     "start_time": "2022-04-06T13:50:12.892638Z"
    }
   },
   "outputs": [],
   "source": [
    "task_completed =  tot[tot.completed]"
   ]
  },
  {
   "cell_type": "code",
   "execution_count": 32,
   "id": "d76f9696",
   "metadata": {
    "ExecuteTime": {
     "end_time": "2022-04-06T13:50:14.175549Z",
     "start_time": "2022-04-06T13:50:14.158998Z"
    }
   },
   "outputs": [
    {
     "data": {
      "text/html": [
       "<div>\n",
       "<style scoped>\n",
       "    .dataframe tbody tr th:only-of-type {\n",
       "        vertical-align: middle;\n",
       "    }\n",
       "\n",
       "    .dataframe tbody tr th {\n",
       "        vertical-align: top;\n",
       "    }\n",
       "\n",
       "    .dataframe thead tr th {\n",
       "        text-align: left;\n",
       "    }\n",
       "\n",
       "    .dataframe thead tr:last-of-type th {\n",
       "        text-align: right;\n",
       "    }\n",
       "</style>\n",
       "<table border=\"1\" class=\"dataframe\">\n",
       "  <thead>\n",
       "    <tr>\n",
       "      <th></th>\n",
       "      <th></th>\n",
       "      <th colspan=\"6\" halign=\"left\">accepted</th>\n",
       "    </tr>\n",
       "    <tr>\n",
       "      <th></th>\n",
       "      <th></th>\n",
       "      <th colspan=\"2\" halign=\"left\">mean</th>\n",
       "      <th colspan=\"2\" halign=\"left\">sem</th>\n",
       "      <th colspan=\"2\" halign=\"left\">size</th>\n",
       "    </tr>\n",
       "    <tr>\n",
       "      <th></th>\n",
       "      <th>mode</th>\n",
       "      <th>default</th>\n",
       "      <th>pytorch</th>\n",
       "      <th>default</th>\n",
       "      <th>pytorch</th>\n",
       "      <th>default</th>\n",
       "      <th>pytorch</th>\n",
       "    </tr>\n",
       "    <tr>\n",
       "      <th>dataset</th>\n",
       "      <th>qkey</th>\n",
       "      <th></th>\n",
       "      <th></th>\n",
       "      <th></th>\n",
       "      <th></th>\n",
       "      <th></th>\n",
       "      <th></th>\n",
       "    </tr>\n",
       "  </thead>\n",
       "  <tbody>\n",
       "    <tr>\n",
       "      <th rowspan=\"3\" valign=\"top\">bdd</th>\n",
       "      <th>cd</th>\n",
       "      <td>1.857143</td>\n",
       "      <td>3.833333</td>\n",
       "      <td>0.260820</td>\n",
       "      <td>1.301708</td>\n",
       "      <td>7</td>\n",
       "      <td>6</td>\n",
       "    </tr>\n",
       "    <tr>\n",
       "      <th>dg</th>\n",
       "      <td>4.333333</td>\n",
       "      <td>10.571429</td>\n",
       "      <td>0.333333</td>\n",
       "      <td>0.297381</td>\n",
       "      <td>6</td>\n",
       "      <td>7</td>\n",
       "    </tr>\n",
       "    <tr>\n",
       "      <th>wch</th>\n",
       "      <td>1.285714</td>\n",
       "      <td>10.166667</td>\n",
       "      <td>0.184428</td>\n",
       "      <td>0.166667</td>\n",
       "      <td>7</td>\n",
       "      <td>6</td>\n",
       "    </tr>\n",
       "    <tr>\n",
       "      <th rowspan=\"2\" valign=\"top\">coco</th>\n",
       "      <th>mln</th>\n",
       "      <td>6.000000</td>\n",
       "      <td>10.000000</td>\n",
       "      <td>0.925820</td>\n",
       "      <td>0.000000</td>\n",
       "      <td>7</td>\n",
       "      <td>6</td>\n",
       "    </tr>\n",
       "    <tr>\n",
       "      <th>spn</th>\n",
       "      <td>10.000000</td>\n",
       "      <td>10.428571</td>\n",
       "      <td>0.258199</td>\n",
       "      <td>0.202031</td>\n",
       "      <td>6</td>\n",
       "      <td>7</td>\n",
       "    </tr>\n",
       "    <tr>\n",
       "      <th rowspan=\"2\" valign=\"top\">objectnet</th>\n",
       "      <th>dst</th>\n",
       "      <td>10.333333</td>\n",
       "      <td>10.142857</td>\n",
       "      <td>0.333333</td>\n",
       "      <td>0.142857</td>\n",
       "      <td>6</td>\n",
       "      <td>7</td>\n",
       "    </tr>\n",
       "    <tr>\n",
       "      <th>gg</th>\n",
       "      <td>10.428571</td>\n",
       "      <td>10.333333</td>\n",
       "      <td>0.297381</td>\n",
       "      <td>0.333333</td>\n",
       "      <td>7</td>\n",
       "      <td>6</td>\n",
       "    </tr>\n",
       "  </tbody>\n",
       "</table>\n",
       "</div>"
      ],
      "text/plain": [
       "                 accepted                                               \n",
       "                     mean                  sem              size        \n",
       "mode              default    pytorch   default   pytorch default pytorch\n",
       "dataset   qkey                                                          \n",
       "bdd       cd     1.857143   3.833333  0.260820  1.301708       7       6\n",
       "          dg     4.333333  10.571429  0.333333  0.297381       6       7\n",
       "          wch    1.285714  10.166667  0.184428  0.166667       7       6\n",
       "coco      mln    6.000000  10.000000  0.925820  0.000000       7       6\n",
       "          spn   10.000000  10.428571  0.258199  0.202031       6       7\n",
       "objectnet dst   10.333333  10.142857  0.333333  0.142857       6       7\n",
       "          gg    10.428571  10.333333  0.297381  0.333333       7       6"
      ]
     },
     "execution_count": 32,
     "metadata": {},
     "output_type": "execute_result"
    }
   ],
   "source": [
    "tot.groupby(['dataset','qkey', 'mode']).agg({'accepted':('mean', 'sem', 'size')}).unstack(level=-1)"
   ]
  },
  {
   "cell_type": "code",
   "execution_count": 88,
   "id": "ba07f24a",
   "metadata": {
    "ExecuteTime": {
     "end_time": "2022-04-05T14:05:12.776524Z",
     "start_time": "2022-04-05T14:05:12.774103Z"
    }
   },
   "outputs": [],
   "source": [
    "comparable_cases = (completed_totals == totals).all(axis=1)"
   ]
  },
  {
   "cell_type": "code",
   "execution_count": 38,
   "id": "00b1666c",
   "metadata": {
    "ExecuteTime": {
     "end_time": "2022-04-04T23:26:37.142948Z",
     "start_time": "2022-04-04T23:26:37.141423Z"
    }
   },
   "outputs": [],
   "source": [
    "# option 2: show results after a fixed time. change this fixed time for all queries."
   ]
  },
  {
   "cell_type": "code",
   "execution_count": 60,
   "id": "606dbe42",
   "metadata": {
    "ExecuteTime": {
     "end_time": "2022-04-04T13:29:02.796270Z",
     "start_time": "2022-04-04T13:29:02.794769Z"
    }
   },
   "outputs": [],
   "source": [
    "# car door analysis: what if neither method gets 10? # how many did we find using the different methods? (we didn't reach 10, so both stop at 75)\n",
    "# wheelchair: what if one method reaches 10 but the other one does not?"
   ]
  },
  {
   "cell_type": "code",
   "execution_count": 231,
   "id": "64583351",
   "metadata": {
    "ExecuteTime": {
     "end_time": "2022-04-05T18:46:26.319619Z",
     "start_time": "2022-04-05T18:46:26.317751Z"
    }
   },
   "outputs": [],
   "source": [
    "#host = 'ec2-34-235-127-81.compute-1.amazonaws.com'\n",
    "host = 'ec2-54-227-213-119.compute-1.amazonaws.com'\n",
    "port = '9000'\n",
    "\n",
    "url_template = (f\"http://{host}:{port}/user_session?\" +\n",
    "        \"mode={mode}&dataset={dataset}&qkey={qkey}&session_id={session_id}&user={user}\")"
   ]
  },
  {
   "cell_type": "code",
   "execution_count": 41,
   "id": "aa36b675",
   "metadata": {
    "ExecuteTime": {
     "end_time": "2022-04-04T23:26:50.154298Z",
     "start_time": "2022-04-04T23:26:50.152750Z"
    }
   },
   "outputs": [],
   "source": [
    "# coco sugar cane: the first one is correct. the second one is mislabelled in the ground truth. \n",
    "# bdd train: for some reason did not work that well when I did it. (took about 100 to find the first 10), \n",
    "            # whereas when I used the plain one I seemed to get better results earlier (but did not get to 100.)\n",
    "\n",
    "        \n",
    "# objectnet dustpan: I used dustpan and all top 11 results were ok. dust pan is the one used in the benchmark.\n",
    "# objectnet egg carton: seems to work well. \n",
    "    # would be nice to mark image from outside.\n",
    "    # would be good if keyboard controls remain valid even if box is selected (for plain mode)\n",
    "    \n",
    "# coco spoon: seems to work well.\n",
    "# coco melon: works well. we should double check what type of negative feedback is happening right now.\n",
    "\n",
    "# bdd dog: a picture of a dog (multi: quite terrible for some reason if we use 'a picture of a dog'. a dog is ok however)\n",
    "# bdd open car door: plain finds 1 after about 80 images. still only one after 110.\n",
    "           # seesaw finds 1 after about 60. then 7 by 110.\n"
   ]
  },
  {
   "cell_type": "code",
   "execution_count": 42,
   "id": "6dc7c707",
   "metadata": {
    "ExecuteTime": {
     "end_time": "2022-04-04T23:26:50.672824Z",
     "start_time": "2022-04-04T23:26:50.671353Z"
    }
   },
   "outputs": [],
   "source": [
    "# brit was user test ...."
   ]
  },
  {
   "cell_type": "code",
   "execution_count": 262,
   "id": "3375844a",
   "metadata": {
    "ExecuteTime": {
     "end_time": "2022-04-05T21:00:20.175381Z",
     "start_time": "2022-04-05T21:00:20.172681Z"
    }
   },
   "outputs": [
    {
     "name": "stdout",
     "output_type": "stream",
     "text": [
      "user siva\n"
     ]
    }
   ],
   "source": [
    "user = users[-1]\n",
    "#user = 'manny_test'\n",
    "print('user', user)\n",
    "dq = {\n",
    "    'bdd':{'pc':'police car', 'amb':'ambulance', 'dg':'dog', 'cd':'open car door', 'wch':'wheelchair'},\n",
    "    'coco':{'mln':'melon', 'spn':'spoon'},\n",
    "    'objectnet':{'dst':'dustpan', 'gg':'egg carton'},\n",
    "}"
   ]
  },
  {
   "cell_type": "code",
   "execution_count": 171,
   "id": "04150420",
   "metadata": {
    "ExecuteTime": {
     "end_time": "2022-04-06T20:21:09.183433Z",
     "start_time": "2022-04-06T20:21:09.181782Z"
    }
   },
   "outputs": [],
   "source": [
    "import string\n",
    "import random"
   ]
  },
  {
   "cell_type": "code",
   "execution_count": 169,
   "id": "8d872ab7",
   "metadata": {
    "ExecuteTime": {
     "end_time": "2022-04-06T20:21:01.973035Z",
     "start_time": "2022-04-06T20:21:01.970158Z"
    }
   },
   "outputs": [
    {
     "data": {
      "text/plain": [
       "'abcdefghijklmnopqrstuvwxyzABCDEFGHIJKLMNOPQRSTUVWXYZ'"
      ]
     },
     "execution_count": 169,
     "metadata": {},
     "output_type": "execute_result"
    }
   ],
   "source": [
    "string.ascii_letters"
   ]
  },
  {
   "cell_type": "code",
   "execution_count": 233,
   "id": "1099cffa",
   "metadata": {
    "ExecuteTime": {
     "end_time": "2022-04-05T18:46:29.899529Z",
     "start_time": "2022-04-05T18:46:29.898019Z"
    }
   },
   "outputs": [],
   "source": [
    "#/home/gridsan/groups/fastai/seesaw/data/coco/train2017/000000411517.jpg"
   ]
  },
  {
   "cell_type": "code",
   "execution_count": 264,
   "id": "02a805d4",
   "metadata": {
    "ExecuteTime": {
     "end_time": "2022-04-05T21:16:06.038465Z",
     "start_time": "2022-04-05T21:16:06.036499Z"
    }
   },
   "outputs": [],
   "source": [
    "# siva : dg => open door, open door => dg"
   ]
  },
  {
   "cell_type": "code",
   "execution_count": 263,
   "id": "4ba8a799",
   "metadata": {
    "ExecuteTime": {
     "end_time": "2022-04-05T21:00:23.530396Z",
     "start_time": "2022-04-05T21:00:23.525919Z"
    }
   },
   "outputs": [
    {
     "name": "stdout",
     "output_type": "stream",
     "text": [
      "1) http://ec2-54-227-213-119.compute-1.amazonaws.com:9000/user_session?mode=default&dataset=bdd&qkey=pc&session_id=naepxzsntv&user=1955b38f13\n",
      "2) http://ec2-54-227-213-119.compute-1.amazonaws.com:9000/user_session?mode=pytorch&dataset=bdd&qkey=amb&session_id=lgdtmihsps&user=1955b38f13\n",
      "3) http://ec2-54-227-213-119.compute-1.amazonaws.com:9000/user_session?mode=default&dataset=bdd&qkey=dg&session_id=ncdrurgezp&user=1955b38f13\n",
      "4) http://ec2-54-227-213-119.compute-1.amazonaws.com:9000/user_session?mode=pytorch&dataset=bdd&qkey=cd&session_id=lotdebfwtn&user=1955b38f13\n",
      "5) http://ec2-54-227-213-119.compute-1.amazonaws.com:9000/user_session?mode=default&dataset=bdd&qkey=wch&session_id=aiduizsilt&user=1955b38f13\n",
      "6) http://ec2-54-227-213-119.compute-1.amazonaws.com:9000/user_session?mode=default&dataset=coco&qkey=mln&session_id=jzlupilnzx&user=1955b38f13\n",
      "7) http://ec2-54-227-213-119.compute-1.amazonaws.com:9000/user_session?mode=pytorch&dataset=coco&qkey=spn&session_id=atyhgdwzhw&user=1955b38f13\n",
      "8) http://ec2-54-227-213-119.compute-1.amazonaws.com:9000/user_session?mode=pytorch&dataset=objectnet&qkey=dst&session_id=duimooaaui&user=1955b38f13\n",
      "9) http://ec2-54-227-213-119.compute-1.amazonaws.com:9000/user_session?mode=default&dataset=objectnet&qkey=gg&session_id=xkcqdieqyd&user=1955b38f13\n"
     ]
    }
   ],
   "source": [
    "user_hash = get_user_hash(user)\n",
    "# md = hashlib.md5(user.encode())\n",
    "# user_hash = md.hexdigest()[:10]\n",
    "\n",
    "modes_a = [1, 1, 0]\n",
    "mode_offset = 0\n",
    "\n",
    "link_no = 1\n",
    "for di,(dataset,qnames) in enumerate(dq.items()):\n",
    "    mode_n = (modes_a[di] + mode_offset) % 2\n",
    "    for i,q in enumerate(qnames.keys()):\n",
    "        #print(f'{link_no}) (dataset {dataset}, qkey {q}): {qnames[q]}')\n",
    "        session_id = ''.join([random.choice(string.ascii_lowercase) for i in range(10)])\n",
    "        mode = base_modes[(i + mode_n) % 2]\n",
    "        url = url_template.format(mode=mode, user=user_hash, session_id=session_id, qkey=q, dataset=dataset)\n",
    "        print(f'{link_no})', url)\n",
    "        link_no +=1"
   ]
  },
  {
   "cell_type": "code",
   "execution_count": 108,
   "id": "9ad15f17",
   "metadata": {
    "ExecuteTime": {
     "end_time": "2022-03-30T16:16:23.413163Z",
     "start_time": "2022-03-30T16:16:23.410281Z"
    }
   },
   "outputs": [
    {
     "data": {
      "text/plain": [
       "{'dataset': 'coco',\n",
       " 'session_id': 'oscar_test2',\n",
       " 'mode': 'default',\n",
       " 'qkey': 'spoon',\n",
       " 'user': 'oscar',\n",
       " 'query_string': 'a spoon',\n",
       " 'total_time': 97.68128228187561,\n",
       " 'total_seen': 30,\n",
       " 'total_accepted': 10}"
      ]
     },
     "execution_count": 108,
     "metadata": {},
     "output_type": "execute_result"
    }
   ],
   "source": [
    "analyze_sess(sess_info)"
   ]
  }
 ],
 "metadata": {
  "kernelspec": {
   "display_name": "Python 3 (ipykernel)",
   "language": "python",
   "name": "python3"
  },
  "language_info": {
   "codemirror_mode": {
    "name": "ipython",
    "version": 3
   },
   "file_extension": ".py",
   "mimetype": "text/x-python",
   "name": "python",
   "nbconvert_exporter": "python",
   "pygments_lexer": "ipython3",
   "version": "3.9.13"
  }
 },
 "nbformat": 4,
 "nbformat_minor": 5
}
