{
 "cells": [
  {
   "cell_type": "code",
   "execution_count": 1,
   "id": "1452ebe9",
   "metadata": {
    "ExecuteTime": {
     "end_time": "2022-08-30T02:42:24.659908Z",
     "start_time": "2022-08-30T02:42:16.976319Z"
    },
    "execution": {
     "iopub.execute_input": "2023-07-21T01:46:12.573039Z",
     "iopub.status.busy": "2023-07-21T01:46:12.572535Z",
     "iopub.status.idle": "2023-07-21T01:46:15.493924Z",
     "shell.execute_reply": "2023-07-21T01:46:15.493503Z",
     "shell.execute_reply.started": "2023-07-21T01:46:12.573016Z"
    },
    "tags": []
   },
   "outputs": [],
   "source": [
    "import os\n",
    "import importlib\n",
    "import numpy as np\n",
    "import yaml\n",
    "from tqdm.auto import tqdm\n",
    "import seesaw\n",
    "import ray \n",
    "import seesaw.seesaw_bench\n",
    "import seesaw.figures\n",
    "import seesaw.dataset_manager\n",
    "import seesaw.dataset\n",
    "\n",
    "importlib.reload(seesaw.metrics)\n",
    "importlib.reload(seesaw.figures)\n",
    "importlib.reload(seesaw.seesaw_bench)\n",
    "\n",
    "import seesaw.figure_utils\n",
    "importlib.reload(seesaw.figure_utils)\n",
    "from seesaw.figure_utils import *\n",
    "from seesaw.seesaw_bench import *\n",
    "from seesaw.figures import *\n",
    "from plotnine import *\n",
    "from seesaw.dataset_manager import GlobalDataManager\n"
   ]
  },
  {
   "cell_type": "code",
   "execution_count": 2,
   "id": "a18e7e8f",
   "metadata": {
    "ExecuteTime": {
     "end_time": "2022-08-24T01:47:14.553539Z",
     "start_time": "2022-08-24T01:05:31.476445Z"
    },
    "execution": {
     "iopub.execute_input": "2023-07-21T01:46:15.494889Z",
     "iopub.status.busy": "2023-07-21T01:46:15.494729Z",
     "iopub.status.idle": "2023-07-21T01:46:15.497475Z",
     "shell.execute_reply": "2023-07-21T01:46:15.496651Z",
     "shell.execute_reply.started": "2023-07-21T01:46:15.494880Z"
    },
    "tags": []
   },
   "outputs": [],
   "source": [
    "#ray.init('auto', namespace='seesaw')"
   ]
  },
  {
   "cell_type": "code",
   "execution_count": 3,
   "id": "5ece0115-1c43-42b8-b435-f869e5499e99",
   "metadata": {
    "execution": {
     "iopub.execute_input": "2023-07-21T01:46:15.498053Z",
     "iopub.status.busy": "2023-07-21T01:46:15.497944Z",
     "iopub.status.idle": "2023-07-21T01:46:15.500505Z",
     "shell.execute_reply": "2023-07-21T01:46:15.500096Z",
     "shell.execute_reply.started": "2023-07-21T01:46:15.498044Z"
    },
    "tags": []
   },
   "outputs": [],
   "source": [
    "import glob"
   ]
  },
  {
   "cell_type": "code",
   "execution_count": 44,
   "id": "f1013cb0",
   "metadata": {
    "ExecuteTime": {
     "end_time": "2022-08-24T01:47:14.557886Z",
     "start_time": "2022-08-24T01:47:14.557876Z"
    },
    "execution": {
     "iopub.execute_input": "2023-07-21T06:26:08.159103Z",
     "iopub.status.busy": "2023-07-21T06:26:08.158296Z",
     "iopub.status.idle": "2023-07-21T06:26:08.198631Z",
     "shell.execute_reply": "2023-07-21T06:26:08.198019Z",
     "shell.execute_reply.started": "2023-07-21T06:26:08.159067Z"
    },
    "tags": []
   },
   "outputs": [],
   "source": [
    "results_paths = [    \n",
    "    # ('', '//home/gridsan/omoll/test_new_trainer/bench_DHeCZhAeux/'),    \n",
    "    # ('', '//home/gridsan/omoll/test_new_trainer/bench_LAaCMfitvl/'), #'baseline'\n",
    "    # ('', '//home/gridsan/omoll/test_new_trainer/bench_jYTXlGTLdu/'), # rocchio hyperparams\n",
    "    # ('', './bench_NrMYlLXfJo/'), # seesaw hyperparams 1\n",
    "    # ('', './bench_AEZJiQmHaT/'), # seesaw hyperparams 2\n",
    "    # ('', './bench_jYTXlGTLdu/'), # rocchio hyperparams\n",
    "    # ('', './bench_qjarjqiTtP/'),\n",
    "#    ('', './bench_jPIfrrviVd/'),\n",
    "    # ('', './bench_LKbANKUZXD/'), # latency\n",
    "    # ('', './bench_UIdAAkpcRg/'), # latency\n",
    "    # ('', './bench_igTgtspZYb/'), # latency\n",
    "    ('', './bench_HVOsShtClv'), # rocchio coarse\n",
    "    ('', './bench_cUQkrzpYaR/') # few shot coarse\n",
    "    #(/summary.parquet\n",
    "]\n",
    "\n",
    "## are the results between current version and previous version really identical? unlikely...\n",
    "## next steps: \n",
    "# 1. check something changed for some dataset before and after.\n",
    "# if yes, then nothing to do.\n",
    "# or check if the lambda is perhaps too high.\n",
    "\n",
    "#all_summs = [checkpoint]\n",
    "all_summs = []\n",
    "for (i,(nm, bench_folder)) in enumerate(results_paths):\n",
    "    summss = get_all_session_summaries(bench_folder, force_recompute=False, parallel=False)\n",
    "    summss = summss.assign(bench_folder=bench_folder, bench_id=bench_folder.rstrip('/').rsplit('/')[-1])\n",
    "    summss = summss.assign(run_id = summss.bench_id + ('_' + summss.sample_id).fillna(''), timestamp=get_timestamp(bench_folder))\n",
    "    \n",
    "    \n",
    "    if nm != '':\n",
    "        summss = summss.assign(name=summss.name + '_' + nm)\n",
    "        \n",
    "    all_summs.append(summss)\n",
    "    \n",
    "summs = pd.concat(all_summs, ignore_index=True).reset_index(drop=True)\n",
    "#summs.to_parquet('/home/gridsan/omoll/concat_summs_checkpoint_Mar1.parquet')"
   ]
  },
  {
   "cell_type": "code",
   "execution_count": 85,
   "id": "2cf924fa-5688-4eaa-9374-e9625e247ace",
   "metadata": {
    "execution": {
     "iopub.execute_input": "2023-07-19T19:58:19.186898Z",
     "iopub.status.busy": "2023-07-19T19:58:19.186311Z",
     "iopub.status.idle": "2023-07-19T19:58:19.190721Z",
     "shell.execute_reply": "2023-07-19T19:58:19.189930Z",
     "shell.execute_reply.started": "2023-07-19T19:58:19.186866Z"
    }
   },
   "outputs": [],
   "source": [
    "#summs['latencies'].map(np.mean)"
   ]
  },
  {
   "cell_type": "code",
   "execution_count": 38,
   "id": "2b076eaa-b1a4-46f5-8b47-772690639e8e",
   "metadata": {
    "execution": {
     "iopub.execute_input": "2023-07-16T00:07:10.004895Z",
     "iopub.status.busy": "2023-07-16T00:07:10.004257Z",
     "iopub.status.idle": "2023-07-16T00:07:10.008358Z",
     "shell.execute_reply": "2023-07-16T00:07:10.007731Z",
     "shell.execute_reply.started": "2023-07-16T00:07:10.004861Z"
    }
   },
   "outputs": [],
   "source": [
    "### table with results vs. baselines.\n",
    "### table with hyperparam results for both rocchio, seesaw."
   ]
  },
  {
   "cell_type": "code",
   "execution_count": 240,
   "id": "60d6dfb2-e351-4f93-9d21-bae8b0158e99",
   "metadata": {
    "execution": {
     "iopub.execute_input": "2023-07-20T18:37:52.281643Z",
     "iopub.status.busy": "2023-07-20T18:37:52.280770Z",
     "iopub.status.idle": "2023-07-20T18:37:52.294075Z",
     "shell.execute_reply": "2023-07-20T18:37:52.293475Z",
     "shell.execute_reply.started": "2023-07-20T18:37:52.281583Z"
    }
   },
   "outputs": [
    {
     "data": {
      "text/html": [
       "<div>\n",
       "<style scoped>\n",
       "    .dataframe tbody tr th:only-of-type {\n",
       "        vertical-align: middle;\n",
       "    }\n",
       "\n",
       "    .dataframe tbody tr th {\n",
       "        vertical-align: top;\n",
       "    }\n",
       "\n",
       "    .dataframe thead th {\n",
       "        text-align: right;\n",
       "    }\n",
       "</style>\n",
       "<table border=\"1\" class=\"dataframe\">\n",
       "  <thead>\n",
       "    <tr style=\"text-align: right;\">\n",
       "      <th></th>\n",
       "      <th>dataset</th>\n",
       "      <th>index_name</th>\n",
       "      <th>vectors</th>\n",
       "    </tr>\n",
       "  </thead>\n",
       "  <tbody>\n",
       "    <tr>\n",
       "      <th>0</th>\n",
       "      <td>bdd</td>\n",
       "      <td>multiscalecoarse</td>\n",
       "      <td>79863</td>\n",
       "    </tr>\n",
       "    <tr>\n",
       "      <th>1</th>\n",
       "      <td>bdd</td>\n",
       "      <td>multiscalemed</td>\n",
       "      <td>1597260</td>\n",
       "    </tr>\n",
       "    <tr>\n",
       "      <th>2</th>\n",
       "      <td>coco</td>\n",
       "      <td>multiscalecoarse</td>\n",
       "      <td>119979</td>\n",
       "    </tr>\n",
       "    <tr>\n",
       "      <th>3</th>\n",
       "      <td>coco</td>\n",
       "      <td>multiscalemed</td>\n",
       "      <td>1614866</td>\n",
       "    </tr>\n",
       "    <tr>\n",
       "      <th>4</th>\n",
       "      <td>objectnet</td>\n",
       "      <td>multiscalecoarse</td>\n",
       "      <td>50273</td>\n",
       "    </tr>\n",
       "    <tr>\n",
       "      <th>5</th>\n",
       "      <td>objectnet</td>\n",
       "      <td>multiscalemed</td>\n",
       "      <td>50273</td>\n",
       "    </tr>\n",
       "  </tbody>\n",
       "</table>\n",
       "</div>"
      ],
      "text/plain": [
       "     dataset        index_name  vectors\n",
       "0        bdd  multiscalecoarse    79863\n",
       "1        bdd     multiscalemed  1597260\n",
       "2       coco  multiscalecoarse   119979\n",
       "3       coco     multiscalemed  1614866\n",
       "4  objectnet  multiscalecoarse    50273\n",
       "5  objectnet     multiscalemed    50273"
      ]
     },
     "execution_count": 240,
     "metadata": {},
     "output_type": "execute_result"
    }
   ],
   "source": [
    "size_df = pd.DataFrame.from_records([\n",
    "    ##\n",
    "    {'dataset':'bdd', 'index_name':'multiscalecoarse', 'vectors':79863},\n",
    "    {'dataset':'bdd', 'index_name':'multiscalemed', 'vectors':1597260},\n",
    "    ##\n",
    "    {'dataset':'coco', 'index_name':'multiscalecoarse', 'vectors':119979},\n",
    "    {'dataset':'coco', 'index_name':'multiscalemed', 'vectors':1614866},\n",
    "    ##\n",
    "    {'dataset':'objectnet', 'index_name':'multiscalecoarse', 'vectors':50273},\n",
    "    {'dataset':'objectnet', 'index_name':'multiscalemed', 'vectors':50273}    \n",
    "])\n",
    "\n",
    "size_df"
   ]
  },
  {
   "cell_type": "code",
   "execution_count": 230,
   "id": "a1688bed-8c73-4952-a239-a407d1bbb61c",
   "metadata": {
    "execution": {
     "iopub.execute_input": "2023-07-20T18:33:25.096213Z",
     "iopub.status.busy": "2023-07-20T18:33:25.095648Z",
     "iopub.status.idle": "2023-07-20T18:33:25.103135Z",
     "shell.execute_reply": "2023-07-20T18:33:25.101554Z",
     "shell.execute_reply.started": "2023-07-20T18:33:25.096181Z"
    }
   },
   "outputs": [],
   "source": [
    "def human_format(num):\n",
    "    num = float('{:.2g}'.format(num))\n",
    "    magnitude = 0\n",
    "    while abs(num) >= 1000:\n",
    "        magnitude += 1\n",
    "        num /= 1000.0\n",
    "    return '{}{}'.format('{:f}'.format(num).rstrip('0').rstrip('.'), ['', 'K', 'M', 'B', 'T'][magnitude])"
   ]
  },
  {
   "cell_type": "code",
   "execution_count": 235,
   "id": "8058f414-3dfd-4d7b-a6a6-a0176e9f593f",
   "metadata": {
    "execution": {
     "iopub.execute_input": "2023-07-20T18:36:10.364020Z",
     "iopub.status.busy": "2023-07-20T18:36:10.363429Z",
     "iopub.status.idle": "2023-07-20T18:36:10.369537Z",
     "shell.execute_reply": "2023-07-20T18:36:10.368432Z",
     "shell.execute_reply.started": "2023-07-20T18:36:10.363986Z"
    }
   },
   "outputs": [],
   "source": [
    "def table_dataset_name(dataset, index):\n",
    "    if index == 'multiscalemed':\n",
    "        return dataset\n",
    "    elif index == 'multiscalecoarse':\n",
    "        return dataset + '$^-$'\n",
    "    else:\n",
    "        assert False"
   ]
  },
  {
   "cell_type": "code",
   "execution_count": 45,
   "id": "66350d16-9d6f-42c3-ba29-ddda0bd22154",
   "metadata": {
    "execution": {
     "iopub.execute_input": "2023-07-21T06:26:13.495250Z",
     "iopub.status.busy": "2023-07-21T06:26:13.494841Z",
     "iopub.status.idle": "2023-07-21T06:26:13.929211Z",
     "shell.execute_reply": "2023-07-21T06:26:13.928924Z",
     "shell.execute_reply.started": "2023-07-21T06:26:13.495223Z"
    }
   },
   "outputs": [
    {
     "name": "stderr",
     "output_type": "stream",
     "text": [
      "/Users/orm/mambaforge/envs/seesaw/lib/python3.10/site-packages/numpy/core/fromnumeric.py:3464: RuntimeWarning: Mean of empty slice.\n",
      "/Users/orm/mambaforge/envs/seesaw/lib/python3.10/site-packages/numpy/core/_methods.py:192: RuntimeWarning: invalid value encountered in scalar divide\n",
      "/Users/orm/mambaforge/envs/seesaw/lib/python3.10/site-packages/numpy/core/_methods.py:269: RuntimeWarning: Degrees of freedom <= 0 for slice\n",
      "/Users/orm/mambaforge/envs/seesaw/lib/python3.10/site-packages/numpy/core/_methods.py:226: RuntimeWarning: invalid value encountered in divide\n",
      "/Users/orm/mambaforge/envs/seesaw/lib/python3.10/site-packages/numpy/core/_methods.py:261: RuntimeWarning: invalid value encountered in scalar divide\n"
     ]
    }
   ],
   "source": [
    "bdd_ignore = ['other vehicle', 'side traffic light', \n",
    "              'green traffic light', 'yellow traffic light', 'red traffic light', \n",
    "              'dawn or dusk', 'daytime', 'night']\n",
    "\n",
    "stats = summs.assign(**post_process(summs))\n",
    "stats = stats.assign(session_params_dict=stats.session_params.map(lambda p : json.loads(p)))\n",
    "stats = stats.assign(start_policy=stats.session_params_dict.map(lambda x : x['start_policy']))\n",
    "\n",
    "stats = stats.assign(latency_mean=stats.latencies.map(np.mean))\n",
    "stats = stats.assign(latency_stderr=stats.latencies.map(np.std))\n",
    "\n",
    "stats = stats.assign(variant=stats.variant.map(lambda name : {'baseline':'CLIP', 'multi_reg':'\\sys/', \n",
    "                                                              'active_search':'ENS', 'pseudo_lr_switch':'propagation', \n",
    "                                                              'rocchio_update':'Rocchio' }.get(name, name)))\n",
    "\n",
    "# avgs = (stats[['dataset', 'index_name', 'variant', 'latency_mean']]\n",
    "#         .groupby(['dataset', 'index_name', 'variant']).latency_mean.mean())\n",
    "\n",
    "# avgs2 = avgs.unstack().reset_index()\n",
    "\n",
    "# df = size_df.merge(avgs2,left_on=['dataset', 'index_name'], right_on=['dataset', 'index_name'], how='right')\n",
    "# df = df.assign(dataset=df.dataset.map(lambda name : {'objectnet':'ObjNet',\n",
    "#                     'bdd':'BDD',\n",
    "#                     'coco':'COCO/LVIS'}.get(name,None)))\n",
    "# df.insert(loc=0, column='dsplus', value=df[['dataset','index_name']].apply(tuple, axis=1).map(lambda tup: table_dataset_name(tup[0], tup[1])))\n",
    "# df = df.sort_values(['vectors'])\n",
    "\n",
    "# print(df.drop(['dataset', 'index_name'], axis=1)\n",
    "#       .style\n",
    "#       .format({'vectors':human_format},precision=2).hide(axis=0)\n",
    "#       .to_latex(column_format='l|r|rrrrr',\n",
    "#                 label=f'tab:latency',hrules=True,\n",
    "#                 clines='all;index', \n",
    "#                 caption=f'Iteration latency (in seconds) vs dataset scales (in vectors). $^-$ means coarse indexing (one vector per image)'))"
   ]
  },
  {
   "cell_type": "code",
   "execution_count": 46,
   "id": "01a5a1be-3ce9-4c56-8454-63af21cbd108",
   "metadata": {
    "execution": {
     "iopub.execute_input": "2023-07-21T06:26:22.225026Z",
     "iopub.status.busy": "2023-07-21T06:26:22.224444Z",
     "iopub.status.idle": "2023-07-21T06:26:22.232560Z",
     "shell.execute_reply": "2023-07-21T06:26:22.230422Z",
     "shell.execute_reply.started": "2023-07-21T06:26:22.224995Z"
    }
   },
   "outputs": [],
   "source": [
    "\n",
    "\n",
    "# ds.path='/data1/groups/fastai/omoll/seesaw_root2/data/bdd' ds.paths.shape[0]= p.index_spec.i_name='multiscalemed' idx.vectors.shape[0]=1597260\n",
    "# ds.path='/data1/groups/fastai/omoll/seesaw_root2/data/coco' ds.paths.shape[0]= p.index_spec.i_name='multiscalemed' idx.vectors.shape[0]=1614866\n",
    "# ds.path='/data1/groups/fastai/omoll/seesaw_root2/data/objectnet' ds.paths.shape[0]=50273 p.index_spec.i_name='multiscalemed' idx.vectors.shape[0]="
   ]
  },
  {
   "cell_type": "code",
   "execution_count": 47,
   "id": "eac8692f-22bd-44f5-a5c4-aec649a2aa67",
   "metadata": {
    "execution": {
     "iopub.execute_input": "2023-07-21T06:26:22.434055Z",
     "iopub.status.busy": "2023-07-21T06:26:22.433490Z",
     "iopub.status.idle": "2023-07-21T06:26:22.439452Z",
     "shell.execute_reply": "2023-07-21T06:26:22.438773Z",
     "shell.execute_reply.started": "2023-07-21T06:26:22.434019Z"
    }
   },
   "outputs": [],
   "source": [
    "#stats.session_params_dict.iloc[-1]"
   ]
  },
  {
   "cell_type": "code",
   "execution_count": 48,
   "id": "414902ba-27c7-4ada-aef7-ac117fda0371",
   "metadata": {
    "execution": {
     "iopub.execute_input": "2023-07-21T06:26:24.699576Z",
     "iopub.status.busy": "2023-07-21T06:26:24.699208Z",
     "iopub.status.idle": "2023-07-21T06:26:24.789410Z",
     "shell.execute_reply": "2023-07-21T06:26:24.788997Z",
     "shell.execute_reply.started": "2023-07-21T06:26:24.699552Z"
    },
    "tags": []
   },
   "outputs": [],
   "source": [
    "ps = (stats[['session_params_dict']]\n",
    "    .apply(apply_funs(get_active_search_params2, \n",
    "                      get_matrix_params, \n",
    "                      get_multi_reg_params,\n",
    "                        get_rocchio_params), axis=1, result_type='expand'))\n",
    "stats = stats.assign(**ps)\n",
    "\n",
    "stats = stats[stats.category.map(lambda x : x not in bdd_ignore and not x.endswith('weather') and not x.endswith('scene'))]\n",
    "\n",
    "subset = stats[stats.index_name.isin(['multiscalecoarse', 'multiscalemed']) \n",
    "                    &  stats.reg_norm_lambda.isin([np.nan, 100.]) \n",
    "                    & stats.variant.isin(['baseline', 'multi_reg', 'active_search', 'rocchio_update'])] "
   ]
  },
  {
   "cell_type": "code",
   "execution_count": 49,
   "id": "06256e3c-e03d-4fb5-acb8-59bdfd45ce93",
   "metadata": {
    "execution": {
     "iopub.execute_input": "2023-07-21T06:26:32.654928Z",
     "iopub.status.busy": "2023-07-21T06:26:32.654335Z",
     "iopub.status.idle": "2023-07-21T06:26:32.691911Z",
     "shell.execute_reply": "2023-07-21T06:26:32.691194Z",
     "shell.execute_reply.started": "2023-07-21T06:26:32.654886Z"
    }
   },
   "outputs": [],
   "source": [
    "old_eval_data = pd.read_parquet('../figures/eval_data.parquet')\n",
    "baseline_df = old_eval_data[old_eval_data.full_hash.eq('2501cb92_multiscalecoarse')]\n",
    "\n",
    "#subset = pd.read_parquet('./rocchio_hyperparam.parquet')\n",
    "subset = pd.concat([stats, baseline_df])"
   ]
  },
  {
   "cell_type": "code",
   "execution_count": 50,
   "id": "78bf2314-0d44-432f-991f-9d1ad4e4625a",
   "metadata": {
    "execution": {
     "iopub.execute_input": "2023-07-21T06:26:33.247325Z",
     "iopub.status.busy": "2023-07-21T06:26:33.246675Z",
     "iopub.status.idle": "2023-07-21T06:26:33.256895Z",
     "shell.execute_reply": "2023-07-21T06:26:33.256136Z",
     "shell.execute_reply.started": "2023-07-21T06:26:33.247295Z"
    }
   },
   "outputs": [],
   "source": [
    "def add_hard_queries(eval_data):\n",
    "    baseline_df = eval_data[eval_data.full_hash.eq('2501cb92_multiscalecoarse')]\n",
    "    hard_baseline_df = baseline_df[baseline_df.average_precision < .5]\n",
    "    hard_queries_df = hard_baseline_df[['dataset', 'category']].sort_values(['dataset', 'category']).reset_index(drop=True)\n",
    "    eval_hard_df = eval_data.merge(hard_queries_df, left_on=('dataset', 'category'), right_on=('dataset', 'category'), how='right')\n",
    "\n",
    "    eval_hard_df = eval_hard_df.assign(query_group='hard subset')\n",
    "    eval_df = eval_data.assign(query_group='all queries')\n",
    "    \n",
    "    full_df = pd.concat([eval_df, eval_hard_df], ignore_index=True).reset_index(drop=True)\n",
    "    full_df = full_df.assign(**{'query group':pd.Categorical(full_df.query_group, categories=['all queries', 'hard subset'], ordered=True)})\n",
    "    \n",
    "    return full_df"
   ]
  },
  {
   "cell_type": "code",
   "execution_count": 51,
   "id": "463e8032-0201-4141-8415-0669a9bfd48a",
   "metadata": {
    "execution": {
     "iopub.execute_input": "2023-07-21T06:26:34.919367Z",
     "iopub.status.busy": "2023-07-21T06:26:34.918772Z",
     "iopub.status.idle": "2023-07-21T06:26:34.960820Z",
     "shell.execute_reply": "2023-07-21T06:26:34.960263Z",
     "shell.execute_reply.started": "2023-07-21T06:26:34.919337Z"
    }
   },
   "outputs": [],
   "source": [
    "subset = add_hard_queries(subset)"
   ]
  },
  {
   "cell_type": "code",
   "execution_count": 52,
   "id": "26e35e3f-5e19-4108-aeec-92f35fdb933f",
   "metadata": {
    "execution": {
     "iopub.execute_input": "2023-07-21T06:26:35.553878Z",
     "iopub.status.busy": "2023-07-21T06:26:35.552941Z",
     "iopub.status.idle": "2023-07-21T06:26:35.565759Z",
     "shell.execute_reply": "2023-07-21T06:26:35.564743Z",
     "shell.execute_reply.started": "2023-07-21T06:26:35.553839Z"
    }
   },
   "outputs": [
    {
     "data": {
      "text/plain": [
       "array(['all queries', 'hard subset'], dtype=object)"
      ]
     },
     "execution_count": 52,
     "metadata": {},
     "output_type": "execute_result"
    }
   ],
   "source": [
    "subset.query_group.unique()"
   ]
  },
  {
   "cell_type": "code",
   "execution_count": 53,
   "id": "2bd3360d-6745-4c52-835b-7c90b2ac32e5",
   "metadata": {
    "execution": {
     "iopub.execute_input": "2023-07-21T06:26:37.354368Z",
     "iopub.status.busy": "2023-07-21T06:26:37.353777Z",
     "iopub.status.idle": "2023-07-21T06:26:37.359223Z",
     "shell.execute_reply": "2023-07-21T06:26:37.358385Z",
     "shell.execute_reply.started": "2023-07-21T06:26:37.354338Z"
    },
    "tags": []
   },
   "outputs": [],
   "source": [
    "base_cols =  ['param_hash', 'index_name',  'timestamp', 'dataset', 'category','query_group']\n",
    "detail_cols = ['full_hash', 'start_policy', 'variant', 'calibration', 'reward_horizon', 'pos_weight', 'reg_data_lambda', 'reg_query_lambda', 'reg_norm_lambda',\n",
    "                          'rocchio_beta', 'rocchio_gamma']\n",
    "metric_cols = ['reciprocal_rank', 'ndcg_score', 'average_precision']"
   ]
  },
  {
   "cell_type": "code",
   "execution_count": 54,
   "id": "f76512ac-34a4-4bc0-9939-6344c150b37d",
   "metadata": {
    "execution": {
     "iopub.execute_input": "2023-07-21T06:26:37.604610Z",
     "iopub.status.busy": "2023-07-21T06:26:37.604089Z",
     "iopub.status.idle": "2023-07-21T06:26:37.611996Z",
     "shell.execute_reply": "2023-07-21T06:26:37.610701Z",
     "shell.execute_reply.started": "2023-07-21T06:26:37.604565Z"
    },
    "tags": []
   },
   "outputs": [],
   "source": [
    "eval_data = subset[base_cols + detail_cols + metric_cols]"
   ]
  },
  {
   "cell_type": "code",
   "execution_count": 62,
   "id": "0b79e3ce-5444-4a10-b4bd-e94386c316d3",
   "metadata": {
    "execution": {
     "iopub.execute_input": "2023-07-21T06:27:45.526418Z",
     "iopub.status.busy": "2023-07-21T06:27:45.525630Z",
     "iopub.status.idle": "2023-07-21T06:27:45.557744Z",
     "shell.execute_reply": "2023-07-21T06:27:45.557188Z",
     "shell.execute_reply.started": "2023-07-21T06:27:45.526367Z"
    }
   },
   "outputs": [
    {
     "data": {
      "text/html": [
       "<style type=\"text/css\">\n",
       "#T_f96e6_row0_col3, #T_f96e6_row0_col4, #T_f96e6_row0_col5, #T_f96e6_row0_col6, #T_f96e6_row0_col7, #T_f96e6_row1_col3, #T_f96e6_row1_col4, #T_f96e6_row1_col5, #T_f96e6_row1_col6, #T_f96e6_row1_col7, #T_f96e6_row2_col3, #T_f96e6_row2_col4, #T_f96e6_row2_col5, #T_f96e6_row2_col6, #T_f96e6_row2_col7, #T_f96e6_row3_col3, #T_f96e6_row3_col4, #T_f96e6_row3_col5, #T_f96e6_row3_col6, #T_f96e6_row3_col7, #T_f96e6_row4_col3, #T_f96e6_row4_col4, #T_f96e6_row4_col5, #T_f96e6_row4_col6, #T_f96e6_row4_col7, #T_f96e6_row5_col3, #T_f96e6_row5_col4, #T_f96e6_row5_col5, #T_f96e6_row5_col6, #T_f96e6_row5_col7, #T_f96e6_row5_col10, #T_f96e6_row5_col11, #T_f96e6_row5_col12, #T_f96e6_row5_col13, #T_f96e6_row5_col14 {\n",
       "  background-color: #fff7fb;\n",
       "  color: #000000;\n",
       "}\n",
       "#T_f96e6_row0_col10, #T_f96e6_row0_col11, #T_f96e6_row0_col12, #T_f96e6_row0_col13, #T_f96e6_row0_col14 {\n",
       "  background-color: #023858;\n",
       "  color: #f1f1f1;\n",
       "}\n",
       "#T_f96e6_row1_col10 {\n",
       "  background-color: #023d60;\n",
       "  color: #f1f1f1;\n",
       "}\n",
       "#T_f96e6_row1_col11 {\n",
       "  background-color: #034b76;\n",
       "  color: #f1f1f1;\n",
       "}\n",
       "#T_f96e6_row1_col12, #T_f96e6_row2_col14 {\n",
       "  background-color: #034973;\n",
       "  color: #f1f1f1;\n",
       "}\n",
       "#T_f96e6_row1_col13 {\n",
       "  background-color: #0c74b2;\n",
       "  color: #f1f1f1;\n",
       "}\n",
       "#T_f96e6_row1_col14 {\n",
       "  background-color: #034f7d;\n",
       "  color: #f1f1f1;\n",
       "}\n",
       "#T_f96e6_row2_col10 {\n",
       "  background-color: #023a5b;\n",
       "  color: #f1f1f1;\n",
       "}\n",
       "#T_f96e6_row2_col11 {\n",
       "  background-color: #03456c;\n",
       "  color: #f1f1f1;\n",
       "}\n",
       "#T_f96e6_row2_col12 {\n",
       "  background-color: #045585;\n",
       "  color: #f1f1f1;\n",
       "}\n",
       "#T_f96e6_row2_col13 {\n",
       "  background-color: #045d92;\n",
       "  color: #f1f1f1;\n",
       "}\n",
       "#T_f96e6_row3_col10 {\n",
       "  background-color: #faf2f8;\n",
       "  color: #000000;\n",
       "}\n",
       "#T_f96e6_row3_col11 {\n",
       "  background-color: #b3c3de;\n",
       "  color: #000000;\n",
       "}\n",
       "#T_f96e6_row3_col12 {\n",
       "  background-color: #dddbec;\n",
       "  color: #000000;\n",
       "}\n",
       "#T_f96e6_row3_col13 {\n",
       "  background-color: #d1d2e6;\n",
       "  color: #000000;\n",
       "}\n",
       "#T_f96e6_row3_col14 {\n",
       "  background-color: #dcdaeb;\n",
       "  color: #000000;\n",
       "}\n",
       "#T_f96e6_row4_col10 {\n",
       "  background-color: #f7f0f7;\n",
       "  color: #000000;\n",
       "}\n",
       "#T_f96e6_row4_col11 {\n",
       "  background-color: #f4edf6;\n",
       "  color: #000000;\n",
       "}\n",
       "#T_f96e6_row4_col12 {\n",
       "  background-color: #ece7f2;\n",
       "  color: #000000;\n",
       "}\n",
       "#T_f96e6_row4_col13 {\n",
       "  background-color: #fef6fa;\n",
       "  color: #000000;\n",
       "}\n",
       "#T_f96e6_row4_col14 {\n",
       "  background-color: #f5eef6;\n",
       "  color: #000000;\n",
       "}\n",
       "</style>\n",
       "<table id=\"T_f96e6\">\n",
       "  <thead>\n",
       "    <tr>\n",
       "      <th class=\"index_name level0\" >dataset</th>\n",
       "      <th id=\"T_f96e6_level0_col0\" class=\"col_heading level0 col0\" >query_group</th>\n",
       "      <th id=\"T_f96e6_level0_col1\" class=\"col_heading level0 col1\" >index_name</th>\n",
       "      <th id=\"T_f96e6_level0_col2\" class=\"col_heading level0 col2\" >variant</th>\n",
       "      <th id=\"T_f96e6_level0_col3\" class=\"col_heading level0 col3\" >reg_query_lambda</th>\n",
       "      <th id=\"T_f96e6_level0_col4\" class=\"col_heading level0 col4\" >reg_data_lambda</th>\n",
       "      <th id=\"T_f96e6_level0_col5\" class=\"col_heading level0 col5\" >reg_norm_lambda</th>\n",
       "      <th id=\"T_f96e6_level0_col6\" class=\"col_heading level0 col6\" >rocchio_beta</th>\n",
       "      <th id=\"T_f96e6_level0_col7\" class=\"col_heading level0 col7\" >rocchio_gamma</th>\n",
       "      <th id=\"T_f96e6_level0_col8\" class=\"col_heading level0 col8\" >param_hash</th>\n",
       "      <th id=\"T_f96e6_level0_col9\" class=\"col_heading level0 col9\" >timestamp</th>\n",
       "      <th id=\"T_f96e6_level0_col10\" class=\"col_heading level0 col10\" >bdd</th>\n",
       "      <th id=\"T_f96e6_level0_col11\" class=\"col_heading level0 col11\" >coco</th>\n",
       "      <th id=\"T_f96e6_level0_col12\" class=\"col_heading level0 col12\" >lvis</th>\n",
       "      <th id=\"T_f96e6_level0_col13\" class=\"col_heading level0 col13\" >objectnet</th>\n",
       "      <th id=\"T_f96e6_level0_col14\" class=\"col_heading level0 col14\" >average</th>\n",
       "    </tr>\n",
       "  </thead>\n",
       "  <tbody>\n",
       "    <tr>\n",
       "      <th id=\"T_f96e6_level0_row0\" class=\"row_heading level0 row0\" >0</th>\n",
       "      <td id=\"T_f96e6_row0_col0\" class=\"data row0 col0\" >all queries</td>\n",
       "      <td id=\"T_f96e6_row0_col1\" class=\"data row0 col1\" >multiscalecoarse</td>\n",
       "      <td id=\"T_f96e6_row0_col2\" class=\"data row0 col2\" >Rocchio</td>\n",
       "      <td id=\"T_f96e6_row0_col3\" class=\"data row0 col3\" >nan</td>\n",
       "      <td id=\"T_f96e6_row0_col4\" class=\"data row0 col4\" >nan</td>\n",
       "      <td id=\"T_f96e6_row0_col5\" class=\"data row0 col5\" >nan</td>\n",
       "      <td id=\"T_f96e6_row0_col6\" class=\"data row0 col6\" >0.50</td>\n",
       "      <td id=\"T_f96e6_row0_col7\" class=\"data row0 col7\" >0.25</td>\n",
       "      <td id=\"T_f96e6_row0_col8\" class=\"data row0 col8\" >c45449fc</td>\n",
       "      <td id=\"T_f96e6_row0_col9\" class=\"data row0 col9\" >2023-07-20 21:43:03.560166</td>\n",
       "      <td id=\"T_f96e6_row0_col10\" class=\"data row0 col10\" >0.75</td>\n",
       "      <td id=\"T_f96e6_row0_col11\" class=\"data row0 col11\" >0.93</td>\n",
       "      <td id=\"T_f96e6_row0_col12\" class=\"data row0 col12\" >0.68</td>\n",
       "      <td id=\"T_f96e6_row0_col13\" class=\"data row0 col13\" >0.70</td>\n",
       "      <td id=\"T_f96e6_row0_col14\" class=\"data row0 col14\" >0.76</td>\n",
       "    </tr>\n",
       "    <tr>\n",
       "      <th id=\"T_f96e6_level0_row1\" class=\"row_heading level0 row1\" >1</th>\n",
       "      <td id=\"T_f96e6_row1_col0\" class=\"data row1 col0\" >all queries</td>\n",
       "      <td id=\"T_f96e6_row1_col1\" class=\"data row1 col1\" >multiscalecoarse</td>\n",
       "      <td id=\"T_f96e6_row1_col2\" class=\"data row1 col2\" >\\sys/</td>\n",
       "      <td id=\"T_f96e6_row1_col3\" class=\"data row1 col3\" >0.00</td>\n",
       "      <td id=\"T_f96e6_row1_col4\" class=\"data row1 col4\" >0.00</td>\n",
       "      <td id=\"T_f96e6_row1_col5\" class=\"data row1 col5\" >100.00</td>\n",
       "      <td id=\"T_f96e6_row1_col6\" class=\"data row1 col6\" >nan</td>\n",
       "      <td id=\"T_f96e6_row1_col7\" class=\"data row1 col7\" >nan</td>\n",
       "      <td id=\"T_f96e6_row1_col8\" class=\"data row1 col8\" >799bf389</td>\n",
       "      <td id=\"T_f96e6_row1_col9\" class=\"data row1 col9\" >2023-07-21 02:24:56.023244</td>\n",
       "      <td id=\"T_f96e6_row1_col10\" class=\"data row1 col10\" >0.73</td>\n",
       "      <td id=\"T_f96e6_row1_col11\" class=\"data row1 col11\" >0.88</td>\n",
       "      <td id=\"T_f96e6_row1_col12\" class=\"data row1 col12\" >0.65</td>\n",
       "      <td id=\"T_f96e6_row1_col13\" class=\"data row1 col13\" >0.58</td>\n",
       "      <td id=\"T_f96e6_row1_col14\" class=\"data row1 col14\" >0.71</td>\n",
       "    </tr>\n",
       "    <tr>\n",
       "      <th id=\"T_f96e6_level0_row2\" class=\"row_heading level0 row2\" >2</th>\n",
       "      <td id=\"T_f96e6_row2_col0\" class=\"data row2 col0\" >all queries</td>\n",
       "      <td id=\"T_f96e6_row2_col1\" class=\"data row2 col1\" >multiscalecoarse</td>\n",
       "      <td id=\"T_f96e6_row2_col2\" class=\"data row2 col2\" >baseline</td>\n",
       "      <td id=\"T_f96e6_row2_col3\" class=\"data row2 col3\" >nan</td>\n",
       "      <td id=\"T_f96e6_row2_col4\" class=\"data row2 col4\" >nan</td>\n",
       "      <td id=\"T_f96e6_row2_col5\" class=\"data row2 col5\" >nan</td>\n",
       "      <td id=\"T_f96e6_row2_col6\" class=\"data row2 col6\" >nan</td>\n",
       "      <td id=\"T_f96e6_row2_col7\" class=\"data row2 col7\" >nan</td>\n",
       "      <td id=\"T_f96e6_row2_col8\" class=\"data row2 col8\" >2501cb92</td>\n",
       "      <td id=\"T_f96e6_row2_col9\" class=\"data row2 col9\" >2023-03-15 17:42:10</td>\n",
       "      <td id=\"T_f96e6_row2_col10\" class=\"data row2 col10\" >0.74</td>\n",
       "      <td id=\"T_f96e6_row2_col11\" class=\"data row2 col11\" >0.90</td>\n",
       "      <td id=\"T_f96e6_row2_col12\" class=\"data row2 col12\" >0.63</td>\n",
       "      <td id=\"T_f96e6_row2_col13\" class=\"data row2 col13\" >0.64</td>\n",
       "      <td id=\"T_f96e6_row2_col14\" class=\"data row2 col14\" >0.72</td>\n",
       "    </tr>\n",
       "    <tr>\n",
       "      <th id=\"T_f96e6_level0_row3\" class=\"row_heading level0 row3\" >3</th>\n",
       "      <td id=\"T_f96e6_row3_col0\" class=\"data row3 col0\" >hard subset</td>\n",
       "      <td id=\"T_f96e6_row3_col1\" class=\"data row3 col1\" >multiscalecoarse</td>\n",
       "      <td id=\"T_f96e6_row3_col2\" class=\"data row3 col2\" >Rocchio</td>\n",
       "      <td id=\"T_f96e6_row3_col3\" class=\"data row3 col3\" >nan</td>\n",
       "      <td id=\"T_f96e6_row3_col4\" class=\"data row3 col4\" >nan</td>\n",
       "      <td id=\"T_f96e6_row3_col5\" class=\"data row3 col5\" >nan</td>\n",
       "      <td id=\"T_f96e6_row3_col6\" class=\"data row3 col6\" >0.50</td>\n",
       "      <td id=\"T_f96e6_row3_col7\" class=\"data row3 col7\" >0.25</td>\n",
       "      <td id=\"T_f96e6_row3_col8\" class=\"data row3 col8\" >c45449fc</td>\n",
       "      <td id=\"T_f96e6_row3_col9\" class=\"data row3 col9\" >2023-07-20 21:43:03.560166</td>\n",
       "      <td id=\"T_f96e6_row3_col10\" class=\"data row3 col10\" >0.05</td>\n",
       "      <td id=\"T_f96e6_row3_col11\" class=\"data row3 col11\" >0.49</td>\n",
       "      <td id=\"T_f96e6_row3_col12\" class=\"data row3 col12\" >0.28</td>\n",
       "      <td id=\"T_f96e6_row3_col13\" class=\"data row3 col13\" >0.38</td>\n",
       "      <td id=\"T_f96e6_row3_col14\" class=\"data row3 col14\" >0.30</td>\n",
       "    </tr>\n",
       "    <tr>\n",
       "      <th id=\"T_f96e6_level0_row4\" class=\"row_heading level0 row4\" >4</th>\n",
       "      <td id=\"T_f96e6_row4_col0\" class=\"data row4 col0\" >hard subset</td>\n",
       "      <td id=\"T_f96e6_row4_col1\" class=\"data row4 col1\" >multiscalecoarse</td>\n",
       "      <td id=\"T_f96e6_row4_col2\" class=\"data row4 col2\" >\\sys/</td>\n",
       "      <td id=\"T_f96e6_row4_col3\" class=\"data row4 col3\" >0.00</td>\n",
       "      <td id=\"T_f96e6_row4_col4\" class=\"data row4 col4\" >0.00</td>\n",
       "      <td id=\"T_f96e6_row4_col5\" class=\"data row4 col5\" >100.00</td>\n",
       "      <td id=\"T_f96e6_row4_col6\" class=\"data row4 col6\" >nan</td>\n",
       "      <td id=\"T_f96e6_row4_col7\" class=\"data row4 col7\" >nan</td>\n",
       "      <td id=\"T_f96e6_row4_col8\" class=\"data row4 col8\" >799bf389</td>\n",
       "      <td id=\"T_f96e6_row4_col9\" class=\"data row4 col9\" >2023-07-21 02:24:56.023244</td>\n",
       "      <td id=\"T_f96e6_row4_col10\" class=\"data row4 col10\" >0.06</td>\n",
       "      <td id=\"T_f96e6_row4_col11\" class=\"data row4 col11\" >0.32</td>\n",
       "      <td id=\"T_f96e6_row4_col12\" class=\"data row4 col12\" >0.25</td>\n",
       "      <td id=\"T_f96e6_row4_col13\" class=\"data row4 col13\" >0.28</td>\n",
       "      <td id=\"T_f96e6_row4_col14\" class=\"data row4 col14\" >0.23</td>\n",
       "    </tr>\n",
       "    <tr>\n",
       "      <th id=\"T_f96e6_level0_row5\" class=\"row_heading level0 row5\" >5</th>\n",
       "      <td id=\"T_f96e6_row5_col0\" class=\"data row5 col0\" >hard subset</td>\n",
       "      <td id=\"T_f96e6_row5_col1\" class=\"data row5 col1\" >multiscalecoarse</td>\n",
       "      <td id=\"T_f96e6_row5_col2\" class=\"data row5 col2\" >baseline</td>\n",
       "      <td id=\"T_f96e6_row5_col3\" class=\"data row5 col3\" >nan</td>\n",
       "      <td id=\"T_f96e6_row5_col4\" class=\"data row5 col4\" >nan</td>\n",
       "      <td id=\"T_f96e6_row5_col5\" class=\"data row5 col5\" >nan</td>\n",
       "      <td id=\"T_f96e6_row5_col6\" class=\"data row5 col6\" >nan</td>\n",
       "      <td id=\"T_f96e6_row5_col7\" class=\"data row5 col7\" >nan</td>\n",
       "      <td id=\"T_f96e6_row5_col8\" class=\"data row5 col8\" >2501cb92</td>\n",
       "      <td id=\"T_f96e6_row5_col9\" class=\"data row5 col9\" >2023-03-15 17:42:10</td>\n",
       "      <td id=\"T_f96e6_row5_col10\" class=\"data row5 col10\" >0.02</td>\n",
       "      <td id=\"T_f96e6_row5_col11\" class=\"data row5 col11\" >0.27</td>\n",
       "      <td id=\"T_f96e6_row5_col12\" class=\"data row5 col12\" >0.19</td>\n",
       "      <td id=\"T_f96e6_row5_col13\" class=\"data row5 col13\" >0.28</td>\n",
       "      <td id=\"T_f96e6_row5_col14\" class=\"data row5 col14\" >0.19</td>\n",
       "    </tr>\n",
       "  </tbody>\n",
       "</table>\n"
      ],
      "text/plain": [
       "<pandas.io.formats.style.Styler at 0x2ae522980>"
      ]
     },
     "metadata": {},
     "output_type": "display_data"
    }
   ],
   "source": [
    "s = display_means(eval_data,  metric='average_precision', other_cols=['query_group', 'index_name', 'variant',   'reg_query_lambda', 'reg_data_lambda', 'reg_norm_lambda', 'rocchio_beta', 'rocchio_gamma'], return_totals=True)"
   ]
  },
  {
   "cell_type": "code",
   "execution_count": 63,
   "id": "0d7c308e-a16c-442c-9bf1-951c2eac77b7",
   "metadata": {
    "execution": {
     "iopub.execute_input": "2023-07-21T06:28:19.880589Z",
     "iopub.status.busy": "2023-07-21T06:28:19.880013Z",
     "iopub.status.idle": "2023-07-21T06:28:19.898596Z",
     "shell.execute_reply": "2023-07-21T06:28:19.897909Z",
     "shell.execute_reply.started": "2023-07-21T06:28:19.880558Z"
    }
   },
   "outputs": [
    {
     "name": "stdout",
     "output_type": "stream",
     "text": [
      "\\begin{table}\n",
      "\\caption{hyperparamters vs AP}\n",
      "\\label{tab:hyperparam}\n",
      "\\begin{tabular}{lllrrrrr}\n",
      "\\toprule\n",
      "dataset & query_group & variant & LVIS & ObjNet & COCO & BDD & Avg. \\\\\n",
      "\\midrule\n",
      "0 & all queries & Rocchio & 0.68 & 0.70 & 0.93 & 0.75 & 0.76 \\\\\n",
      "\\cline{1-1}\n",
      "1 & all queries & \\sys/ & 0.65 & 0.58 & 0.88 & 0.73 & 0.71 \\\\\n",
      "\\cline{1-1}\n",
      "2 & all queries & baseline & 0.63 & 0.64 & 0.90 & 0.74 & 0.72 \\\\\n",
      "\\cline{1-1}\n",
      "3 & hard subset & Rocchio & 0.28 & 0.38 & 0.49 & 0.05 & 0.30 \\\\\n",
      "\\cline{1-1}\n",
      "4 & hard subset & \\sys/ & 0.25 & 0.28 & 0.32 & 0.06 & 0.23 \\\\\n",
      "\\cline{1-1}\n",
      "5 & hard subset & baseline & 0.19 & 0.28 & 0.27 & 0.02 & 0.19 \\\\\n",
      "\\cline{1-1}\n",
      "\\bottomrule\n",
      "\\end{tabular}\n",
      "\\end{table}\n",
      "\n"
     ]
    }
   ],
   "source": [
    "tabs = s.drop([ 'index_name', 'timestamp', 'param_hash'], axis=1)\n",
    "tabs = tabs[tabs.variant.isin(['baseline', 'Rocchio', '\\sys/'])]\n",
    "\n",
    "# gp = tabs.groupby(['query_group','variant', ])\n",
    "#     gp = gp.dropna(axis=1)\n",
    "   # gp = gp.drop(['variant', 'query_group'], axis=1)\n",
    "gp = tabs.rename({'reg_norm_lambda':'$\\\\lambda$',\n",
    "                'reg_query_lambda':'$\\\\lambda_q$',\n",
    "                'reg_data_lambda':'$\\\\lambda_D$',   \n",
    "                'rocchio_beta':'$\\\\beta$',\n",
    "               'rocchio_gamma':'$\\\\gamma$',\n",
    "               'lvis':'LVIS',\n",
    "                'objectnet':'ObjNet',\n",
    "                'average':'Avg.',\n",
    "                'bdd':'BDD',\n",
    "                'coco':'COCO',\n",
    "               }, axis=1)\n",
    "\n",
    "#    gp.assign(variant=gp.variant.map(lambda v : {'multi_reg':'this work', 'rocchio_update':'Rocchio'}.get(v,v))\n",
    "str = (gp[['query_group', 'variant', 'LVIS', 'ObjNet','COCO', 'BDD', 'Avg.']].style\n",
    "#           .hide(axis=0)\n",
    "           .format(formatter={'$\\\\lambda$':'{:.0f}', '$\\\\lambda_q$':'{:.0f}', '$\\\\lambda_D$':'{:.0f}'}, precision=2)\n",
    "          # .highlight_max(axis=0, subset=['LVIS', 'ObjNet','COCO', 'BDD', 'Avg.'], props='bfseries: ;')\n",
    "           .to_latex(label=f'tab:hyperparam',hrules=True,\n",
    "                     clines='all;index', caption=f'hyperparamters vs AP'))\n",
    "print(str)"
   ]
  },
  {
   "cell_type": "code",
   "execution_count": 61,
   "id": "34987a3b-3384-447e-b88b-b858863aad1b",
   "metadata": {
    "execution": {
     "iopub.execute_input": "2023-07-16T23:52:29.954887Z",
     "iopub.status.busy": "2023-07-16T23:52:29.954230Z",
     "iopub.status.idle": "2023-07-16T23:52:29.962637Z",
     "shell.execute_reply": "2023-07-16T23:52:29.960837Z",
     "shell.execute_reply.started": "2023-07-16T23:52:29.954852Z"
    }
   },
   "outputs": [],
   "source": [
    "# summary table\n",
    "summ = s[s.param_hash.isin(['583a1edc', 'c45449fc'])]"
   ]
  },
  {
   "cell_type": "code",
   "execution_count": 62,
   "id": "2822aff9-bfe8-4ec1-97a8-51119ee88ca3",
   "metadata": {
    "execution": {
     "iopub.execute_input": "2023-07-16T23:52:30.174461Z",
     "iopub.status.busy": "2023-07-16T23:52:30.173826Z",
     "iopub.status.idle": "2023-07-16T23:52:30.182954Z",
     "shell.execute_reply": "2023-07-16T23:52:30.181984Z",
     "shell.execute_reply.started": "2023-07-16T23:52:30.174424Z"
    }
   },
   "outputs": [],
   "source": [
    "summ = summ[['query_group', 'variant', 'bdd', 'coco','lvis','objectnet','average']]\n",
    "summ = summ.rename({'reg_norm_lambda':'$\\\\lambda$',\n",
    "                    'reg_query_lambda':'$\\\\lambda_q$',\n",
    "                    'reg_data_lambda':'$\\\\lambda_D$',   \n",
    "                    'rocchio_beta':'$\\\\beta$',\n",
    "                   'rocchio_gamma':'$\\\\gamma$',\n",
    "                   'lvis':'LVIS',\n",
    "                    'objectnet':'ObjNet',\n",
    "                    'average':'Avg.',\n",
    "                    'bdd':'BDD',\n",
    "                    'coco':'COCO',\n",
    "                    'query_group':'query group',\n",
    "                   }, axis=1)\n"
   ]
  },
  {
   "cell_type": "code",
   "execution_count": 63,
   "id": "2721f05b-a964-40f3-ad1b-25a5c22c38f6",
   "metadata": {
    "execution": {
     "iopub.execute_input": "2023-07-16T23:52:36.467782Z",
     "iopub.status.busy": "2023-07-16T23:52:36.467156Z",
     "iopub.status.idle": "2023-07-16T23:52:36.475427Z",
     "shell.execute_reply": "2023-07-16T23:52:36.473912Z",
     "shell.execute_reply.started": "2023-07-16T23:52:36.467750Z"
    }
   },
   "outputs": [],
   "source": [
    "summ = summ.assign(variant=summ.variant.map(lambda nm : {'multi_reg':'this work', 'rocchio_update':'Rocchio'}.get(nm,nm)))"
   ]
  },
  {
   "cell_type": "code",
   "execution_count": 64,
   "id": "765bd754-47f3-4aca-be28-9bcc6bda428e",
   "metadata": {
    "execution": {
     "iopub.execute_input": "2023-07-16T23:52:37.032477Z",
     "iopub.status.busy": "2023-07-16T23:52:37.031929Z",
     "iopub.status.idle": "2023-07-16T23:52:37.048732Z",
     "shell.execute_reply": "2023-07-16T23:52:37.047996Z",
     "shell.execute_reply.started": "2023-07-16T23:52:37.032441Z"
    }
   },
   "outputs": [
    {
     "name": "stdout",
     "output_type": "stream",
     "text": [
      "\\begin{table}\n",
      "\\caption{sensitivity to hyperparamters for method:rocchio_update}\n",
      "\\label{tab:hyperparam_rocchio_update}\n",
      "\\begin{tabular}{llrrrrr}\n",
      "\\toprule\n",
      "query group & variant & BDD & COCO & LVIS & ObjNet & Avg. \\\\\n",
      "\\midrule\n",
      "all queries & this work & \\bfseries 0.79 & 0.96 & \\bfseries 0.76 & \\bfseries 0.70 & \\bfseries 0.80 \\\\\n",
      "all queries & Rocchio & 0.75 & \\bfseries 0.97 & 0.74 & 0.70 & 0.79 \\\\\n",
      "hard subset & this work & 0.24 & 0.75 & 0.44 & 0.40 & 0.46 \\\\\n",
      "hard subset & Rocchio & 0.09 & 0.86 & 0.40 & 0.38 & 0.43 \\\\\n",
      "\\bottomrule\n",
      "\\end{tabular}\n",
      "\\end{table}\n",
      "\n"
     ]
    }
   ],
   "source": [
    "str = (summ.style\n",
    "               .hide(axis=0)\n",
    "               .format(precision=2)\n",
    "               .highlight_max(axis=0, subset=['BDD', 'COCO', 'LVIS', 'ObjNet', 'Avg.'], props='bfseries: ;')\n",
    "               .to_latex(label=f'tab:hyperparam_{k}',hrules=True,\n",
    "                         clines='all;index', caption=f'sensitivity to hyperparamters for method:{k}'))\n",
    "print(str)"
   ]
  }
 ],
 "metadata": {
  "kernelspec": {
   "display_name": "Python 3.10 (seesaw)",
   "language": "python",
   "name": "seesaw"
  },
  "language_info": {
   "codemirror_mode": {
    "name": "ipython",
    "version": 3
   },
   "file_extension": ".py",
   "mimetype": "text/x-python",
   "name": "python",
   "nbconvert_exporter": "python",
   "pygments_lexer": "ipython3",
   "version": "3.10.12"
  },
  "toc": {
   "base_numbering": 1,
   "nav_menu": {},
   "number_sections": true,
   "sideBar": true,
   "skip_h1_title": false,
   "title_cell": "Table of Contents",
   "title_sidebar": "Contents",
   "toc_cell": false,
   "toc_position": {},
   "toc_section_display": true,
   "toc_window_display": false
  },
  "varInspector": {
   "cols": {
    "lenName": 16,
    "lenType": 16,
    "lenVar": 40
   },
   "kernels_config": {
    "python": {
     "delete_cmd_postfix": "",
     "delete_cmd_prefix": "del ",
     "library": "var_list.py",
     "varRefreshCmd": "print(var_dic_list())"
    },
    "r": {
     "delete_cmd_postfix": ") ",
     "delete_cmd_prefix": "rm(",
     "library": "var_list.r",
     "varRefreshCmd": "cat(var_dic_list()) "
    }
   },
   "types_to_exclude": [
    "module",
    "function",
    "builtin_function_or_method",
    "instance",
    "_Feature"
   ],
   "window_display": false
  }
 },
 "nbformat": 4,
 "nbformat_minor": 5
}
